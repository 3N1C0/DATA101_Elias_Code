{
 "cells": [
  {
   "cell_type": "markdown",
   "id": "33738fde-205d-4e95-b885-807e97a8adf6",
   "metadata": {},
   "source": [
    "## Introduction to Data Science\n",
    "\n",
    "#### University of Redlands - DATA 101\n",
    "#### Prof: Joanna Bieri [joanna_bieri@redlands.edu](mailto:joanna_bieri@redlands.edu)\n",
    "#### [Class Website: data101.joannabieri.com](https://joannabieri.com/data101.html)\n",
    "\n",
    "---------------------------------------\n",
    "# Homework Day 12\n",
    "---------------------------------------\n",
    "\n",
    "GOALS:\n",
    "\n",
    "1. Talk about Ethics of Web Scraping\n",
    "2. Practice web scraping.\n",
    "\n",
    "----------------------------------------------------------\n",
    "\n",
    "This homework has **3 questions**, **1 exercise** and **1 optional challenge problem**."
   ]
  },
  {
   "cell_type": "markdown",
   "id": "2bf78cd1",
   "metadata": {},
   "source": [
    "## Important Information\n",
    "\n",
    "- Email: [joanna_bieri@redlands.edu](mailto:joanna_bieri@redlands.edu)\n",
    "- Office Hours: Duke 209 <a href=\"https://joannabieri.com/schedule.html\"> Click Here for Joanna's Schedule</a>\n",
    "\n",
    "## Announcements\n",
    "\n",
    "**In NEXT WEEK - Data Ethics** This week you should be reading your book or articles.\n",
    "\n",
    "------------------------------\n",
    "---------------------\n",
    "\n",
    "### Web Scraping Ethical Issues\n",
    "\n",
    "There are some things to be aware of before you start scraping data from the web. \n",
    "\n",
    "- Some data is private or protected. Just because you have access to a websites data doesn't mean you are allowed to scrape it. For example, when you log into Facebook or another social media site, you are granted special access to data about your connected people. It is unethical to use that access to scrape their private data!\n",
    "\n",
    "- Some websites have rules against scraping and will cut of service to users who are clearly scraping data. How do they know? Webscrapers access the website very differently that regular users. If they site has a policy about scraping data then you should follow it and/or content them about getting the data if you have a true academic interest in the data.\n",
    "\n",
    "- The line between web scraping and plagiarism can be very blurry. Make sure that you are citing where your data comes from AND not just reproducing the data exactly. Always citing the source of your data and make sure you are doing something new with it.\n",
    "\n",
    "- Ethics are different depending on if you are using the data for a personal project (eg. you just want to check scores for your favorite team daily and print the stuff you care about) vs if you are using the project for your business or website (eg. publishing information to drive clicks to your site/video/account or making money from the data you collect). In the later case it is EXTRA important to respect the original owner of the data. Drive web traffic back to their site, check with them about using their data, etc.\n",
    "\n",
    "**The Ethical Scraper** (from https://towardsdatascience.com/ethics-in-web-scraping-b96b18136f01):\n",
    "\n",
    "I, the web scraper will live by the following principles:\n",
    "\n",
    "- If you have a public API that provides the data I’m looking for, I’ll use it and avoid scraping all together.\n",
    "- I will always provide a User Agent string that makes my intentions clear and provides a way for you to contact me with questions or concerns.\n",
    "- I will request data at a reasonable rate. I will strive to never be confused for a DDoS attack.\n",
    "- I will only save the data I absolutely need from your page. If all I need it OpenGraph meta-data, that’s all I’ll keep.\n",
    "- I will respect any content I do keep. I’ll never pass it off as my own.\n",
    "- I will look for ways to return value to you. Maybe I can drive some (real) traffic to your site or credit you in an article or post.\n",
    "- I will respond in a timely fashion to your outreach and work with you towards a resolution.\n",
    "- I will scrape for the purpose of creating new value from the data, not to duplicate it."
   ]
  },
  {
   "cell_type": "code",
   "execution_count": 273,
   "id": "b608007e",
   "metadata": {},
   "outputs": [],
   "source": [
    "import numpy as np\n",
    "import pandas as pd\n",
    "\n",
    "import matplotlib.pyplot as plt\n",
    "import plotly.express as px\n",
    "from plotly.subplots import make_subplots\n",
    "import plotly.io as pio\n",
    "pio.renderers.default = 'colab'\n",
    "\n",
    "from itables import show\n",
    "\n",
    "# This stops a few warning messages from showing\n",
    "pd.options.mode.chained_assignment = None \n",
    "import warnings\n",
    "warnings.simplefilter(action='ignore', category=FutureWarning)"
   ]
  },
  {
   "cell_type": "code",
   "execution_count": 274,
   "id": "cd38c98b-cc3d-4150-973e-b7bc883f0b74",
   "metadata": {},
   "outputs": [],
   "source": [
    "my_website = \"https://www.basketball-reference.com/teams/SAS/2026.html#per_game_stats\"\n",
    "DF = pd.read_html(my_website)"
   ]
  },
  {
   "cell_type": "code",
   "execution_count": 275,
   "id": "ccbf43a0-20f4-4307-811f-81bd65dde791",
   "metadata": {},
   "outputs": [
    {
     "data": {
      "text/html": [
       "<div>\n",
       "<style scoped>\n",
       "    .dataframe tbody tr th:only-of-type {\n",
       "        vertical-align: middle;\n",
       "    }\n",
       "\n",
       "    .dataframe tbody tr th {\n",
       "        vertical-align: top;\n",
       "    }\n",
       "\n",
       "    .dataframe thead th {\n",
       "        text-align: right;\n",
       "    }\n",
       "</style>\n",
       "<table border=\"1\" class=\"dataframe\">\n",
       "  <thead>\n",
       "    <tr style=\"text-align: right;\">\n",
       "      <th></th>\n",
       "      <th>No.</th>\n",
       "      <th>Player</th>\n",
       "      <th>Pos</th>\n",
       "      <th>Ht</th>\n",
       "      <th>Wt</th>\n",
       "      <th>Birth Date</th>\n",
       "      <th>Birth</th>\n",
       "      <th>Exp</th>\n",
       "      <th>College</th>\n",
       "    </tr>\n",
       "  </thead>\n",
       "  <tbody>\n",
       "    <tr>\n",
       "      <th>0</th>\n",
       "      <td>1.0</td>\n",
       "      <td>Victor Wembanyama</td>\n",
       "      <td>C</td>\n",
       "      <td>7-3</td>\n",
       "      <td>235</td>\n",
       "      <td>January 4, 2004</td>\n",
       "      <td>fr FR</td>\n",
       "      <td>2</td>\n",
       "      <td>NaN</td>\n",
       "    </tr>\n",
       "    <tr>\n",
       "      <th>1</th>\n",
       "      <td>5.0</td>\n",
       "      <td>Stephon Castle</td>\n",
       "      <td>PG</td>\n",
       "      <td>6-6</td>\n",
       "      <td>215</td>\n",
       "      <td>November 1, 2004</td>\n",
       "      <td>us US</td>\n",
       "      <td>1</td>\n",
       "      <td>UConn</td>\n",
       "    </tr>\n",
       "    <tr>\n",
       "      <th>2</th>\n",
       "      <td>2.0</td>\n",
       "      <td>Dylan Harper</td>\n",
       "      <td>SG</td>\n",
       "      <td>6-6</td>\n",
       "      <td>220</td>\n",
       "      <td>March 2, 2006</td>\n",
       "      <td>us US</td>\n",
       "      <td>R</td>\n",
       "      <td>Rutgers University</td>\n",
       "    </tr>\n",
       "    <tr>\n",
       "      <th>3</th>\n",
       "      <td>24.0</td>\n",
       "      <td>Devin Vassell</td>\n",
       "      <td>SG</td>\n",
       "      <td>6-5</td>\n",
       "      <td>200</td>\n",
       "      <td>August 23, 2000</td>\n",
       "      <td>us US</td>\n",
       "      <td>5</td>\n",
       "      <td>Florida State</td>\n",
       "    </tr>\n",
       "    <tr>\n",
       "      <th>4</th>\n",
       "      <td>3.0</td>\n",
       "      <td>Keldon Johnson</td>\n",
       "      <td>SF</td>\n",
       "      <td>6-5</td>\n",
       "      <td>220</td>\n",
       "      <td>October 11, 1999</td>\n",
       "      <td>us US</td>\n",
       "      <td>6</td>\n",
       "      <td>Kentucky</td>\n",
       "    </tr>\n",
       "    <tr>\n",
       "      <th>5</th>\n",
       "      <td>40.0</td>\n",
       "      <td>Harrison Barnes</td>\n",
       "      <td>PF</td>\n",
       "      <td>6-8</td>\n",
       "      <td>225</td>\n",
       "      <td>May 30, 1992</td>\n",
       "      <td>us US</td>\n",
       "      <td>13</td>\n",
       "      <td>UNC</td>\n",
       "    </tr>\n",
       "    <tr>\n",
       "      <th>6</th>\n",
       "      <td>30.0</td>\n",
       "      <td>Julian Champagnie</td>\n",
       "      <td>SF</td>\n",
       "      <td>6-8</td>\n",
       "      <td>220</td>\n",
       "      <td>June 29, 2001</td>\n",
       "      <td>us US</td>\n",
       "      <td>3</td>\n",
       "      <td>St. John's</td>\n",
       "    </tr>\n",
       "    <tr>\n",
       "      <th>7</th>\n",
       "      <td>25.0</td>\n",
       "      <td>David Jones García (TW)</td>\n",
       "      <td>SF</td>\n",
       "      <td>6-6</td>\n",
       "      <td>210</td>\n",
       "      <td>November 24, 2001</td>\n",
       "      <td>do DO</td>\n",
       "      <td>R</td>\n",
       "      <td>DePaul, St. John's, Memphis</td>\n",
       "    </tr>\n",
       "    <tr>\n",
       "      <th>8</th>\n",
       "      <td>55.0</td>\n",
       "      <td>Harrison Ingram (TW)</td>\n",
       "      <td>SF</td>\n",
       "      <td>6-5</td>\n",
       "      <td>230</td>\n",
       "      <td>November 27, 2002</td>\n",
       "      <td>us US</td>\n",
       "      <td>1</td>\n",
       "      <td>Stanford, UNC</td>\n",
       "    </tr>\n",
       "    <tr>\n",
       "      <th>9</th>\n",
       "      <td>7.0</td>\n",
       "      <td>Luke Kornet</td>\n",
       "      <td>C</td>\n",
       "      <td>7-2</td>\n",
       "      <td>250</td>\n",
       "      <td>July 15, 1995</td>\n",
       "      <td>us US</td>\n",
       "      <td>8</td>\n",
       "      <td>Vanderbilt</td>\n",
       "    </tr>\n",
       "    <tr>\n",
       "      <th>10</th>\n",
       "      <td>0.0</td>\n",
       "      <td>Jordan McLaughlin</td>\n",
       "      <td>PG</td>\n",
       "      <td>6-0</td>\n",
       "      <td>185</td>\n",
       "      <td>April 9, 1996</td>\n",
       "      <td>us US</td>\n",
       "      <td>6</td>\n",
       "      <td>USC</td>\n",
       "    </tr>\n",
       "    <tr>\n",
       "      <th>11</th>\n",
       "      <td>11.0</td>\n",
       "      <td>Carter Bryant</td>\n",
       "      <td>PF</td>\n",
       "      <td>6-8</td>\n",
       "      <td>220</td>\n",
       "      <td>November 26, 2005</td>\n",
       "      <td>us US</td>\n",
       "      <td>R</td>\n",
       "      <td>Arizona</td>\n",
       "    </tr>\n",
       "    <tr>\n",
       "      <th>12</th>\n",
       "      <td>18.0</td>\n",
       "      <td>Bismack Biyombo</td>\n",
       "      <td>C</td>\n",
       "      <td>6-8</td>\n",
       "      <td>255</td>\n",
       "      <td>August 28, 1992</td>\n",
       "      <td>cd CD</td>\n",
       "      <td>14</td>\n",
       "      <td>NaN</td>\n",
       "    </tr>\n",
       "    <tr>\n",
       "      <th>13</th>\n",
       "      <td>27.0</td>\n",
       "      <td>Riley Minix (TW)</td>\n",
       "      <td>SF</td>\n",
       "      <td>6-7</td>\n",
       "      <td>230</td>\n",
       "      <td>September 22, 2000</td>\n",
       "      <td>us US</td>\n",
       "      <td>1</td>\n",
       "      <td>Southeastern University, Morehead State Univer...</td>\n",
       "    </tr>\n",
       "    <tr>\n",
       "      <th>14</th>\n",
       "      <td>NaN</td>\n",
       "      <td>Lindy Waters III</td>\n",
       "      <td>SG</td>\n",
       "      <td>6-6</td>\n",
       "      <td>215</td>\n",
       "      <td>July 28, 1997</td>\n",
       "      <td>us US</td>\n",
       "      <td>4</td>\n",
       "      <td>Oklahoma State</td>\n",
       "    </tr>\n",
       "    <tr>\n",
       "      <th>15</th>\n",
       "      <td>NaN</td>\n",
       "      <td>De'Aaron Fox</td>\n",
       "      <td>PG</td>\n",
       "      <td>6-3</td>\n",
       "      <td>185</td>\n",
       "      <td>December 20, 1997</td>\n",
       "      <td>us US</td>\n",
       "      <td>8</td>\n",
       "      <td>Kentucky</td>\n",
       "    </tr>\n",
       "    <tr>\n",
       "      <th>16</th>\n",
       "      <td>NaN</td>\n",
       "      <td>Kelly Olynyk</td>\n",
       "      <td>C</td>\n",
       "      <td>6-11</td>\n",
       "      <td>240</td>\n",
       "      <td>April 19, 1991</td>\n",
       "      <td>ca CA</td>\n",
       "      <td>12</td>\n",
       "      <td>Gonzaga</td>\n",
       "    </tr>\n",
       "    <tr>\n",
       "      <th>17</th>\n",
       "      <td>NaN</td>\n",
       "      <td>Jeremy Sochan</td>\n",
       "      <td>PF</td>\n",
       "      <td>6-8</td>\n",
       "      <td>230</td>\n",
       "      <td>May 20, 2003</td>\n",
       "      <td>us US</td>\n",
       "      <td>3</td>\n",
       "      <td>Baylor</td>\n",
       "    </tr>\n",
       "  </tbody>\n",
       "</table>\n",
       "</div>"
      ],
      "text/plain": [
       "     No.                   Player Pos    Ht   Wt          Birth Date  Birth  \\\n",
       "0    1.0        Victor Wembanyama   C   7-3  235     January 4, 2004  fr FR   \n",
       "1    5.0           Stephon Castle  PG   6-6  215    November 1, 2004  us US   \n",
       "2    2.0             Dylan Harper  SG   6-6  220       March 2, 2006  us US   \n",
       "3   24.0            Devin Vassell  SG   6-5  200     August 23, 2000  us US   \n",
       "4    3.0           Keldon Johnson  SF   6-5  220    October 11, 1999  us US   \n",
       "5   40.0          Harrison Barnes  PF   6-8  225        May 30, 1992  us US   \n",
       "6   30.0        Julian Champagnie  SF   6-8  220       June 29, 2001  us US   \n",
       "7   25.0  David Jones García (TW)  SF   6-6  210   November 24, 2001  do DO   \n",
       "8   55.0     Harrison Ingram (TW)  SF   6-5  230   November 27, 2002  us US   \n",
       "9    7.0              Luke Kornet   C   7-2  250       July 15, 1995  us US   \n",
       "10   0.0        Jordan McLaughlin  PG   6-0  185       April 9, 1996  us US   \n",
       "11  11.0            Carter Bryant  PF   6-8  220   November 26, 2005  us US   \n",
       "12  18.0          Bismack Biyombo   C   6-8  255     August 28, 1992  cd CD   \n",
       "13  27.0         Riley Minix (TW)  SF   6-7  230  September 22, 2000  us US   \n",
       "14   NaN         Lindy Waters III  SG   6-6  215       July 28, 1997  us US   \n",
       "15   NaN             De'Aaron Fox  PG   6-3  185   December 20, 1997  us US   \n",
       "16   NaN             Kelly Olynyk   C  6-11  240      April 19, 1991  ca CA   \n",
       "17   NaN            Jeremy Sochan  PF   6-8  230        May 20, 2003  us US   \n",
       "\n",
       "   Exp                                            College  \n",
       "0    2                                                NaN  \n",
       "1    1                                              UConn  \n",
       "2    R                                 Rutgers University  \n",
       "3    5                                      Florida State  \n",
       "4    6                                           Kentucky  \n",
       "5   13                                                UNC  \n",
       "6    3                                         St. John's  \n",
       "7    R                        DePaul, St. John's, Memphis  \n",
       "8    1                                      Stanford, UNC  \n",
       "9    8                                         Vanderbilt  \n",
       "10   6                                                USC  \n",
       "11   R                                            Arizona  \n",
       "12  14                                                NaN  \n",
       "13   1  Southeastern University, Morehead State Univer...  \n",
       "14   4                                     Oklahoma State  \n",
       "15   8                                           Kentucky  \n",
       "16  12                                            Gonzaga  \n",
       "17   3                                             Baylor  "
      ]
     },
     "execution_count": 275,
     "metadata": {},
     "output_type": "execute_result"
    }
   ],
   "source": [
    "SPURS = DF[0].copy()\n",
    "SPURS"
   ]
  },
  {
   "cell_type": "markdown",
   "id": "3eec300d",
   "metadata": {},
   "source": [
    "## Using pandas to get table data.\n",
    "\n",
    "**Optional** - try using pandas to scrape a new site. See if you get errors or are able to find tables on that site.\n"
   ]
  },
  {
   "cell_type": "markdown",
   "id": "9faebc13",
   "metadata": {},
   "source": [
    "---\n",
    "---\n",
    "\n",
    "## Using Beautiful Soup to get HTML code\n",
    "\n",
    "### How to get data from static sites:\n",
    "\n",
    "You should already have the packages bs4 and requests but if you get an error try running:\n",
    "\n",
    "```{python}\n",
    "!conda install -y bs4\n",
    "!conda install -y requests\n",
    "```"
   ]
  },
  {
   "cell_type": "code",
   "execution_count": 276,
   "id": "91147804-cdf0-4892-b246-c81a62efe86a",
   "metadata": {},
   "outputs": [],
   "source": [
    "##!conda install -y bs4\n",
    "##!conda install -y requests"
   ]
  },
  {
   "cell_type": "code",
   "execution_count": 277,
   "id": "1688f055",
   "metadata": {},
   "outputs": [],
   "source": [
    "import requests\n",
    "from bs4 import BeautifulSoup"
   ]
  },
  {
   "cell_type": "code",
   "execution_count": 278,
   "id": "aad9d963",
   "metadata": {},
   "outputs": [],
   "source": [
    "website = 'https://www.scrapethissite.com/pages/simple/'"
   ]
  },
  {
   "cell_type": "code",
   "execution_count": 279,
   "id": "08ea4457",
   "metadata": {},
   "outputs": [],
   "source": [
    "raw_code = requests.get(website)\n",
    "html_doc = raw_code.text\n",
    "soup = BeautifulSoup(html_doc, 'html.parser')"
   ]
  },
  {
   "cell_type": "markdown",
   "id": "dd104b88",
   "metadata": {},
   "source": [
    "#### Lets see what is in soup\n",
    "\n",
    "**Q1** Uncomment this line and run the cell. You will see a TON of text!"
   ]
  },
  {
   "cell_type": "code",
   "execution_count": 280,
   "id": "98582e0c",
   "metadata": {},
   "outputs": [],
   "source": [
    "#soup"
   ]
  },
  {
   "cell_type": "markdown",
   "id": "8a248cb1",
   "metadata": {},
   "source": [
    "### Extracting data from HTML:\n",
    "\n",
    "We will use the **soup.find_all()** function.\n",
    "\n",
    "Here is the simplified function signature:\n",
    "\n",
    "    soup.find_all(name=None,attrs={})\n",
    "    \n",
    "You can type soup.find_all? and run it to see all the information about additional arguments and advanced processes.\n",
    "\n",
    "**Here is how we will mostly use it**, but there are much more advanced things you can do:\n",
    "\n",
    "    soup.find_all( <type of section>, <info> )\n",
    "    \n",
    "The **.find_all()** function searches through the information in soup to match and return only sections that match the info. Here are some important types you might search for:\n",
    "\n",
    "- 'h2' - this is a heading\n",
    "- 'div' - this divides a block of information\n",
    "- 'span' - this divides inline information\n",
    "- 'a' - this specifies a hyperlink\n",
    "- 'li' - this is a list item\n",
    "\n",
    "- class_= - many things have the class label (notice the underscore!)\n",
    "- string= - you can also search by strings.\n",
    "\n",
    "\n",
    "### Using Developer tools:\n",
    "\n",
    "To figure out what data to extract I suggest you use developer tools on the website to find what you need. \n",
    "\n",
    "**Q2** Navigate to the website and use developer tools to explore the html code.\n",
    "\n",
    "[Scrape This Site -  Website](https://www.scrapethissite.com/pages/simple/)\n",
    "\n",
    "I really like Brave Browser or Google Chrome for this, but most browsers with have **More Tools/Developer Tools** where you can see the code.\n",
    "\n",
    "### Search for all the country names\n",
    "\n",
    "The names of the country are inside \n",
    "        \n",
    "        <h3 class=\"country-name\">\n",
    "\n",
    "So lets search for this:"
   ]
  },
  {
   "cell_type": "markdown",
   "id": "e89e9aa7-957a-4c03-9c2e-0909dcc9bb59",
   "metadata": {},
   "source": [
    "### Your turn to try this!\n",
    "\n",
    "**Q3** Now it's your turn. See if you can write code that gets the population and area information into the data frame. See if you can make your example match what I get below, including having the correct data types. Population should be an int and area should be a float.\n",
    "\n",
    "Your goal is to get a data frame that looks like the one in lecture with columns for country, capital, population, and area!"
   ]
  },
  {
   "cell_type": "code",
   "execution_count": 281,
   "id": "a2284556-25db-4687-b371-99edf1bbff66",
   "metadata": {},
   "outputs": [],
   "source": [
    "result = soup.find_all('h3',class_=\"country-name\")\n",
    "#print(result)"
   ]
  },
  {
   "cell_type": "code",
   "execution_count": 282,
   "id": "bf0a0301-a7c3-4e79-a236-cce7547991aa",
   "metadata": {},
   "outputs": [
    {
     "data": {
      "text/plain": [
       "<h3 class=\"country-name\">\n",
       "<i class=\"flag-icon flag-icon-ad\"></i>\n",
       "                            Andorra\n",
       "                        </h3>"
      ]
     },
     "execution_count": 282,
     "metadata": {},
     "output_type": "execute_result"
    }
   ],
   "source": [
    "result[0]"
   ]
  },
  {
   "cell_type": "code",
   "execution_count": 283,
   "id": "c159a244-4e99-47c4-b829-318ff5bcca9d",
   "metadata": {},
   "outputs": [
    {
     "data": {
      "text/plain": [
       "'\\n\\n                            Andorra\\n                        '"
      ]
     },
     "execution_count": 283,
     "metadata": {},
     "output_type": "execute_result"
    }
   ],
   "source": [
    "result[0].text"
   ]
  },
  {
   "cell_type": "code",
   "execution_count": 284,
   "id": "67552f1c-a4af-4439-88a1-13078d6a8283",
   "metadata": {},
   "outputs": [
    {
     "data": {
      "text/plain": [
       "'Andorra'"
      ]
     },
     "execution_count": 284,
     "metadata": {},
     "output_type": "execute_result"
    }
   ],
   "source": [
    "result[0].text.lstrip().rstrip()"
   ]
  },
  {
   "cell_type": "code",
   "execution_count": 285,
   "id": "6a265588-37f7-492f-a9a9-36aa2b68e753",
   "metadata": {},
   "outputs": [],
   "source": [
    "result_2 = soup.find_all('span',class_=\"country-capital\")"
   ]
  },
  {
   "cell_type": "code",
   "execution_count": 286,
   "id": "5647c5d9-0ad6-431e-a1fb-10e2368a9581",
   "metadata": {},
   "outputs": [
    {
     "data": {
      "text/plain": [
       "<span class=\"country-capital\">Andorra la Vella</span>"
      ]
     },
     "execution_count": 286,
     "metadata": {},
     "output_type": "execute_result"
    }
   ],
   "source": [
    "result_2[0]"
   ]
  },
  {
   "cell_type": "code",
   "execution_count": 287,
   "id": "6912626a-9215-4c8a-9c8d-ac176de40992",
   "metadata": {},
   "outputs": [
    {
     "data": {
      "text/plain": [
       "'Andorra la Vella'"
      ]
     },
     "execution_count": 287,
     "metadata": {},
     "output_type": "execute_result"
    }
   ],
   "source": [
    "result_2[0].text"
   ]
  },
  {
   "cell_type": "code",
   "execution_count": 288,
   "id": "aa26baba-35d3-4957-ab24-c72f71d72386",
   "metadata": {},
   "outputs": [],
   "source": [
    "result_3 = soup.find_all('span',class_=\"country-population\")"
   ]
  },
  {
   "cell_type": "code",
   "execution_count": 289,
   "id": "8f824231-ac9a-464b-ad64-25310b07fe3c",
   "metadata": {},
   "outputs": [
    {
     "data": {
      "text/plain": [
       "<span class=\"country-population\">84000</span>"
      ]
     },
     "execution_count": 289,
     "metadata": {},
     "output_type": "execute_result"
    }
   ],
   "source": [
    "result_3[0]"
   ]
  },
  {
   "cell_type": "code",
   "execution_count": 290,
   "id": "91664265-6d95-4513-af22-5424c2a14b1c",
   "metadata": {},
   "outputs": [],
   "source": [
    "result_4 = soup.find_all('span',class_=\"country-area\")"
   ]
  },
  {
   "cell_type": "code",
   "execution_count": 291,
   "id": "6ff27a5b-7e21-4160-afbb-8152fccff298",
   "metadata": {},
   "outputs": [
    {
     "data": {
      "text/plain": [
       "<span class=\"country-area\">468.0</span>"
      ]
     },
     "execution_count": 291,
     "metadata": {},
     "output_type": "execute_result"
    }
   ],
   "source": [
    "result_4[0]"
   ]
  },
  {
   "cell_type": "code",
   "execution_count": 292,
   "id": "e9aa0f39-ce79-4891-91e3-c665c377b1b3",
   "metadata": {},
   "outputs": [],
   "source": [
    "DF = pd.DataFrame()\n",
    "DF['country']=result\n",
    "DF['country'] =DF['country'].apply(lambda x: x.text.rstrip().lstrip())"
   ]
  },
  {
   "cell_type": "code",
   "execution_count": 293,
   "id": "bb3f8e37-31ae-49ae-956c-cd225b3ed1e3",
   "metadata": {},
   "outputs": [],
   "source": [
    "DF['capital']=result_2\n",
    "DF['capital'] = DF['capital'].apply(lambda x: x.text)"
   ]
  },
  {
   "cell_type": "code",
   "execution_count": 294,
   "id": "208a0e77-2015-4856-a5e6-d55d1643c768",
   "metadata": {},
   "outputs": [],
   "source": [
    "DF['population'] = result_3\n",
    "DF['population'] = DF['population'].apply(lambda x: x.text)\n",
    "DF['population'] = DF['population'].astype(int)"
   ]
  },
  {
   "cell_type": "code",
   "execution_count": 295,
   "id": "22c878d6-1df9-454b-98c7-40c0b214c6f6",
   "metadata": {},
   "outputs": [
    {
     "data": {
      "text/html": [
       "<div>\n",
       "<style scoped>\n",
       "    .dataframe tbody tr th:only-of-type {\n",
       "        vertical-align: middle;\n",
       "    }\n",
       "\n",
       "    .dataframe tbody tr th {\n",
       "        vertical-align: top;\n",
       "    }\n",
       "\n",
       "    .dataframe thead th {\n",
       "        text-align: right;\n",
       "    }\n",
       "</style>\n",
       "<table border=\"1\" class=\"dataframe\">\n",
       "  <thead>\n",
       "    <tr style=\"text-align: right;\">\n",
       "      <th></th>\n",
       "      <th>country</th>\n",
       "      <th>capital</th>\n",
       "      <th>population</th>\n",
       "      <th>area</th>\n",
       "    </tr>\n",
       "  </thead>\n",
       "  <tbody>\n",
       "    <tr>\n",
       "      <th>0</th>\n",
       "      <td>Andorra</td>\n",
       "      <td>Andorra la Vella</td>\n",
       "      <td>84000</td>\n",
       "      <td>468.0</td>\n",
       "    </tr>\n",
       "    <tr>\n",
       "      <th>1</th>\n",
       "      <td>United Arab Emirates</td>\n",
       "      <td>Abu Dhabi</td>\n",
       "      <td>4975593</td>\n",
       "      <td>82880.0</td>\n",
       "    </tr>\n",
       "    <tr>\n",
       "      <th>2</th>\n",
       "      <td>Afghanistan</td>\n",
       "      <td>Kabul</td>\n",
       "      <td>29121286</td>\n",
       "      <td>647500.0</td>\n",
       "    </tr>\n",
       "    <tr>\n",
       "      <th>3</th>\n",
       "      <td>Antigua and Barbuda</td>\n",
       "      <td>St. John's</td>\n",
       "      <td>86754</td>\n",
       "      <td>443.0</td>\n",
       "    </tr>\n",
       "    <tr>\n",
       "      <th>4</th>\n",
       "      <td>Anguilla</td>\n",
       "      <td>The Valley</td>\n",
       "      <td>13254</td>\n",
       "      <td>102.0</td>\n",
       "    </tr>\n",
       "    <tr>\n",
       "      <th>...</th>\n",
       "      <td>...</td>\n",
       "      <td>...</td>\n",
       "      <td>...</td>\n",
       "      <td>...</td>\n",
       "    </tr>\n",
       "    <tr>\n",
       "      <th>245</th>\n",
       "      <td>Yemen</td>\n",
       "      <td>Sanaa</td>\n",
       "      <td>23495361</td>\n",
       "      <td>527970.0</td>\n",
       "    </tr>\n",
       "    <tr>\n",
       "      <th>246</th>\n",
       "      <td>Mayotte</td>\n",
       "      <td>Mamoudzou</td>\n",
       "      <td>159042</td>\n",
       "      <td>374.0</td>\n",
       "    </tr>\n",
       "    <tr>\n",
       "      <th>247</th>\n",
       "      <td>South Africa</td>\n",
       "      <td>Pretoria</td>\n",
       "      <td>49000000</td>\n",
       "      <td>1219912.0</td>\n",
       "    </tr>\n",
       "    <tr>\n",
       "      <th>248</th>\n",
       "      <td>Zambia</td>\n",
       "      <td>Lusaka</td>\n",
       "      <td>13460305</td>\n",
       "      <td>752614.0</td>\n",
       "    </tr>\n",
       "    <tr>\n",
       "      <th>249</th>\n",
       "      <td>Zimbabwe</td>\n",
       "      <td>Harare</td>\n",
       "      <td>11651858</td>\n",
       "      <td>390580.0</td>\n",
       "    </tr>\n",
       "  </tbody>\n",
       "</table>\n",
       "<p>250 rows × 4 columns</p>\n",
       "</div>"
      ],
      "text/plain": [
       "                  country           capital  population       area\n",
       "0                 Andorra  Andorra la Vella       84000      468.0\n",
       "1    United Arab Emirates         Abu Dhabi     4975593    82880.0\n",
       "2             Afghanistan             Kabul    29121286   647500.0\n",
       "3     Antigua and Barbuda        St. John's       86754      443.0\n",
       "4                Anguilla        The Valley       13254      102.0\n",
       "..                    ...               ...         ...        ...\n",
       "245                 Yemen             Sanaa    23495361   527970.0\n",
       "246               Mayotte         Mamoudzou      159042      374.0\n",
       "247          South Africa          Pretoria    49000000  1219912.0\n",
       "248                Zambia            Lusaka    13460305   752614.0\n",
       "249              Zimbabwe            Harare    11651858   390580.0\n",
       "\n",
       "[250 rows x 4 columns]"
      ]
     },
     "execution_count": 295,
     "metadata": {},
     "output_type": "execute_result"
    }
   ],
   "source": [
    "DF['area'] = result_4\n",
    "DF['area'] = DF['area'].apply(lambda x: x.text)\n",
    "DF['area'] = DF['area'].astype(float)\n",
    "DF"
   ]
  },
  {
   "cell_type": "code",
   "execution_count": 296,
   "id": "bdb3f003-f9b5-45cb-b41d-bff232f48d9f",
   "metadata": {},
   "outputs": [
    {
     "data": {
      "text/plain": [
       "country        object\n",
       "capital        object\n",
       "population      int64\n",
       "area          float64\n",
       "dtype: object"
      ]
     },
     "execution_count": 296,
     "metadata": {},
     "output_type": "execute_result"
    }
   ],
   "source": [
    "DF.dtypes"
   ]
  },
  {
   "cell_type": "markdown",
   "id": "176e1115-9454-41ae-92fb-c65426fb2fd4",
   "metadata": {},
   "source": [
    "### Where can you get more practice\n",
    "\n",
    "Here is a website dedicated to allowing students to practice webscraping:\n",
    "\n",
    "[www.scrapethissite.com](https://www.scrapethissite.com/pages/)\n",
    "\n",
    "    website=https://www.scrapethissite.com/pages/\n",
    "-----------------\n",
    "### Exercise 1:\n",
    "\n",
    "We are going to scrape the site above to get the list of all links. \n",
    "\n",
    "Open the website and look at the developer tools.\n",
    "\n",
    "Here is our goal: Make a pandas data frame that contains three columns: \n",
    "\n",
    "* \"site_name\" - which contains just the words of the link\n",
    "* \"link\" - which contains just the website part of the link\n",
    "* \"description\" - which contains the words below the link\n",
    "\n",
    "When looking for links you can use\n",
    "\n",
    "    result = soup.find_all('a')\n",
    "    result[0].text # Get the text associated with the link\n",
    "    result[0].get('href') # Get the link location\n",
    "\n",
    "\n",
    "\n",
    "See if you can do this without looking at my code in the notes! What would your plan have to be?\n",
    "\n",
    "**See the lecture notes for hints and the solution!**\n"
   ]
  },
  {
   "cell_type": "code",
   "execution_count": 354,
   "id": "099ed485-25ff-479f-8406-4efb3a96882a",
   "metadata": {},
   "outputs": [],
   "source": [
    "website_2 = 'https://www.scrapethissite.com/pages/'"
   ]
  },
  {
   "cell_type": "code",
   "execution_count": 355,
   "id": "86b3a908-d302-4174-9501-ed29c110d0f9",
   "metadata": {},
   "outputs": [],
   "source": [
    "raw_code = requests.get(website_2)\n",
    "html_doc = raw_code.text\n",
    "soup = BeautifulSoup(html_doc, 'html.parser')"
   ]
  },
  {
   "cell_type": "code",
   "execution_count": 356,
   "id": "96e6b75e-4483-48c6-b7cd-9e7ffa311d9d",
   "metadata": {},
   "outputs": [],
   "source": [
    "#soup"
   ]
  },
  {
   "cell_type": "code",
   "execution_count": 357,
   "id": "1aa4fc68-f8ae-44b4-8483-ade7b8281080",
   "metadata": {},
   "outputs": [],
   "source": [
    "titles = soup.find_all('a')"
   ]
  },
  {
   "cell_type": "code",
   "execution_count": 358,
   "id": "9371a7b0-0fee-4f73-b00b-663e14e8af20",
   "metadata": {},
   "outputs": [
    {
     "data": {
      "text/plain": [
       "'Oscar Winning Films: AJAX and Javascript'"
      ]
     },
     "execution_count": 358,
     "metadata": {},
     "output_type": "execute_result"
    }
   ],
   "source": [
    "#Gives me the titles\n",
    "titles[7].text.lstrip().rstrip()"
   ]
  },
  {
   "cell_type": "code",
   "execution_count": 359,
   "id": "25b9324f-8bd5-44c6-8408-bb9a56a72a1e",
   "metadata": {},
   "outputs": [
    {
     "data": {
      "text/plain": [
       "'/pages/simple/'"
      ]
     },
     "execution_count": 359,
     "metadata": {},
     "output_type": "execute_result"
    }
   ],
   "source": [
    "#Gets me the links\n",
    "titles[5].get('href')"
   ]
  },
  {
   "cell_type": "code",
   "execution_count": 360,
   "id": "f76c22ce-c0e0-46b7-9f37-fd6f5f7cad4b",
   "metadata": {},
   "outputs": [],
   "source": [
    "DF = pd.DataFrame()\n",
    "DF['site_name'] = titles\n",
    "DF['site_name'] = DF['site_name'].apply(lambda x: x.text.lstrip().rstrip())\n",
    "\n",
    "DF['link'] = titles\n",
    "DF['link'] = DF['link'].apply(lambda x: x.get('href'))\n",
    "base_website = 'https://www.scrapethissite.com'\n",
    "DF['link'] = DF['link'].apply(lambda x: base_website+x)\n",
    "\n",
    "DF = DF.drop([0,1,2,3,4])"
   ]
  },
  {
   "cell_type": "code",
   "execution_count": 361,
   "id": "c2b696e1-a9dd-4ffb-b4f1-6e6273109ca0",
   "metadata": {},
   "outputs": [
    {
     "data": {
      "text/html": [
       "<div>\n",
       "<style scoped>\n",
       "    .dataframe tbody tr th:only-of-type {\n",
       "        vertical-align: middle;\n",
       "    }\n",
       "\n",
       "    .dataframe tbody tr th {\n",
       "        vertical-align: top;\n",
       "    }\n",
       "\n",
       "    .dataframe thead th {\n",
       "        text-align: right;\n",
       "    }\n",
       "</style>\n",
       "<table border=\"1\" class=\"dataframe\">\n",
       "  <thead>\n",
       "    <tr style=\"text-align: right;\">\n",
       "      <th></th>\n",
       "      <th>site_name</th>\n",
       "      <th>link</th>\n",
       "      <th>description</th>\n",
       "    </tr>\n",
       "  </thead>\n",
       "  <tbody>\n",
       "    <tr>\n",
       "      <th>5</th>\n",
       "      <td>Countries of the World: A Simple Example</td>\n",
       "      <td>https://www.scrapethissite.com/pages/simple/</td>\n",
       "      <td>A single page that lists information about all...</td>\n",
       "    </tr>\n",
       "    <tr>\n",
       "      <th>6</th>\n",
       "      <td>Hockey Teams: Forms, Searching and Pagination</td>\n",
       "      <td>https://www.scrapethissite.com/pages/forms/</td>\n",
       "      <td>Browse through a database of NHL team stats si...</td>\n",
       "    </tr>\n",
       "    <tr>\n",
       "      <th>7</th>\n",
       "      <td>Oscar Winning Films: AJAX and Javascript</td>\n",
       "      <td>https://www.scrapethissite.com/pages/ajax-java...</td>\n",
       "      <td>Click through a bunch of great films. Learn ho...</td>\n",
       "    </tr>\n",
       "    <tr>\n",
       "      <th>8</th>\n",
       "      <td>Turtles All the Way Down: Frames &amp; iFrames</td>\n",
       "      <td>https://www.scrapethissite.com/pages/frames/</td>\n",
       "      <td>Some older sites might still use frames to bre...</td>\n",
       "    </tr>\n",
       "    <tr>\n",
       "      <th>9</th>\n",
       "      <td>Advanced Topics: Real World Challenges You'll ...</td>\n",
       "      <td>https://www.scrapethissite.com/pages/advanced/</td>\n",
       "      <td>Scraping real websites, you're likely run into...</td>\n",
       "    </tr>\n",
       "  </tbody>\n",
       "</table>\n",
       "</div>"
      ],
      "text/plain": [
       "                                           site_name  \\\n",
       "5           Countries of the World: A Simple Example   \n",
       "6      Hockey Teams: Forms, Searching and Pagination   \n",
       "7           Oscar Winning Films: AJAX and Javascript   \n",
       "8         Turtles All the Way Down: Frames & iFrames   \n",
       "9  Advanced Topics: Real World Challenges You'll ...   \n",
       "\n",
       "                                                link  \\\n",
       "5       https://www.scrapethissite.com/pages/simple/   \n",
       "6        https://www.scrapethissite.com/pages/forms/   \n",
       "7  https://www.scrapethissite.com/pages/ajax-java...   \n",
       "8       https://www.scrapethissite.com/pages/frames/   \n",
       "9     https://www.scrapethissite.com/pages/advanced/   \n",
       "\n",
       "                                         description  \n",
       "5  A single page that lists information about all...  \n",
       "6  Browse through a database of NHL team stats si...  \n",
       "7  Click through a bunch of great films. Learn ho...  \n",
       "8  Some older sites might still use frames to bre...  \n",
       "9  Scraping real websites, you're likely run into...  "
      ]
     },
     "execution_count": 361,
     "metadata": {},
     "output_type": "execute_result"
    }
   ],
   "source": [
    "description = soup.find_all('p',class_=\"lead session-desc\")\n",
    "DF['description'] = description\n",
    "DF['description'] = DF['description'].apply(lambda x: x.text.rstrip().lstrip())\n",
    "\n",
    "DF"
   ]
  },
  {
   "cell_type": "markdown",
   "id": "ccdc8ae8-0880-4abb-a9ef-7d497210ee34",
   "metadata": {},
   "source": [
    "### Challenge Problem\n",
    "\n",
    "Here is another website to scrape. See if you can create a data frame that looks like the one in the lecture notes. Notice that you can only scrape the first page with the first link. \n",
    "\n",
    "If you want to try scraping the other pages you have to notice how the website updates its address for each page. Then write a for loop to loop through how ever many pages you want to scrape. Do the same set of operations for each page keep adding data to your data frame.\n",
    "\n",
    "Make a histogram of your final data."
   ]
  },
  {
   "cell_type": "code",
   "execution_count": 362,
   "id": "267722fb-a33b-4969-82eb-26c94edd0bb6",
   "metadata": {},
   "outputs": [],
   "source": [
    "website='https://books.toscrape.com/index.html'\n",
    "raw_code = requests.get(website)\n",
    "html_doc = raw_code.text\n",
    "soup = BeautifulSoup(html_doc, 'html.parser')"
   ]
  },
  {
   "cell_type": "markdown",
   "id": "09b86c1d-5c13-4178-9685-c09922f4ec2d",
   "metadata": {},
   "source": [
    "**Try to scrape the name, the link to the book, and the prices! I decided to put the name and link information into a single column and then break that apart**"
   ]
  },
  {
   "cell_type": "code",
   "execution_count": null,
   "id": "429be6b6-4fdc-41e4-a481-c778ac9bc9ca",
   "metadata": {},
   "outputs": [],
   "source": []
  },
  {
   "cell_type": "code",
   "execution_count": null,
   "id": "08613fec-b6db-44cd-b093-69e43704cef0",
   "metadata": {},
   "outputs": [],
   "source": []
  }
 ],
 "metadata": {
  "kernelspec": {
   "display_name": "Python [conda env:base] *",
   "language": "python",
   "name": "conda-base-py"
  },
  "language_info": {
   "codemirror_mode": {
    "name": "ipython",
    "version": 3
   },
   "file_extension": ".py",
   "mimetype": "text/x-python",
   "name": "python",
   "nbconvert_exporter": "python",
   "pygments_lexer": "ipython3",
   "version": "3.13.5"
  }
 },
 "nbformat": 4,
 "nbformat_minor": 5
}

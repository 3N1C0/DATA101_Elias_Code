{
 "cells": [
  {
   "cell_type": "markdown",
   "id": "a9215f5c-525b-4508-8b0d-700f55cbd252",
   "metadata": {},
   "source": [
    "## Introduction to Data Science\n",
    "\n",
    "#### University of Redlands - DATA 101\n",
    "#### Prof: Joanna Bieri [joanna_bieri@redlands.edu](mailto:joanna_bieri@redlands.edu)\n",
    "#### [Class Website: data101.joannabieri.com](https://joannabieri.com/data101.html)\n",
    "\n",
    "---------------------------------------\n",
    "# Homework Day 8\n",
    "---------------------------------------\n",
    "\n",
    "GOALS:\n",
    "\n",
    "1. Load data into Python that you find online\n",
    "2. Understand data types and fix some errors\n",
    "3. Find your own data to play with\n",
    "\n",
    "----------------------------------------------------------\n",
    "\n",
    "This homework has **5 questions** and **1 problem**.\n",
    "\n",
    "NOTE: Be kind to yourself. Working with data can be hard! Every data set is different. **Seriously** come get help! Come to lab!\n"
   ]
  },
  {
   "cell_type": "code",
   "execution_count": 65,
   "id": "049c24b6-a6c1-4ccc-b2de-5ea0366d09f8",
   "metadata": {},
   "outputs": [],
   "source": [
    "import numpy as np\n",
    "import pandas as pd\n",
    "\n",
    "import matplotlib.pyplot as plt\n",
    "import plotly.express as px\n",
    "from plotly.subplots import make_subplots\n",
    "import plotly.io as pio\n",
    "pio.renderers.defaule = 'colab'"
   ]
  },
  {
   "cell_type": "markdown",
   "id": "9c942910-0e2f-4428-95b6-1ca89c228405",
   "metadata": {},
   "source": [
    "You might need to install lxml. If you get a \"ImportError: Missing optional dependency 'lxml'\" Then uncomment and run the cell below"
   ]
  },
  {
   "cell_type": "code",
   "execution_count": 66,
   "id": "3d4ea0c4-7b90-48a6-bd63-684f33d12d79",
   "metadata": {},
   "outputs": [],
   "source": [
    "#!conda install -y lxml"
   ]
  },
  {
   "cell_type": "markdown",
   "id": "23773272-c059-4148-a5a8-91e9da594c46",
   "metadata": {},
   "source": [
    "## Try reading in some data - csv\n",
    "\n",
    "Go to the [Cal Fire Website](https://www.fire.ca.gov/incidents) and scroll to the bottom to see the Incident Data. We will download the file named **ALL DATA AS CSV** this should put the data file into your Downloads folder. \n",
    "\n",
    "Next you need to move the file **mapdataall.csv** from your Downloads folder into your Day8 folder where you are doing your homework. You can open your Downloads folder and drag the file into JupyterLab side bar. Then I can run the command\n",
    "\n",
    "    DF_raw = pd.read_csv('mapdataall.csv')\n",
    "\n",
    "to load the data and look at the data frame."
   ]
  },
  {
   "cell_type": "code",
   "execution_count": 67,
   "id": "0a59b78c",
   "metadata": {},
   "outputs": [
    {
     "data": {
      "text/html": [
       "<div>\n",
       "<style scoped>\n",
       "    .dataframe tbody tr th:only-of-type {\n",
       "        vertical-align: middle;\n",
       "    }\n",
       "\n",
       "    .dataframe tbody tr th {\n",
       "        vertical-align: top;\n",
       "    }\n",
       "\n",
       "    .dataframe thead th {\n",
       "        text-align: right;\n",
       "    }\n",
       "</style>\n",
       "<table border=\"1\" class=\"dataframe\">\n",
       "  <thead>\n",
       "    <tr style=\"text-align: right;\">\n",
       "      <th></th>\n",
       "      <th>incident_name</th>\n",
       "      <th>incident_is_final</th>\n",
       "      <th>incident_date_last_update</th>\n",
       "      <th>incident_date_created</th>\n",
       "      <th>incident_administrative_unit</th>\n",
       "      <th>incident_administrative_unit_url</th>\n",
       "      <th>incident_county</th>\n",
       "      <th>incident_location</th>\n",
       "      <th>incident_acres_burned</th>\n",
       "      <th>incident_containment</th>\n",
       "      <th>...</th>\n",
       "      <th>incident_latitude</th>\n",
       "      <th>incident_type</th>\n",
       "      <th>incident_id</th>\n",
       "      <th>incident_url</th>\n",
       "      <th>incident_date_extinguished</th>\n",
       "      <th>incident_dateonly_extinguished</th>\n",
       "      <th>incident_dateonly_created</th>\n",
       "      <th>is_active</th>\n",
       "      <th>calfire_incident</th>\n",
       "      <th>notification_desired</th>\n",
       "    </tr>\n",
       "  </thead>\n",
       "  <tbody>\n",
       "    <tr>\n",
       "      <th>0</th>\n",
       "      <td>Bridge Fire</td>\n",
       "      <td>Y</td>\n",
       "      <td>2018-01-09T13:46:00Z</td>\n",
       "      <td>2017-10-31T11:22:00Z</td>\n",
       "      <td>Shasta-Trinity National Forest</td>\n",
       "      <td>NaN</td>\n",
       "      <td>Shasta</td>\n",
       "      <td>I-5 and Turntable Bay, 7 miles NE of Shasta Lake</td>\n",
       "      <td>37.0</td>\n",
       "      <td>100.0</td>\n",
       "      <td>...</td>\n",
       "      <td>40.774000</td>\n",
       "      <td>NaN</td>\n",
       "      <td>2ca11d45-8139-4c16-8af0-880d99b21e82</td>\n",
       "      <td>https://www.fire.ca.gov/incidents/2017/10/31/b...</td>\n",
       "      <td>2018-01-09T13:46:00Z</td>\n",
       "      <td>2018-01-09</td>\n",
       "      <td>2017-10-31</td>\n",
       "      <td>N</td>\n",
       "      <td>False</td>\n",
       "      <td>False</td>\n",
       "    </tr>\n",
       "    <tr>\n",
       "      <th>1</th>\n",
       "      <td>Pala Fire</td>\n",
       "      <td>Y</td>\n",
       "      <td>2020-09-16T14:07:35Z</td>\n",
       "      <td>2009-05-24T14:56:00Z</td>\n",
       "      <td>CAL FIRE San Diego Unit</td>\n",
       "      <td>NaN</td>\n",
       "      <td>San Diego</td>\n",
       "      <td>Hwy 76 and Pala Temecula, northwest of Pala</td>\n",
       "      <td>122.0</td>\n",
       "      <td>100.0</td>\n",
       "      <td>...</td>\n",
       "      <td>1.000000</td>\n",
       "      <td>Wildfire</td>\n",
       "      <td>8f61f461-552d-4538-b186-35ab030da416</td>\n",
       "      <td>https://www.fire.ca.gov/incidents/2009/5/24/pa...</td>\n",
       "      <td>2009-05-25T00:00:00Z</td>\n",
       "      <td>2009-05-25</td>\n",
       "      <td>2009-05-24</td>\n",
       "      <td>N</td>\n",
       "      <td>True</td>\n",
       "      <td>False</td>\n",
       "    </tr>\n",
       "    <tr>\n",
       "      <th>2</th>\n",
       "      <td>River Fire</td>\n",
       "      <td>Y</td>\n",
       "      <td>2022-10-24T11:39:23Z</td>\n",
       "      <td>2013-02-24T08:16:00Z</td>\n",
       "      <td>CAL FIRE San Bernardino Unit</td>\n",
       "      <td>NaN</td>\n",
       "      <td>Inyo</td>\n",
       "      <td>south of Narrow Gauge Rd &amp; north of Hwy 136, e...</td>\n",
       "      <td>407.0</td>\n",
       "      <td>100.0</td>\n",
       "      <td>...</td>\n",
       "      <td>36.602575</td>\n",
       "      <td>NaN</td>\n",
       "      <td>094719ba-a47b-4abb-9ec5-a506b2b9fd23</td>\n",
       "      <td>https://www.fire.ca.gov/incidents/2013/2/24/ri...</td>\n",
       "      <td>2013-02-28T20:00:00Z</td>\n",
       "      <td>2013-02-28</td>\n",
       "      <td>2013-02-24</td>\n",
       "      <td>N</td>\n",
       "      <td>True</td>\n",
       "      <td>False</td>\n",
       "    </tr>\n",
       "    <tr>\n",
       "      <th>3</th>\n",
       "      <td>Fawnskin Fire</td>\n",
       "      <td>Y</td>\n",
       "      <td>2013-04-22T09:00:00Z</td>\n",
       "      <td>2013-04-20T17:30:00Z</td>\n",
       "      <td>San Bernardino National Forest</td>\n",
       "      <td>NaN</td>\n",
       "      <td>San Bernardino</td>\n",
       "      <td>west of Delamar Mountain, north of the communi...</td>\n",
       "      <td>30.0</td>\n",
       "      <td>100.0</td>\n",
       "      <td>...</td>\n",
       "      <td>34.288877</td>\n",
       "      <td>NaN</td>\n",
       "      <td>58f89ff8-bd3e-4355-b1c0-8fa05c747d3f</td>\n",
       "      <td>https://www.fire.ca.gov/incidents/2013/4/20/fa...</td>\n",
       "      <td>2013-04-22T09:00:00Z</td>\n",
       "      <td>2013-04-22</td>\n",
       "      <td>2013-04-20</td>\n",
       "      <td>N</td>\n",
       "      <td>False</td>\n",
       "      <td>False</td>\n",
       "    </tr>\n",
       "    <tr>\n",
       "      <th>4</th>\n",
       "      <td>Gold Fire</td>\n",
       "      <td>Y</td>\n",
       "      <td>2013-05-01T07:00:00Z</td>\n",
       "      <td>2013-04-30T12:59:00Z</td>\n",
       "      <td>CAL FIRE Madera-Mariposa-Merced Unit</td>\n",
       "      <td>NaN</td>\n",
       "      <td>Madera</td>\n",
       "      <td>Between Road 210 and Road 200 near Fine Gold C...</td>\n",
       "      <td>274.0</td>\n",
       "      <td>100.0</td>\n",
       "      <td>...</td>\n",
       "      <td>37.116295</td>\n",
       "      <td>NaN</td>\n",
       "      <td>357ffc13-bef9-48eb-810f-c5de851972eb</td>\n",
       "      <td>https://www.fire.ca.gov/incidents/2013/4/30/go...</td>\n",
       "      <td>2013-05-01T07:00:00Z</td>\n",
       "      <td>2013-05-01</td>\n",
       "      <td>2013-04-30</td>\n",
       "      <td>N</td>\n",
       "      <td>True</td>\n",
       "      <td>False</td>\n",
       "    </tr>\n",
       "    <tr>\n",
       "      <th>...</th>\n",
       "      <td>...</td>\n",
       "      <td>...</td>\n",
       "      <td>...</td>\n",
       "      <td>...</td>\n",
       "      <td>...</td>\n",
       "      <td>...</td>\n",
       "      <td>...</td>\n",
       "      <td>...</td>\n",
       "      <td>...</td>\n",
       "      <td>...</td>\n",
       "      <td>...</td>\n",
       "      <td>...</td>\n",
       "      <td>...</td>\n",
       "      <td>...</td>\n",
       "      <td>...</td>\n",
       "      <td>...</td>\n",
       "      <td>...</td>\n",
       "      <td>...</td>\n",
       "      <td>...</td>\n",
       "      <td>...</td>\n",
       "      <td>...</td>\n",
       "    </tr>\n",
       "    <tr>\n",
       "      <th>3335</th>\n",
       "      <td>Lost Fire</td>\n",
       "      <td>Y</td>\n",
       "      <td>2025-09-28T09:51:03Z</td>\n",
       "      <td>2025-09-25T08:00:00Z</td>\n",
       "      <td>Ventura County Fire Department</td>\n",
       "      <td>NaN</td>\n",
       "      <td>Ventura</td>\n",
       "      <td>Near Lost Canyon Drive, Simi Valley</td>\n",
       "      <td>13.0</td>\n",
       "      <td>100.0</td>\n",
       "      <td>...</td>\n",
       "      <td>34.301578</td>\n",
       "      <td>Wildfire</td>\n",
       "      <td>75c850b6-27a5-493e-aaef-a42e02b2eab4</td>\n",
       "      <td>https://www.fire.ca.gov/incidents/2025/9/25/lo...</td>\n",
       "      <td>2025-09-27T14:00:00Z</td>\n",
       "      <td>2025-09-27</td>\n",
       "      <td>2025-09-25</td>\n",
       "      <td>N</td>\n",
       "      <td>False</td>\n",
       "      <td>False</td>\n",
       "    </tr>\n",
       "    <tr>\n",
       "      <th>3336</th>\n",
       "      <td>Martell Fire</td>\n",
       "      <td>Y</td>\n",
       "      <td>2025-09-28T09:49:59Z</td>\n",
       "      <td>2025-09-26T14:45:08Z</td>\n",
       "      <td>CAL FIRE Tuolumne-Calaveras Unit</td>\n",
       "      <td>NaN</td>\n",
       "      <td>Stanislaus</td>\n",
       "      <td>South of Telegraph Road and Northeast of Sonor...</td>\n",
       "      <td>37.0</td>\n",
       "      <td>100.0</td>\n",
       "      <td>...</td>\n",
       "      <td>37.906127</td>\n",
       "      <td>Wildfire</td>\n",
       "      <td>2d15d2af-d4a5-4f41-a17c-b17e3030ea93</td>\n",
       "      <td>https://www.fire.ca.gov/incidents/2025/9/26/ma...</td>\n",
       "      <td>2025-09-26T23:30:00Z</td>\n",
       "      <td>2025-09-26</td>\n",
       "      <td>2025-09-26</td>\n",
       "      <td>N</td>\n",
       "      <td>True</td>\n",
       "      <td>False</td>\n",
       "    </tr>\n",
       "    <tr>\n",
       "      <th>3337</th>\n",
       "      <td>Cobb Fire</td>\n",
       "      <td>Y</td>\n",
       "      <td>2025-09-29T07:12:14Z</td>\n",
       "      <td>2025-09-26T15:56:10Z</td>\n",
       "      <td>Six Rivers National Forest</td>\n",
       "      <td>NaN</td>\n",
       "      <td>Humboldt</td>\n",
       "      <td>Cobb Road and Rattlesnake Bridge Road, Dinsmore</td>\n",
       "      <td>12.0</td>\n",
       "      <td>100.0</td>\n",
       "      <td>...</td>\n",
       "      <td>40.463864</td>\n",
       "      <td>Wildfire</td>\n",
       "      <td>793418f8-d217-44c3-8409-617b2a3107a2</td>\n",
       "      <td>https://www.fire.ca.gov/incidents/2025/9/26/co...</td>\n",
       "      <td>2025-09-28T17:00:00Z</td>\n",
       "      <td>2025-09-28</td>\n",
       "      <td>2025-09-26</td>\n",
       "      <td>N</td>\n",
       "      <td>True</td>\n",
       "      <td>False</td>\n",
       "    </tr>\n",
       "    <tr>\n",
       "      <th>3338</th>\n",
       "      <td>Vleck Fire</td>\n",
       "      <td>N</td>\n",
       "      <td>2025-09-30T13:00:14-07:00</td>\n",
       "      <td>2025-09-29T12:02:36Z</td>\n",
       "      <td>CAL FIRE Amador-El Dorado Unit</td>\n",
       "      <td>NaN</td>\n",
       "      <td>Sacramento</td>\n",
       "      <td>Van Vleck Road and Jackson Highway</td>\n",
       "      <td>30.0</td>\n",
       "      <td>95.0</td>\n",
       "      <td>...</td>\n",
       "      <td>38.482401</td>\n",
       "      <td>Wildfire</td>\n",
       "      <td>cd5d2222-9721-4800-a0b7-604d56b86a93</td>\n",
       "      <td>https://www.fire.ca.gov/incidents/2025/9/29/vl...</td>\n",
       "      <td>NaN</td>\n",
       "      <td>NaN</td>\n",
       "      <td>2025-09-29</td>\n",
       "      <td>Y</td>\n",
       "      <td>True</td>\n",
       "      <td>False</td>\n",
       "    </tr>\n",
       "    <tr>\n",
       "      <th>3339</th>\n",
       "      <td>Paloma Fire</td>\n",
       "      <td>Y</td>\n",
       "      <td>2025-09-30T21:41:00Z</td>\n",
       "      <td>2025-09-30T01:08:26Z</td>\n",
       "      <td>CAL FIRE Madera-Mariposa-Merced Unit</td>\n",
       "      <td>NaN</td>\n",
       "      <td>Mariposa</td>\n",
       "      <td>Paloma Road and Hornitos Road</td>\n",
       "      <td>86.0</td>\n",
       "      <td>100.0</td>\n",
       "      <td>...</td>\n",
       "      <td>37.482008</td>\n",
       "      <td>Wildfire</td>\n",
       "      <td>5fa1beec-2657-45ff-8f6c-3c16313ad424</td>\n",
       "      <td>https://www.fire.ca.gov/incidents/2025/9/30/pa...</td>\n",
       "      <td>2025-09-30T18:44:00Z</td>\n",
       "      <td>2025-09-30</td>\n",
       "      <td>2025-09-30</td>\n",
       "      <td>N</td>\n",
       "      <td>True</td>\n",
       "      <td>False</td>\n",
       "    </tr>\n",
       "  </tbody>\n",
       "</table>\n",
       "<p>3340 rows × 23 columns</p>\n",
       "</div>"
      ],
      "text/plain": [
       "      incident_name incident_is_final  incident_date_last_update  \\\n",
       "0       Bridge Fire                 Y       2018-01-09T13:46:00Z   \n",
       "1         Pala Fire                 Y       2020-09-16T14:07:35Z   \n",
       "2        River Fire                 Y       2022-10-24T11:39:23Z   \n",
       "3     Fawnskin Fire                 Y       2013-04-22T09:00:00Z   \n",
       "4         Gold Fire                 Y       2013-05-01T07:00:00Z   \n",
       "...             ...               ...                        ...   \n",
       "3335      Lost Fire                 Y       2025-09-28T09:51:03Z   \n",
       "3336   Martell Fire                 Y       2025-09-28T09:49:59Z   \n",
       "3337      Cobb Fire                 Y       2025-09-29T07:12:14Z   \n",
       "3338     Vleck Fire                 N  2025-09-30T13:00:14-07:00   \n",
       "3339    Paloma Fire                 Y       2025-09-30T21:41:00Z   \n",
       "\n",
       "     incident_date_created          incident_administrative_unit  \\\n",
       "0     2017-10-31T11:22:00Z       Shasta-Trinity National Forest    \n",
       "1     2009-05-24T14:56:00Z               CAL FIRE San Diego Unit   \n",
       "2     2013-02-24T08:16:00Z          CAL FIRE San Bernardino Unit   \n",
       "3     2013-04-20T17:30:00Z        San Bernardino National Forest   \n",
       "4     2013-04-30T12:59:00Z  CAL FIRE Madera-Mariposa-Merced Unit   \n",
       "...                    ...                                   ...   \n",
       "3335  2025-09-25T08:00:00Z        Ventura County Fire Department   \n",
       "3336  2025-09-26T14:45:08Z      CAL FIRE Tuolumne-Calaveras Unit   \n",
       "3337  2025-09-26T15:56:10Z            Six Rivers National Forest   \n",
       "3338  2025-09-29T12:02:36Z        CAL FIRE Amador-El Dorado Unit   \n",
       "3339  2025-09-30T01:08:26Z  CAL FIRE Madera-Mariposa-Merced Unit   \n",
       "\n",
       "      incident_administrative_unit_url incident_county  \\\n",
       "0                                  NaN          Shasta   \n",
       "1                                  NaN       San Diego   \n",
       "2                                  NaN            Inyo   \n",
       "3                                  NaN  San Bernardino   \n",
       "4                                  NaN          Madera   \n",
       "...                                ...             ...   \n",
       "3335                               NaN         Ventura   \n",
       "3336                               NaN      Stanislaus   \n",
       "3337                               NaN        Humboldt   \n",
       "3338                               NaN      Sacramento   \n",
       "3339                               NaN        Mariposa   \n",
       "\n",
       "                                      incident_location  \\\n",
       "0     I-5 and Turntable Bay, 7 miles NE of Shasta Lake    \n",
       "1           Hwy 76 and Pala Temecula, northwest of Pala   \n",
       "2     south of Narrow Gauge Rd & north of Hwy 136, e...   \n",
       "3     west of Delamar Mountain, north of the communi...   \n",
       "4     Between Road 210 and Road 200 near Fine Gold C...   \n",
       "...                                                 ...   \n",
       "3335                Near Lost Canyon Drive, Simi Valley   \n",
       "3336  South of Telegraph Road and Northeast of Sonor...   \n",
       "3337    Cobb Road and Rattlesnake Bridge Road, Dinsmore   \n",
       "3338                 Van Vleck Road and Jackson Highway   \n",
       "3339                      Paloma Road and Hornitos Road   \n",
       "\n",
       "      incident_acres_burned  incident_containment  ... incident_latitude  \\\n",
       "0                      37.0                 100.0  ...         40.774000   \n",
       "1                     122.0                 100.0  ...          1.000000   \n",
       "2                     407.0                 100.0  ...         36.602575   \n",
       "3                      30.0                 100.0  ...         34.288877   \n",
       "4                     274.0                 100.0  ...         37.116295   \n",
       "...                     ...                   ...  ...               ...   \n",
       "3335                   13.0                 100.0  ...         34.301578   \n",
       "3336                   37.0                 100.0  ...         37.906127   \n",
       "3337                   12.0                 100.0  ...         40.463864   \n",
       "3338                   30.0                  95.0  ...         38.482401   \n",
       "3339                   86.0                 100.0  ...         37.482008   \n",
       "\n",
       "     incident_type                           incident_id  \\\n",
       "0              NaN  2ca11d45-8139-4c16-8af0-880d99b21e82   \n",
       "1         Wildfire  8f61f461-552d-4538-b186-35ab030da416   \n",
       "2              NaN  094719ba-a47b-4abb-9ec5-a506b2b9fd23   \n",
       "3              NaN  58f89ff8-bd3e-4355-b1c0-8fa05c747d3f   \n",
       "4              NaN  357ffc13-bef9-48eb-810f-c5de851972eb   \n",
       "...            ...                                   ...   \n",
       "3335      Wildfire  75c850b6-27a5-493e-aaef-a42e02b2eab4   \n",
       "3336      Wildfire  2d15d2af-d4a5-4f41-a17c-b17e3030ea93   \n",
       "3337      Wildfire  793418f8-d217-44c3-8409-617b2a3107a2   \n",
       "3338      Wildfire  cd5d2222-9721-4800-a0b7-604d56b86a93   \n",
       "3339      Wildfire  5fa1beec-2657-45ff-8f6c-3c16313ad424   \n",
       "\n",
       "                                           incident_url  \\\n",
       "0     https://www.fire.ca.gov/incidents/2017/10/31/b...   \n",
       "1     https://www.fire.ca.gov/incidents/2009/5/24/pa...   \n",
       "2     https://www.fire.ca.gov/incidents/2013/2/24/ri...   \n",
       "3     https://www.fire.ca.gov/incidents/2013/4/20/fa...   \n",
       "4     https://www.fire.ca.gov/incidents/2013/4/30/go...   \n",
       "...                                                 ...   \n",
       "3335  https://www.fire.ca.gov/incidents/2025/9/25/lo...   \n",
       "3336  https://www.fire.ca.gov/incidents/2025/9/26/ma...   \n",
       "3337  https://www.fire.ca.gov/incidents/2025/9/26/co...   \n",
       "3338  https://www.fire.ca.gov/incidents/2025/9/29/vl...   \n",
       "3339  https://www.fire.ca.gov/incidents/2025/9/30/pa...   \n",
       "\n",
       "     incident_date_extinguished incident_dateonly_extinguished  \\\n",
       "0          2018-01-09T13:46:00Z                     2018-01-09   \n",
       "1          2009-05-25T00:00:00Z                     2009-05-25   \n",
       "2          2013-02-28T20:00:00Z                     2013-02-28   \n",
       "3          2013-04-22T09:00:00Z                     2013-04-22   \n",
       "4          2013-05-01T07:00:00Z                     2013-05-01   \n",
       "...                         ...                            ...   \n",
       "3335       2025-09-27T14:00:00Z                     2025-09-27   \n",
       "3336       2025-09-26T23:30:00Z                     2025-09-26   \n",
       "3337       2025-09-28T17:00:00Z                     2025-09-28   \n",
       "3338                        NaN                            NaN   \n",
       "3339       2025-09-30T18:44:00Z                     2025-09-30   \n",
       "\n",
       "     incident_dateonly_created is_active calfire_incident notification_desired  \n",
       "0                   2017-10-31         N            False                False  \n",
       "1                   2009-05-24         N             True                False  \n",
       "2                   2013-02-24         N             True                False  \n",
       "3                   2013-04-20         N            False                False  \n",
       "4                   2013-04-30         N             True                False  \n",
       "...                        ...       ...              ...                  ...  \n",
       "3335                2025-09-25         N            False                False  \n",
       "3336                2025-09-26         N             True                False  \n",
       "3337                2025-09-26         N             True                False  \n",
       "3338                2025-09-29         Y             True                False  \n",
       "3339                2025-09-30         N             True                False  \n",
       "\n",
       "[3340 rows x 23 columns]"
      ]
     },
     "execution_count": 67,
     "metadata": {},
     "output_type": "execute_result"
    }
   ],
   "source": [
    "DF = pd.read_csv(\"./mapdataall.csv\")\n",
    "DF"
   ]
  },
  {
   "cell_type": "markdown",
   "id": "941e4499-edd1-4210-b3ff-292dd2eb4df7",
   "metadata": {},
   "source": [
    "**Q1** How many variables and observations?\n",
    "\n",
    "**Q2** How many different incident types are there?\n",
    "\n",
    "**Q3** Make a histogram of the acres burned and color the bars by whether or not the incident was a calfire incident. You will probably need to make a mask to remove very small and very large fires. How many fires burned more than 100,000 acres? What is the largest fire in the data?\n",
    "\n",
    "**Extra Q** EXTRA - CHALLENGE - See if you can create a graph that answers the question: Are fires getting bigger or more frequent over time? You get complete creative control on how to answer this question!"
   ]
  },
  {
   "cell_type": "code",
   "execution_count": 68,
   "id": "df36876b-02c2-4d86-b55b-62819a368bf6",
   "metadata": {},
   "outputs": [
    {
     "name": "stdout",
     "output_type": "stream",
     "text": [
      "The number of observations is 3340\n",
      "The number of variables is 23\n"
     ]
    }
   ],
   "source": [
    "# You will need to write some code to answer the questions.\n",
    "obv = DF.shape[0]\n",
    "var = DF.shape[1]\n",
    "\n",
    "print(f\"The number of observations is {obv}\")\n",
    "print(f\"The number of variables is {var}\")"
   ]
  },
  {
   "cell_type": "code",
   "execution_count": 69,
   "id": "0388222e-a80b-4392-99cd-3966254c4017",
   "metadata": {},
   "outputs": [
    {
     "name": "stdout",
     "output_type": "stream",
     "text": [
      "Number of different incident types: 5\n"
     ]
    }
   ],
   "source": [
    "#DF.columns\n",
    "diff_incidents_type = DF['incident_type'].unique()\n",
    "number_dit = len(diff_incidents_type)\n",
    "print(f\"Number of different incident types: {number_dit}\")"
   ]
  },
  {
   "cell_type": "code",
   "execution_count": 70,
   "id": "8f832f2c",
   "metadata": {},
   "outputs": [
    {
     "name": "stdout",
     "output_type": "stream",
     "text": [
      "There are 21 fires that burned more than 100,000 acres\n"
     ]
    }
   ],
   "source": [
    "mask_acres = (DF['incident_acres_burned'] > 100000)\n",
    "DF_acres = DF[mask_acres]\n",
    "\n",
    "acre_obv = DF_acres.shape[0]\n",
    "print(f\"There are {acre_obv} fires that burned more than 100,000 acres\")"
   ]
  },
  {
   "cell_type": "code",
   "execution_count": 71,
   "id": "0151d676",
   "metadata": {},
   "outputs": [
    {
     "data": {
      "application/vnd.plotly.v1+json": {
       "config": {
        "plotlyServerURL": "https://plot.ly"
       },
       "data": [
        {
         "bingroup": "x",
         "histfunc": "sum",
         "hovertemplate": "calfire_incident=True<br>incident_name=%{x}<br>sum of incident_acres_burned=%{y}<extra></extra>",
         "legendgroup": "True",
         "marker": {
          "color": "#636efa",
          "pattern": {
           "shape": ""
          }
         },
         "name": "True",
         "orientation": "v",
         "showlegend": true,
         "type": "histogram",
         "x": [
          "Pala Fire",
          "River Fire",
          "Gold Fire",
          "Panther Fire",
          "Yellow Fire",
          "Summit Fire",
          "Tres Pinos Fire",
          "306 Fire",
          "Gorgonio Fire",
          "Grand Fire",
          "Lake Fire",
          "Shelton Fire",
          "Border Fire",
          "San Felipe Fire",
          "Smiley Fire",
          "General Fire",
          "Magic Fire",
          "Olive Fire",
          "Murphy Fire",
          "Lone Fire",
          "152 Fire",
          "Vasco Fire",
          "Clinton Fire",
          "Carstens Fire",
          "PFE Fire",
          "Rolling Fire",
          "California Fire",
          "George Fire",
          "Mills Fire",
          "Concord Fire",
          "Freeman Fire",
          "Kirker Fire",
          "Northern Region July Lightning",
          "Fox Fire (formally 3-7 Fire)",
          "Vina Fire",
          "Chariot Fire",
          "Diablo Fire",
          "Redlands Fire",
          "Water Fire",
          "Rancho Fire",
          "Paskenta Fire",
          "Lakeville Fire",
          "50 Fire",
          "Falls Fire",
          "Union Fire",
          "Swedes Fire",
          "Clover Fire",
          "Burney Lightning Series (Warner Fire)",
          "Morgan Fire",
          "Lyon Fire",
          "Putah Fire",
          "Crane Fire",
          "Summit Fire",
          "Capay Fire",
          "Cantwell Fire",
          "Silverado Fire",
          "McCabe Fire",
          "Red Fire",
          "Lake Fire",
          "Encinal Fire",
          "Bridges Fire",
          "Etiwanda Fire",
          "Bernardo Fire",
          "Miguelito Fire",
          "Highway Fire",
          "Cocos Fire",
          "Indian Fire",
          "59 Fire",
          "Hetch Hetchy Fire",
          "Haigh Fire",
          "Tehama Fire",
          "Reed Fire",
          "Butts Fire",
          "Monticello Fire",
          "Gulch Fire",
          "Banner Fire",
          "Dry Fire",
          "Sand Fire",
          "Little Deer Fire",
          "Junction Fire",
          "Little Fire",
          "Oregon Fire",
          "Gulch Fire",
          "Dog Bar Fire",
          "Courtney Fire",
          "Boles Fire",
          "Ward Fire",
          "Highway Fire",
          "Forebay Fire",
          "Wildcat Fire",
          "Cook Fire",
          "Corrine Fire",
          "Red Fire",
          "Loma Fire",
          "Black Fire",
          "Sky Fire",
          "241 Fire",
          "Cooley Fire",
          "North Fire",
          "Triple Fire",
          "Wragg Fire",
          "3-11 Fire",
          "Lowell Fire",
          "Queen Fire",
          "Willow Fire",
          "Mark Fire",
          "Swedes Fire",
          "China Fire",
          "Big Creek Fire",
          "Tulloch Fire",
          "Vasco Fire",
          "Anza Fire",
          "36 Fire",
          "Cuesta Fire",
          "Horse Fire",
          "Tesla Fire",
          "Peterson Fire",
          "Democrat Fire",
          "Elk Fire",
          "Oak Fire",
          "Creek Fire",
          "Lumpkin Fire",
          "Walker Fire",
          "Munjar Fire",
          "Cienega Fire",
          "Tassajara Fire",
          "Metz Fire",
          "DeWolf Fire",
          "Coe Fire",
          "Shedd Fire",
          "Avocado Fire",
          "Athens Fire",
          "Coal Fire",
          "Temecula Fire",
          "Coleman Fire",
          "Camanche Fire",
          "Border Fire",
          "Sherpa Fire",
          "Creek Fire",
          "Dinosaur Fire",
          "Grant Fire",
          "Reservoir Fire",
          "Trailhead Fire",
          "Rancho Fire",
          "Big Fire",
          "Fort Fire",
          "Fiddler Fire",
          "Colyear Fire",
          "Deer Fire",
          "Curry Fire",
          "Appaloosa Fire",
          "Frame Fire",
          "Broken Fire",
          "Pacheco Fire",
          "Onyx Fire",
          "Famoso Fire",
          "Green Fire",
          "Feather Fire",
          "Goose Fire",
          "Bradley Fire",
          "Saddle Fire",
          "Sierra Fire",
          "99 Fire",
          "Cold Fire",
          "Hart Fire",
          "Pilot Fire",
          "Mineral Fire",
          "Clayton Fire",
          "Sunny Fire",
          "Beale Fire",
          "Bird Fire",
          "Tully Fire",
          "Willard Fire",
          "Willow Fire",
          "Grade Fire",
          "Howard Fire",
          "Range Fire",
          "Hog Fire",
          "Bangor Fire",
          "Butte Fire",
          "Marshes Fire",
          "Cow Fire",
          "Sawmill Fire",
          "Loma Fire",
          "Emerald Fire",
          "West Fire",
          "Jayne Fire",
          "Tumey Fire",
          "Opera Fire",
          "Olive Fire",
          "Sonoma Fire",
          "Wright Fire",
          "Arrow Fire",
          "Bravo Fire",
          "41 Fire",
          "Camp Fire",
          "Elm Fire",
          "Gate Fire",
          "Ming Fire",
          "Wasioja Fire",
          "Lamb Fire",
          "Dinely Fire",
          "26 Fire",
          "Bodfish Fire",
          "Oakwood Fire",
          "Wild Fire",
          "Monterey Fire",
          "King Fire",
          "Lucy Fire",
          "Canyon Fire",
          "Skyway Fire",
          "Smiley Fire",
          "Lone Fire",
          "Creek Fire",
          "Manzanita Fire",
          "Hill Fire",
          "Ben Fire",
          "Tarina Fire ",
          "Oak Fire",
          "Spring Fire",
          "Derrick Fire",
          "Eagle Fire",
          "Fay Fire",
          "Winters Fire",
          "Quail Fire",
          "Hawk Fire",
          "Wall Fire",
          "Deer Complex",
          "Stone Fire",
          "Willow Fire",
          "Parkfield Fire",
          "Honcut Fire",
          "Bridge Fire",
          "Jennings Fire",
          "Grade Fire",
          "Park Fire",
          "Maria Fire",
          "Hudson Fire",
          "Laverne Fire",
          "Roadrunner Fire",
          "Twist Fire",
          "Humboldt Fire",
          "Jacksonville Fire",
          "Ranch Fire",
          "Elephant Fire",
          "Latrobe Fire",
          "Lost Fire",
          "Olive Fire",
          "High Fire",
          "Hill Fire",
          "Largo Fire",
          "Rose Fire",
          "Red Fire",
          "Bryant Fire",
          "Stewart Fire",
          "Rose Fire",
          "Tilton Fire",
          "Canyon Fire",
          "Yankee Fire",
          "Blaine Fire",
          "Coronado Fire",
          "Mias Fire",
          "Hills Fire",
          "Beale Fire",
          "Eclipse Fire",
          "Peg Fire",
          "Flat Fire",
          "Ponderosa Fire",
          "Pleasant Fire",
          "Coalinga Fire",
          "Border Fire",
          "Mission Fire",
          "Parkfield Fire",
          "Palmer Fire",
          "Margarita Fire",
          "Bally Fire",
          "Peak Fire",
          "Soda Fire",
          "Berry Fire",
          "French Fire",
          "Eastman Fire",
          "Grape Fire",
          "Corral Fire",
          "Murphy Fire",
          "Huasna Fire",
          "Poly Fire",
          "Canyon Fire",
          "Rucker Fire",
          "Timm Fire",
          "Cherokee Fire",
          "Partrick Fire (Central LNU Complex)",
          "LaPorte Fire (Wind Complex)",
          "Cascade Fire (Wind Complex)",
          "Point Fire",
          "37 Fire",
          "Sulphur Fire (Mendocino Lake Complex)",
          "Lobo Fire (Wind Complex)",
          "Honey Fire",
          "Canyon 2 Fire",
          "Wildomar Fire",
          "Tehama Fire",
          "Bear Fire",
          "Quarry Fire",
          "Little Mountain Fire",
          "Rolling Fire",
          "Long Fire",
          "Oakmont Fire (Central LNU Complex)",
          "Fallon Fire",
          "Rye Fire",
          "Church Fire",
          "Lilac Fire",
          "Pleasant Fire",
          "Patterson Fire",
          "Shastina Fire",
          "Nees Fire",
          "Moffat Fire",
          "Jelly Fire",
          "Water Fire",
          "Cobble Fire",
          "Grant Fire",
          "Aliso Fire",
          "Airline Fire",
          "Eastern Fire",
          "ONeals Fire",
          "Recycle Fire",
          "Bear Fire",
          "Apple Fire",
          "Chrome Fire",
          "Beaver Fire",
          "Santiago Fire",
          "Euclid Fire",
          "Planada Fire",
          "Dinosaur Fire",
          "Wheeler Fire",
          "Bascom Fire",
          "Lane Fire",
          "Stoll Fire",
          "Creek Fire",
          "Flat Fire",
          "Flat Fire",
          "San Ardo",
          "Shippee Fire",
          "Fox Fire",
          "Hyatt Fire",
          "Par Fire",
          "Valley Fire",
          "West Fire",
          "Shingle Fire",
          "Irish Fire",
          "Holiday Fire",
          "Bridle Fire",
          "Stoney Fire",
          "Panoche Fire",
          "Grant Fire",
          "Dale Fire",
          "Idria Fire",
          "Steamboat Fire",
          "Eighty Eight Fire",
          "Skyline Fire",
          "Windmill Fire",
          "Country Fire",
          "Pico Fire",
          "Roxie Fire (Formerly 1-1 Fire)",
          "Marsh Fire",
          "Western Fire",
          "Pasqual Fire",
          "Ribbon Fire",
          "Parrots Fire",
          "Tarina Fire",
          "Balch Fire",
          "Breckenridge Fire",
          "Rock Fire",
          "Steele Fire",
          "Sunset Fire",
          "Turkey Fire",
          "South Fire",
          "Pine Fire",
          "Rangeland Fire",
          "Hat Fire",
          "Snell Fire",
          "Nelson Fire",
          "Gulch Fire",
          "River Fire",
          "Gorge Fire",
          "Eastman Fire",
          "Cache Fire",
          "Sliger Fire",
          "Tulloch Fire",
          "Metz Fire",
          "Irving Fire",
          "Water Fire",
          "Oak Fire",
          "Sun Fire",
          "Priest Fire",
          "Market Fire",
          "June Fire",
          "Hill Fire",
          "Briggs Fire",
          "Peak Fire",
          "York Fire",
          "Vulcan Fire",
          "Shady Fire",
          "Belmont Fire",
          "Hill Fire",
          "Canyon Fire",
          "Spruce Fire",
          "Citrus Fire",
          "Boulder Fire",
          "Stuhr Fire",
          "Sand Fire",
          "McMillan Fire",
          "Malech Fire",
          "Bitter Fire ",
          "Weisgarber Fire",
          "Jerry Fire",
          "Rock Fire",
          "Lonoak Fire",
          "Dyer Fire",
          "Wolf Fire ",
          "Merced Fire ",
          "Hollow Fire",
          "Lake Fire",
          "Gillis Fire",
          "Sargent Fire",
          "Border Fire",
          "South Fire ",
          "Milton Fire ",
          "Madera Fire ",
          "Valley Fire",
          "Marshview Fire",
          "Usal Fire",
          "Dehesa Fire",
          "Lake Fire",
          "Marsh Complex",
          "3-2 Willow (Previously H-1 Fire)",
          "Moose Fire",
          "West Fire ",
          "Cottage Fire",
          "Hunter Fire",
          "Border 8 Fire",
          "Gaines Fire",
          "Patterson Fire",
          "Mountain Fire",
          "Creek Fire",
          "Antelope Fire",
          "Tenaja",
          "Red Bank Fire",
          "Swedes Fire",
          "Stuhr Fire ",
          "Baseline Fire ",
          "Reservoir Fire",
          "Dehesa Fire ",
          "Hwy Fire",
          "Briceburg Fire",
          "American Fire",
          "Cross Fire",
          "Reche Fire",
          "Sandalwood Fire",
          "Mud Fire ",
          "Rawson Fire",
          "Sky Fire ",
          "Burris Fire",
          "Easy Fire",
          "Hill Fire ",
          "46 Fire",
          "Maria Fire ",
          "Ranch Fire",
          "Foothills Fire",
          "Grizzly Fire",
          "Mann Fire",
          "Acres Fire",
          "Amoruso Fire",
          "Lakeville Fire",
          "Gulch Fire",
          "Quail Fire",
          "Bitterwater Fire",
          "Bradley Fire ",
          "Vineyard Fire ",
          "Soda Fire",
          "Lime Fire",
          "Skyline Fire",
          "Grant Fire",
          "Cornetts Fire",
          "Avila Fire",
          "Bitter Fire ",
          "Walker Fire",
          "Nelson Fire",
          "Fork Fire",
          "Springs Fire",
          "Hunter Fire",
          "Grade Fire ",
          "Rico Fire ",
          "Diablo Fire",
          "Pass Fire",
          "Avacado Fire",
          "Bena Fire",
          "Sheridan Fire",
          "Lake Fire",
          "Park Fire",
          "Cotton Fire",
          "Crews Fire",
          "California Fire",
          "Patterson Fire",
          "Power Fire",
          "Coyote Fire",
          "Hollow Fire",
          "Pitzer Fire",
          "Badger Fire",
          "Hog Fire",
          "Platina Fire",
          "Rabbit Fire ",
          "Jack Fire",
          "Hill Fire",
          "Karen Fire",
          "Cottonwood Fire",
          "Border 11 Fire",
          "Branch Fire",
          "Clay Fire",
          "Rabbit Fire",
          "Pond Fire",
          "Sites Fire ",
          "Post Fire",
          "Stagecoach Fire",
          "Pass Fire",
          "Fort Fire",
          "Mina Fire",
          "Carrizo Fire",
          "Meiss Fire",
          "Clark Fire",
          "Whale Fire",
          "Hills Fire",
          "Elk Fire",
          "Jones Fire",
          "4-8 Fire",
          "Carmel Fire",
          "Salt Fire",
          "Creek Fire",
          "Moc Fire",
          "Coyote Fire",
          "Hensley Fire ",
          "Oak Fire",
          "Willow Fire",
          "Candy Fire",
          "Bruder Fire",
          "Redwood Fire",
          "Point Fire (Shasta and Tehama County)",
          "Dersch Fire",
          "Airport Fire",
          "Cerritos Fire",
          "Bond Fire",
          "Sanderson Fire",
          "Wolf Fire",
          "Towsley Fire",
          "Refuge Fire",
          "Turnout Fire",
          "Campo Fire",
          "Southern Fire",
          "Bridge Fire",
          "Gunnison Fire",
          "Granite Fire",
          "Davis Fire",
          "Lake Fire",
          "Live Oak Fire",
          "Mile Fire",
          "Sargents Fire",
          "Intanko Fire",
          "Farm Fire",
          "Beale Fire",
          "Rock Fire",
          "Park Fire",
          "Alabama Fire",
          "Overland Fire",
          "Cow Fire",
          "Panoche Fire",
          "Mesa Fire",
          "4-3 Fire",
          "Canyon Fire",
          "Vulcan Fire",
          "Stowe Fire",
          "Beswick Fire",
          "Ysabel Fire",
          "Main Fire",
          "Diablo Fire",
          "River Fire",
          "Pinnacles Fire",
          "River Fire",
          "Glen Fire",
          "Coyote Fire",
          "Rock Fire",
          "Airola Fire",
          "Westward Fire",
          "Washington Fire",
          "Bridge Fire",
          "Hopkins Fire",
          "Kettle Fire",
          "Newell Fire",
          "Estrada Fire",
          "Hollister Fire",
          "Gulch Fire ",
          "House Fire",
          "Coastal Fire",
          "Edmonston Fire",
          "Dunnigan Fire ",
          "Quail Fire",
          "Old Fire",
          "Marsh Fire",
          "Plant Fire",
          "Sheep Fire",
          "Border 13 Fire ",
          "Rancho Fire",
          "Scenic Fire ",
          "Romero Fire",
          "Union Fire",
          "Redwood Fire",
          "Burrows Fire ",
          "Camino Fire",
          "Rices Fire",
          "Nelson Fire",
          "Electra Fire",
          "Porter Fire",
          "Herman Fire",
          "Border 27 Fire",
          "Agua Fire",
          "Flynn Fire ",
          "Anzar Fire",
          "Casner Fire",
          "Marmot Fire",
          "Rail Fire",
          "Border 32",
          "Walker Fire",
          "Mill Fire",
          "Power Fire ",
          "Fork Fire ",
          "Coyote Fire",
          "Forward Fire",
          "66 Fire",
          "Ramona Fire",
          "Pistol Fire",
          "Orange Fire",
          "Valley Fire",
          "Scott Fire",
          "Snell Fire",
          "Rocky Fire",
          "Slough Fire",
          "Gann Fire",
          "Vineyard Fire",
          "Highland Fire",
          "Rabbit Fire",
          "Gavilan Fire",
          "Reche Fire",
          "Idria Fire",
          "Oak Fire",
          "Wonder Fire",
          "Bonny Fire",
          "Sunset Fire",
          "Shell Fire",
          "No Name Fire",
          "Bunnie Fire",
          "Rock Fire",
          "Dry Creek Complex",
          "Bitter Fire",
          "SKU August Lightning Complex",
          "Thirty Five Fire",
          "Coyote Fire",
          "Green Fire",
          "Highland Fire",
          "Lizzie Fire",
          "Sun Fire",
          "South Fire",
          "Pine Fire",
          "York Fire",
          "Refuge Fire",
          "Petrol Fire",
          "Wind Fire",
          "Panoche Fire",
          "Mocal Fire",
          "Mateo Fire",
          "Devil Fire",
          "Firebaugh Fire",
          "Ranch Fire",
          "Border 53 Fire",
          "West Fire",
          "Road Fire",
          "Bitterwater ",
          "Devil Fire",
          "Bear Fire",
          "Grant Fire",
          "Junes Fire",
          "Hernandez Fire",
          "Lisa Fire",
          "Point Fire",
          "Douglas Fire",
          "Aero Fire",
          "Water Fire",
          "Willow Fire",
          "Border 58 Fire",
          "Muscat Fire",
          "Amoruso Fire",
          "1-2 Fire",
          "Apache Fire",
          "Empire",
          "Hollow Fire",
          "Cotton Fire",
          "Lonoak Fire",
          "Round Fire",
          "Sierra Fire ",
          "Mccain Fire",
          "Thompson Fire",
          "Airline Fire",
          "Grande Fire",
          "French Fire",
          "Bogus Fire",
          "Cow 2 Fire",
          "Railbridge Fire",
          "Athens Fire",
          "Pauba Fire",
          "Soda Fire",
          "White Fire",
          "Rancho Fire",
          "Rim Fire",
          "Dewey Fire",
          "Paradise Fire",
          "Hill Fire",
          "Liberty Fire",
          "Ridge Fire",
          "Coyote Fire",
          "Eagle Fire",
          "Metz Fire",
          "Grove 2 Fire",
          "Acorn Fire",
          "Macy Fire",
          "Flynn Fire",
          "Creek Fire",
          "Nixon Fire",
          "Border 66 Fire",
          "Pedro Fire",
          "Lower Fire",
          "Meiss Fire",
          "Zarzo Fire",
          "Hills Fire",
          "Record Fire",
          "Bear Fire",
          "Post Fire",
          "Dorado Fire",
          "Cotton Fire",
          "Crozier Fire",
          "Soda Fire",
          "Felicia Fire",
          "Glenhaven Fire",
          "Posta 3 Fire",
          "Piney Fire ",
          "Bahrman Fire",
          "Jack Fire",
          "Hay Fire",
          "Campbell Fire",
          "Franklin Fire",
          "Border 2 Fire",
          "Rosa Fire",
          "Silver Fire",
          "Reef Fire",
          "Springs Fire",
          "Catlett Fire",
          "Robinson Fire",
          "L7a 2 Fire",
          "Nella Fire",
          "Idria Fire",
          "Cunningham Fire",
          "Crossing Fire",
          "Midway Fire",
          "Run Fire",
          "Henderson Fire",
          "Rose Fire",
          "Fort Fire",
          "Cahuilla Fire",
          "Ranch Fire",
          "SKU Early June Lightning Complex",
          "Rocky Fire",
          "Little Fire",
          "Dino Fire",
          "Firestone Fire",
          "Linda Fire",
          "Bitter Fire",
          "Bonanza Fire",
          "Somersville Fire",
          "Rancho Fire",
          "Camino Fire",
          "Benito Fire",
          "Granite Fire",
          "Monterey Fire",
          "Dias Fire",
          "Saddle Fire",
          "Lake Fire",
          "Wolf Fire",
          "Mindy Fire",
          "Juniper Fire",
          "Sims Fire",
          "Zediker Fire",
          "Bridge Fire",
          "Pyrite Fire",
          "Scavenger Fire",
          "Dale Fire",
          "Euclid Fire",
          "Boneyard Fire",
          "Medicine Fire",
          "1-4 Fire",
          "Lake Fire",
          "Claypit Fire",
          "Canyon Fire",
          "Panoche Fire",
          "Tiger Fire",
          "Heather Fire",
          "Herman Fire",
          "Coyote Fire",
          "Pickett Fire",
          "Parks Fire",
          "SKU Late August Lightning Complex",
          "Pomegranate Fire",
          "R-3 Fire",
          "Canal Fire",
          "Rock Fire",
          "18-1 Fire",
          "Hornitos 1-2 Fire",
          "Moraga Fire",
          "1-4 Fire",
          "1-3 Fire",
          "6-5 Fire",
          "Marmon Fire",
          "6-2 Fire",
          "Rd 29 / Ave 16.25 Fire",
          "Pyrite Fire",
          "Solar Fire"
         ],
         "xaxis": "x",
         "y": {
          "bdata": "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",
          "dtype": "f8"
         },
         "yaxis": "y"
        },
        {
         "bingroup": "x",
         "histfunc": "sum",
         "hovertemplate": "calfire_incident=False<br>incident_name=%{x}<br>sum of incident_acres_burned=%{y}<extra></extra>",
         "legendgroup": "False",
         "marker": {
          "color": "#EF553B",
          "pattern": {
           "shape": ""
          }
         },
         "name": "False",
         "orientation": "v",
         "showlegend": true,
         "type": "histogram",
         "x": [
          "White Fire",
          "Branch Fire",
          "Kyburz Fire",
          "Power Fire",
          "Sharp Fire",
          "Cleghorn Fire",
          "Plumas Lightning Complex (Hough)",
          "Shirley Fire",
          "Sierra Fire",
          "Gobblers Fire",
          "Fish Fire",
          "Angora Fire",
          "Madre Fire",
          "DeLuz Fire",
          "Campbell Fire",
          "Colby Fire",
          "Gun Fire",
          "Tomahawk Fire",
          "San Mateo Fire",
          "Poinsettia Fire",
          "Shirley Fire",
          "Modoc Lightning Complex",
          "Nicolls Fire ",
          "Coffee Fire",
          "Shoemaker Fire",
          "Tecolote Fire",
          "Way Fire",
          "Bald Hill 3 Fire",
          "Dog Rock Fire",
          "Stephens Fire",
          "Silverado Fire",
          "Saddle Fire ",
          "Calgrove Fire ",
          "Sterling Fire",
          "Pines Fire ",
          "Cutca Fire",
          "Cabin Fire",
          "Frog Fire",
          "Solimar Fire",
          "Wheatland Fire",
          "Pony Fire",
          "Marina Fire",
          "Sage Fire",
          "Pine Fire",
          "Roblar Fire",
          "Holy Fire",
          "Havilah Fire",
          "Tule Fire",
          "Old Fire",
          "Owens River Fire",
          "Soup Complex",
          "Washington Fire",
          "Tobin Fire",
          "Sacata Fire",
          "Marek Fire",
          "Meadow Fire",
          "El Dorado Fire",
          "Tower Fire",
          "Deluz Fire",
          "Range Fire",
          "Lake Fire",
          "Highway Fire",
          "Holcomb Fire",
          "Evans Fire",
          "Placerita Fire",
          "Mart Fire",
          "Battle Fire",
          "Dode Fire",
          "Farad Fire",
          "Lariat Fire",
          "I-5 Fire",
          "Gorman Fire",
          "Minerva Fire",
          "Marble Fire",
          "Garden Fire",
          "Mile Fire",
          "Chilcoot Fire",
          "W-2 Fire",
          "Poslin Fire",
          "Ruth Complex",
          "Empire Fire",
          "South Fork Fire",
          "Toll Fire",
          "Indian Fire",
          "Young Fire",
          "Parker 2 Fire",
          "Range Fire",
          "Mud Fire",
          "Slinkard Fire",
          "Summit Complex",
          "Creek Fire",
          "Caldwell Fire",
          "La Tuna Fire ",
          "Eureka Fire",
          "Skeleton Fire",
          "River Fire",
          "Table Fire",
          "Buffalo Fire",
          "Chris Fire",
          "Liberty Fire",
          "Skirball Fire",
          "Santa Cruz Fire",
          "Alpha Fire",
          "Open Fire",
          "Stone Fire",
          "South Fire",
          "Tumbleweed Fire",
          "Upper Colony Fire",
          "Yankee Fire",
          "Sierra Fire",
          "Lions Fire",
          "Petersburg Fire",
          "Valley Fire",
          "Eagle Fire",
          "Georges Fire",
          "James Loop Fire",
          "Box Fire",
          "Mill Creek 1 Fire",
          "Owens Fire",
          "Butte Fire",
          "Eel Fire",
          "Murphy Fire",
          "Five Fire",
          "Cloverdale Fire",
          "Call Fire",
          "Front Fire",
          "Fork Fire",
          "Ogilvy Fire",
          "Sterling",
          "North Fire",
          "Kerlin Fire",
          "Boot Fire",
          "Charlie Fire",
          "Wilson Fire",
          "Nacimiento Fire",
          "Winters Fire",
          "Nurse Fire",
          "Sierra Fire",
          "Woody Fire",
          "Refuge Fire",
          "West Butte Fire",
          "Lumgrey Fire",
          "Snowstorm Fire",
          "Jasper Fire",
          "Doyle Fire",
          "Goose 2 Fire",
          "Tejon Fire",
          "Star Fire",
          "Range Fire",
          "Mill Fire",
          "Mesa Fire ",
          "Caliente Fire",
          "Meadow Fire (Not a CAL FIRE incident)",
          "Five Fire",
          "R-1 Fire",
          "W1 McDonald Fire",
          "Harte Fire",
          "Ward Fire",
          "Horse Fire",
          "Long Valley Fire ",
          "R-1 Fire",
          "Snail Fire",
          "Henthorne Fire",
          "South Fire",
          "Springs Fire",
          "Lone Fire",
          "Cow Fire",
          "Broder Fire",
          "R-6 Fire",
          "Lime Fire",
          "Kidder 2 Fire",
          "Rams Horn Fire",
          "Sycamore Fire",
          "McMurray Fire",
          "Horseshoe Fire ",
          "Bautista Fire",
          "Lopez Fire",
          "Saddle Ridge Fire",
          "Caples Fire",
          "Olivas Fire",
          "Real Fire",
          "Old Water Fire",
          "Tick Fire",
          "Cypress Complex",
          "Glencove Fire ",
          "Getty Fire ",
          "Hillside Fire",
          "Cave Fire",
          "Antelope Fire",
          "Baseball Fire",
          "Carter Fire ",
          "Interstate 5 Fire",
          "Hollister Fire",
          "Acres Fire",
          "Range Fire",
          "Scorpion Fire",
          "Smoketree Fire",
          "Wildlife Fire",
          "Colleen Fire",
          "Willow Fire ",
          "Sierra Fire",
          "India Fire",
          "Elizabeth Fire",
          "Hog Fire",
          "Drum Fire",
          "Baker Fire",
          "R-2 Fire",
          "R-3 Fire",
          "Bend Fire",
          "Aurora Fire",
          "Poeville Fire",
          "Rowher Fire",
          "Bonadelle Fire",
          "Soda Fire ",
          "Soledad Fire",
          "Valley Fire ",
          "Milepost 21 Fire",
          "Iris Fire",
          "Ridge Fire",
          "Brook Fire",
          "Dam Fire",
          "Sheep Fire",
          "Stump Fire",
          "Castaic Fire",
          "North Fire",
          "Beale Fire",
          "Elsmere Fire",
          "Trimmer Fire",
          "Texas Fire",
          "R-1 Fire",
          "Soda Fire",
          "Ranch 2 Fire",
          "Holser Fire",
          "Woodward Fire",
          "R-8 Pinecone Fire ",
          "Johnson Fire ",
          "Bullfrog Fire",
          "Fox Fire",
          "San Antonio Fire ",
          "Snow Fire ",
          "Martindale Fire ",
          "Cypress Fire",
          "San Dimas Fire",
          "Cornell Fire",
          "Erbes Fire",
          "North Fire",
          "Pine Fire",
          "Palisades Fire",
          "WeeVill Fire",
          "Sierra Fire",
          "Flats Fire",
          "Dairy Fire",
          "Success Fire",
          "Nettle Fire",
          "Willow Fire",
          "Inyo Creek Fire",
          "Antelope Fire",
          "Shell Fire",
          "Blue Fire",
          "Tumbleweed Fire",
          "Juniper Fire",
          "Coyote Fire",
          "Bradley Fire",
          "Dexter Fire",
          "Henry Fire",
          "Peak Fire",
          "Park Fire",
          "Robie Fire",
          "Hungry Fire",
          "Walkers Fire",
          "South Fire",
          "Chaparral Fire",
          "Knob Fire",
          "Route Fire",
          "Fremont Fire",
          "Fawn Fire",
          "Gravel Fire",
          "Hollow Fire",
          "Colorado Fire",
          "Emerald Fire ",
          "Airport Fire",
          "River Fire ",
          "Elk Trail Fire",
          "Lost Lake Fire ",
          "Graham Fire",
          "Thunder Fire ",
          "Tesla Fire",
          "Garrison Fire",
          "Washburn Fire",
          "Peter Fire ",
          "Mesa Fire",
          "Sam Fire",
          "Wishon Fire",
          "East Fire",
          "Gulch Fire",
          "Route Fire",
          "Radford Fire",
          "Barnes Fire",
          "Geology Fire",
          "Summit Fire",
          "District Fire",
          "Agua Fire",
          "East Fire ",
          "Almond Fire",
          "Deep Fire",
          "Slide 1 Fire",
          "South Fork Complex",
          "Plant Fire",
          "Palmas Fire",
          "Cartago Fire",
          "Gardner Fire",
          "School Fire",
          "Sherwood Fire",
          "Red Fire",
          "Cow Fire",
          "Valley Fire",
          "Holiday Fire",
          "Five Fire",
          "Hill Fire",
          "3-9 Fire",
          "Great 3 Fire",
          "Canal Fire",
          "Rosamond Fire",
          "Tesoro Fire",
          "Field Fire",
          "Gaskell Fire",
          "Lost Fire",
          "Cody Fire",
          "Aquaduct 2 Fire",
          "Stoddard 3 Fire",
          "Hinkley Fire",
          "Oil Fire",
          "West Fire",
          "Hesperia Fire",
          "Excelsior Fire",
          "Max Fire",
          "Tuscany Fire",
          "Sky Fire",
          "Daytona Fire",
          "Side Fire",
          "10th Fire",
          "Lavender Fire",
          "Columbia Fire",
          "Clear Fire",
          "Pizona Fire",
          "Spring Fire",
          "Sheering Fire",
          "El Paso Fire",
          "Power Fire",
          "Sharp Fire",
          "Olive Fire",
          "Orchard Fire",
          "Lucern Fire",
          "Blue Water Fire",
          "Vista Fire",
          "North Fire",
          "Royal Fire",
          "Breckenridge Fire",
          "Lost Hills Fire",
          "5 Fire",
          "Point Fire",
          "Willow Fire",
          "Sentinel Fire",
          "Ducor 2 Fire",
          "Deer Fire",
          "Fork Fire",
          "Tin Fire",
          "Hawarden Fire",
          "Gold Complex",
          "Pencil Fire",
          "Cow Camp Fire",
          "Point Fire",
          "Pole Fire",
          "Bella Fire",
          "Middle Fire",
          "Blue Fire",
          "Turbine Fire",
          "Quarry Fire",
          "Pendulum Fire",
          "Tenaja Fire",
          "Roblar Fire ",
          "Apollo Fire",
          "Peak Fire",
          "Tuledad Fire",
          "Shoe Fire",
          "Dove Fire",
          "Horseshoe Fire",
          "Santa Lucia Fire",
          "Canyon Crest Fire",
          "Soda Fire",
          "Hurst Fire",
          "Lidia Fire",
          "Kenneth Fire",
          "Democrat Fire",
          "Jaw Fire",
          "Dan Fire",
          "Inn Fire",
          "Frazier Fire",
          "Eureka Fire",
          "Hudson Fire",
          "Dogs Fire",
          "Monte Fire ",
          "Horse Fire",
          "Helena Fire",
          "Marble Complex Fire",
          "Max Fire",
          "Fay Fire",
          "Mammoth Fire ",
          "Five Fire",
          "Five 2 Fire",
          "Howards Fire",
          "Gold Fire",
          "Rosa Fire",
          "Ranch Fire",
          "Richbar Fire",
          "Mountain Fire",
          "King Fire",
          "Hawk Fire",
          "Crow Fire",
          "Little Fire",
          "Lierly Fire ",
          "R-3 Fire",
          "R-10 Fire",
          "Lake Fire",
          "Blue Fire",
          "Log Fire",
          "Root Fire",
          "Swift Complex",
          "Cedar Fire",
          "Paladino Fire"
         ],
         "xaxis": "x",
         "y": {
          "bdata": "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",
          "dtype": "f8"
         },
         "yaxis": "y"
        }
       ],
       "layout": {
        "barmode": "relative",
        "legend": {
         "title": {
          "text": "calfire_incident"
         },
         "tracegroupgap": 0
        },
        "margin": {
         "t": 60
        },
        "template": {
         "data": {
          "bar": [
           {
            "error_x": {
             "color": "#2a3f5f"
            },
            "error_y": {
             "color": "#2a3f5f"
            },
            "marker": {
             "line": {
              "color": "#E5ECF6",
              "width": 0.5
             },
             "pattern": {
              "fillmode": "overlay",
              "size": 10,
              "solidity": 0.2
             }
            },
            "type": "bar"
           }
          ],
          "barpolar": [
           {
            "marker": {
             "line": {
              "color": "#E5ECF6",
              "width": 0.5
             },
             "pattern": {
              "fillmode": "overlay",
              "size": 10,
              "solidity": 0.2
             }
            },
            "type": "barpolar"
           }
          ],
          "carpet": [
           {
            "aaxis": {
             "endlinecolor": "#2a3f5f",
             "gridcolor": "white",
             "linecolor": "white",
             "minorgridcolor": "white",
             "startlinecolor": "#2a3f5f"
            },
            "baxis": {
             "endlinecolor": "#2a3f5f",
             "gridcolor": "white",
             "linecolor": "white",
             "minorgridcolor": "white",
             "startlinecolor": "#2a3f5f"
            },
            "type": "carpet"
           }
          ],
          "choropleth": [
           {
            "colorbar": {
             "outlinewidth": 0,
             "ticks": ""
            },
            "type": "choropleth"
           }
          ],
          "contour": [
           {
            "colorbar": {
             "outlinewidth": 0,
             "ticks": ""
            },
            "colorscale": [
             [
              0,
              "#0d0887"
             ],
             [
              0.1111111111111111,
              "#46039f"
             ],
             [
              0.2222222222222222,
              "#7201a8"
             ],
             [
              0.3333333333333333,
              "#9c179e"
             ],
             [
              0.4444444444444444,
              "#bd3786"
             ],
             [
              0.5555555555555556,
              "#d8576b"
             ],
             [
              0.6666666666666666,
              "#ed7953"
             ],
             [
              0.7777777777777778,
              "#fb9f3a"
             ],
             [
              0.8888888888888888,
              "#fdca26"
             ],
             [
              1,
              "#f0f921"
             ]
            ],
            "type": "contour"
           }
          ],
          "contourcarpet": [
           {
            "colorbar": {
             "outlinewidth": 0,
             "ticks": ""
            },
            "type": "contourcarpet"
           }
          ],
          "heatmap": [
           {
            "colorbar": {
             "outlinewidth": 0,
             "ticks": ""
            },
            "colorscale": [
             [
              0,
              "#0d0887"
             ],
             [
              0.1111111111111111,
              "#46039f"
             ],
             [
              0.2222222222222222,
              "#7201a8"
             ],
             [
              0.3333333333333333,
              "#9c179e"
             ],
             [
              0.4444444444444444,
              "#bd3786"
             ],
             [
              0.5555555555555556,
              "#d8576b"
             ],
             [
              0.6666666666666666,
              "#ed7953"
             ],
             [
              0.7777777777777778,
              "#fb9f3a"
             ],
             [
              0.8888888888888888,
              "#fdca26"
             ],
             [
              1,
              "#f0f921"
             ]
            ],
            "type": "heatmap"
           }
          ],
          "histogram": [
           {
            "marker": {
             "pattern": {
              "fillmode": "overlay",
              "size": 10,
              "solidity": 0.2
             }
            },
            "type": "histogram"
           }
          ],
          "histogram2d": [
           {
            "colorbar": {
             "outlinewidth": 0,
             "ticks": ""
            },
            "colorscale": [
             [
              0,
              "#0d0887"
             ],
             [
              0.1111111111111111,
              "#46039f"
             ],
             [
              0.2222222222222222,
              "#7201a8"
             ],
             [
              0.3333333333333333,
              "#9c179e"
             ],
             [
              0.4444444444444444,
              "#bd3786"
             ],
             [
              0.5555555555555556,
              "#d8576b"
             ],
             [
              0.6666666666666666,
              "#ed7953"
             ],
             [
              0.7777777777777778,
              "#fb9f3a"
             ],
             [
              0.8888888888888888,
              "#fdca26"
             ],
             [
              1,
              "#f0f921"
             ]
            ],
            "type": "histogram2d"
           }
          ],
          "histogram2dcontour": [
           {
            "colorbar": {
             "outlinewidth": 0,
             "ticks": ""
            },
            "colorscale": [
             [
              0,
              "#0d0887"
             ],
             [
              0.1111111111111111,
              "#46039f"
             ],
             [
              0.2222222222222222,
              "#7201a8"
             ],
             [
              0.3333333333333333,
              "#9c179e"
             ],
             [
              0.4444444444444444,
              "#bd3786"
             ],
             [
              0.5555555555555556,
              "#d8576b"
             ],
             [
              0.6666666666666666,
              "#ed7953"
             ],
             [
              0.7777777777777778,
              "#fb9f3a"
             ],
             [
              0.8888888888888888,
              "#fdca26"
             ],
             [
              1,
              "#f0f921"
             ]
            ],
            "type": "histogram2dcontour"
           }
          ],
          "mesh3d": [
           {
            "colorbar": {
             "outlinewidth": 0,
             "ticks": ""
            },
            "type": "mesh3d"
           }
          ],
          "parcoords": [
           {
            "line": {
             "colorbar": {
              "outlinewidth": 0,
              "ticks": ""
             }
            },
            "type": "parcoords"
           }
          ],
          "pie": [
           {
            "automargin": true,
            "type": "pie"
           }
          ],
          "scatter": [
           {
            "fillpattern": {
             "fillmode": "overlay",
             "size": 10,
             "solidity": 0.2
            },
            "type": "scatter"
           }
          ],
          "scatter3d": [
           {
            "line": {
             "colorbar": {
              "outlinewidth": 0,
              "ticks": ""
             }
            },
            "marker": {
             "colorbar": {
              "outlinewidth": 0,
              "ticks": ""
             }
            },
            "type": "scatter3d"
           }
          ],
          "scattercarpet": [
           {
            "marker": {
             "colorbar": {
              "outlinewidth": 0,
              "ticks": ""
             }
            },
            "type": "scattercarpet"
           }
          ],
          "scattergeo": [
           {
            "marker": {
             "colorbar": {
              "outlinewidth": 0,
              "ticks": ""
             }
            },
            "type": "scattergeo"
           }
          ],
          "scattergl": [
           {
            "marker": {
             "colorbar": {
              "outlinewidth": 0,
              "ticks": ""
             }
            },
            "type": "scattergl"
           }
          ],
          "scattermap": [
           {
            "marker": {
             "colorbar": {
              "outlinewidth": 0,
              "ticks": ""
             }
            },
            "type": "scattermap"
           }
          ],
          "scattermapbox": [
           {
            "marker": {
             "colorbar": {
              "outlinewidth": 0,
              "ticks": ""
             }
            },
            "type": "scattermapbox"
           }
          ],
          "scatterpolar": [
           {
            "marker": {
             "colorbar": {
              "outlinewidth": 0,
              "ticks": ""
             }
            },
            "type": "scatterpolar"
           }
          ],
          "scatterpolargl": [
           {
            "marker": {
             "colorbar": {
              "outlinewidth": 0,
              "ticks": ""
             }
            },
            "type": "scatterpolargl"
           }
          ],
          "scatterternary": [
           {
            "marker": {
             "colorbar": {
              "outlinewidth": 0,
              "ticks": ""
             }
            },
            "type": "scatterternary"
           }
          ],
          "surface": [
           {
            "colorbar": {
             "outlinewidth": 0,
             "ticks": ""
            },
            "colorscale": [
             [
              0,
              "#0d0887"
             ],
             [
              0.1111111111111111,
              "#46039f"
             ],
             [
              0.2222222222222222,
              "#7201a8"
             ],
             [
              0.3333333333333333,
              "#9c179e"
             ],
             [
              0.4444444444444444,
              "#bd3786"
             ],
             [
              0.5555555555555556,
              "#d8576b"
             ],
             [
              0.6666666666666666,
              "#ed7953"
             ],
             [
              0.7777777777777778,
              "#fb9f3a"
             ],
             [
              0.8888888888888888,
              "#fdca26"
             ],
             [
              1,
              "#f0f921"
             ]
            ],
            "type": "surface"
           }
          ],
          "table": [
           {
            "cells": {
             "fill": {
              "color": "#EBF0F8"
             },
             "line": {
              "color": "white"
             }
            },
            "header": {
             "fill": {
              "color": "#C8D4E3"
             },
             "line": {
              "color": "white"
             }
            },
            "type": "table"
           }
          ]
         },
         "layout": {
          "annotationdefaults": {
           "arrowcolor": "#2a3f5f",
           "arrowhead": 0,
           "arrowwidth": 1
          },
          "autotypenumbers": "strict",
          "coloraxis": {
           "colorbar": {
            "outlinewidth": 0,
            "ticks": ""
           }
          },
          "colorscale": {
           "diverging": [
            [
             0,
             "#8e0152"
            ],
            [
             0.1,
             "#c51b7d"
            ],
            [
             0.2,
             "#de77ae"
            ],
            [
             0.3,
             "#f1b6da"
            ],
            [
             0.4,
             "#fde0ef"
            ],
            [
             0.5,
             "#f7f7f7"
            ],
            [
             0.6,
             "#e6f5d0"
            ],
            [
             0.7,
             "#b8e186"
            ],
            [
             0.8,
             "#7fbc41"
            ],
            [
             0.9,
             "#4d9221"
            ],
            [
             1,
             "#276419"
            ]
           ],
           "sequential": [
            [
             0,
             "#0d0887"
            ],
            [
             0.1111111111111111,
             "#46039f"
            ],
            [
             0.2222222222222222,
             "#7201a8"
            ],
            [
             0.3333333333333333,
             "#9c179e"
            ],
            [
             0.4444444444444444,
             "#bd3786"
            ],
            [
             0.5555555555555556,
             "#d8576b"
            ],
            [
             0.6666666666666666,
             "#ed7953"
            ],
            [
             0.7777777777777778,
             "#fb9f3a"
            ],
            [
             0.8888888888888888,
             "#fdca26"
            ],
            [
             1,
             "#f0f921"
            ]
           ],
           "sequentialminus": [
            [
             0,
             "#0d0887"
            ],
            [
             0.1111111111111111,
             "#46039f"
            ],
            [
             0.2222222222222222,
             "#7201a8"
            ],
            [
             0.3333333333333333,
             "#9c179e"
            ],
            [
             0.4444444444444444,
             "#bd3786"
            ],
            [
             0.5555555555555556,
             "#d8576b"
            ],
            [
             0.6666666666666666,
             "#ed7953"
            ],
            [
             0.7777777777777778,
             "#fb9f3a"
            ],
            [
             0.8888888888888888,
             "#fdca26"
            ],
            [
             1,
             "#f0f921"
            ]
           ]
          },
          "colorway": [
           "#636efa",
           "#EF553B",
           "#00cc96",
           "#ab63fa",
           "#FFA15A",
           "#19d3f3",
           "#FF6692",
           "#B6E880",
           "#FF97FF",
           "#FECB52"
          ],
          "font": {
           "color": "#2a3f5f"
          },
          "geo": {
           "bgcolor": "white",
           "lakecolor": "white",
           "landcolor": "#E5ECF6",
           "showlakes": true,
           "showland": true,
           "subunitcolor": "white"
          },
          "hoverlabel": {
           "align": "left"
          },
          "hovermode": "closest",
          "mapbox": {
           "style": "light"
          },
          "paper_bgcolor": "white",
          "plot_bgcolor": "#E5ECF6",
          "polar": {
           "angularaxis": {
            "gridcolor": "white",
            "linecolor": "white",
            "ticks": ""
           },
           "bgcolor": "#E5ECF6",
           "radialaxis": {
            "gridcolor": "white",
            "linecolor": "white",
            "ticks": ""
           }
          },
          "scene": {
           "xaxis": {
            "backgroundcolor": "#E5ECF6",
            "gridcolor": "white",
            "gridwidth": 2,
            "linecolor": "white",
            "showbackground": true,
            "ticks": "",
            "zerolinecolor": "white"
           },
           "yaxis": {
            "backgroundcolor": "#E5ECF6",
            "gridcolor": "white",
            "gridwidth": 2,
            "linecolor": "white",
            "showbackground": true,
            "ticks": "",
            "zerolinecolor": "white"
           },
           "zaxis": {
            "backgroundcolor": "#E5ECF6",
            "gridcolor": "white",
            "gridwidth": 2,
            "linecolor": "white",
            "showbackground": true,
            "ticks": "",
            "zerolinecolor": "white"
           }
          },
          "shapedefaults": {
           "line": {
            "color": "#2a3f5f"
           }
          },
          "ternary": {
           "aaxis": {
            "gridcolor": "white",
            "linecolor": "white",
            "ticks": ""
           },
           "baxis": {
            "gridcolor": "white",
            "linecolor": "white",
            "ticks": ""
           },
           "bgcolor": "#E5ECF6",
           "caxis": {
            "gridcolor": "white",
            "linecolor": "white",
            "ticks": ""
           }
          },
          "title": {
           "x": 0.05
          },
          "xaxis": {
           "automargin": true,
           "gridcolor": "white",
           "linecolor": "white",
           "ticks": "",
           "title": {
            "standoff": 15
           },
           "zerolinecolor": "white",
           "zerolinewidth": 2
          },
          "yaxis": {
           "automargin": true,
           "gridcolor": "white",
           "linecolor": "white",
           "ticks": "",
           "title": {
            "standoff": 15
           },
           "zerolinecolor": "white",
           "zerolinewidth": 2
          }
         }
        },
        "xaxis": {
         "anchor": "y",
         "domain": [
          0,
          1
         ],
         "tickangle": -45,
         "title": {
          "text": "incident_name"
         }
        },
        "yaxis": {
         "anchor": "x",
         "domain": [
          0,
          1
         ],
         "title": {
          "text": "sum of incident_acres_burned"
         }
        }
       }
      }
     },
     "metadata": {},
     "output_type": "display_data"
    }
   ],
   "source": [
    "filtered_df = DF[(DF['incident_acres_burned'] >= 100) & (DF['incident_acres_burned'] <= 10000)]\n",
    "\n",
    "fig = px.histogram(filtered_df,\n",
    "                   x='incident_name',\n",
    "                   y='incident_acres_burned',\n",
    "                   color='calfire_incident')\n",
    "\n",
    "fig.update_layout(xaxis_tickangle=-45)\n",
    "fig.show()"
   ]
  },
  {
   "cell_type": "code",
   "execution_count": 72,
   "id": "241e23b1",
   "metadata": {},
   "outputs": [
    {
     "name": "stdout",
     "output_type": "stream",
     "text": [
      "1653    August Complex (includes Doe Fire)\n",
      "Name: incident_name, dtype: object\n"
     ]
    }
   ],
   "source": [
    "max_burned = DF_acres['incident_acres_burned'].max()\n",
    "mask_burned = (DF_acres['incident_acres_burned'] == max_burned)\n",
    "\n",
    "DF_mask_burned = DF_acres[mask_burned]\n",
    "print(DF_mask_burned['incident_name'])"
   ]
  },
  {
   "cell_type": "markdown",
   "id": "fa09683e-ac6a-4cb5-a47d-6cbf580524d2",
   "metadata": {},
   "source": [
    "## Try reading in some data from Wikipedia - html\n",
    "\n",
    "Here we will explore academy award winning films. Go to the [Wiki for the List of Academy Award Winning Films](https://en.wikipedia.org/wiki/List_of_Academy_Award%E2%80%93winning_films). Look at what type of data is there. How many tables? Any weird looking data?\n",
    "\n",
    "Now we will read the html data into Python and show the data in DF[0]"
   ]
  },
  {
   "cell_type": "code",
   "execution_count": 73,
   "id": "ddd62d4d-675f-4706-9b79-993e5b5ad343",
   "metadata": {},
   "outputs": [
    {
     "data": {
      "text/html": [
       "<div>\n",
       "<style scoped>\n",
       "    .dataframe tbody tr th:only-of-type {\n",
       "        vertical-align: middle;\n",
       "    }\n",
       "\n",
       "    .dataframe tbody tr th {\n",
       "        vertical-align: top;\n",
       "    }\n",
       "\n",
       "    .dataframe thead th {\n",
       "        text-align: right;\n",
       "    }\n",
       "</style>\n",
       "<table border=\"1\" class=\"dataframe\">\n",
       "  <thead>\n",
       "    <tr style=\"text-align: right;\">\n",
       "      <th></th>\n",
       "      <th>Film</th>\n",
       "      <th>Year</th>\n",
       "      <th>Awards</th>\n",
       "      <th>Nominations</th>\n",
       "    </tr>\n",
       "  </thead>\n",
       "  <tbody>\n",
       "    <tr>\n",
       "      <th>0</th>\n",
       "      <td>Anora</td>\n",
       "      <td>2024</td>\n",
       "      <td>5</td>\n",
       "      <td>6</td>\n",
       "    </tr>\n",
       "    <tr>\n",
       "      <th>1</th>\n",
       "      <td>The Brutalist</td>\n",
       "      <td>2024</td>\n",
       "      <td>3</td>\n",
       "      <td>10</td>\n",
       "    </tr>\n",
       "    <tr>\n",
       "      <th>2</th>\n",
       "      <td>Emilia Pérez</td>\n",
       "      <td>2024</td>\n",
       "      <td>2</td>\n",
       "      <td>13</td>\n",
       "    </tr>\n",
       "    <tr>\n",
       "      <th>3</th>\n",
       "      <td>Wicked</td>\n",
       "      <td>2024</td>\n",
       "      <td>2</td>\n",
       "      <td>10</td>\n",
       "    </tr>\n",
       "    <tr>\n",
       "      <th>4</th>\n",
       "      <td>Dune: Part Two</td>\n",
       "      <td>2024</td>\n",
       "      <td>2</td>\n",
       "      <td>5</td>\n",
       "    </tr>\n",
       "    <tr>\n",
       "      <th>...</th>\n",
       "      <td>...</td>\n",
       "      <td>...</td>\n",
       "      <td>...</td>\n",
       "      <td>...</td>\n",
       "    </tr>\n",
       "    <tr>\n",
       "      <th>1382</th>\n",
       "      <td>The Yankee Doodle Mouse</td>\n",
       "      <td>1943</td>\n",
       "      <td>1</td>\n",
       "      <td>1</td>\n",
       "    </tr>\n",
       "    <tr>\n",
       "      <th>1383</th>\n",
       "      <td>The Yearling</td>\n",
       "      <td>1946</td>\n",
       "      <td>2</td>\n",
       "      <td>7</td>\n",
       "    </tr>\n",
       "    <tr>\n",
       "      <th>1384</th>\n",
       "      <td>Yesterday, Today and Tomorrow (Ieri, oggi, dom...</td>\n",
       "      <td>1964</td>\n",
       "      <td>1</td>\n",
       "      <td>1</td>\n",
       "    </tr>\n",
       "    <tr>\n",
       "      <th>1385</th>\n",
       "      <td>You Can't Take It with You</td>\n",
       "      <td>1938</td>\n",
       "      <td>2</td>\n",
       "      <td>7</td>\n",
       "    </tr>\n",
       "    <tr>\n",
       "      <th>1386</th>\n",
       "      <td>Zorba the Greek (Alexis Zorbas)</td>\n",
       "      <td>1964</td>\n",
       "      <td>3</td>\n",
       "      <td>7</td>\n",
       "    </tr>\n",
       "  </tbody>\n",
       "</table>\n",
       "<p>1387 rows × 4 columns</p>\n",
       "</div>"
      ],
      "text/plain": [
       "                                                   Film  Year Awards  \\\n",
       "0                                                 Anora  2024      5   \n",
       "1                                         The Brutalist  2024      3   \n",
       "2                                          Emilia Pérez  2024      2   \n",
       "3                                                Wicked  2024      2   \n",
       "4                                        Dune: Part Two  2024      2   \n",
       "...                                                 ...   ...    ...   \n",
       "1382                            The Yankee Doodle Mouse  1943      1   \n",
       "1383                                       The Yearling  1946      2   \n",
       "1384  Yesterday, Today and Tomorrow (Ieri, oggi, dom...  1964      1   \n",
       "1385                         You Can't Take It with You  1938      2   \n",
       "1386                    Zorba the Greek (Alexis Zorbas)  1964      3   \n",
       "\n",
       "     Nominations  \n",
       "0              6  \n",
       "1             10  \n",
       "2             13  \n",
       "3             10  \n",
       "4              5  \n",
       "...          ...  \n",
       "1382           1  \n",
       "1383           7  \n",
       "1384           1  \n",
       "1385           7  \n",
       "1386           7  \n",
       "\n",
       "[1387 rows x 4 columns]"
      ]
     },
     "execution_count": 73,
     "metadata": {},
     "output_type": "execute_result"
    }
   ],
   "source": [
    "# Here is some helper code\n",
    "# This is code that will read in the data and then fix the Year column\n",
    "\n",
    "#####\n",
    "'''\n",
    "NOTE: Many websites try to stop you from scraping even simple tables. \n",
    "    In just one year wikipedia made big changes... so I changed the code here.\n",
    "    We can talk more about this code in class.\n",
    "'''\n",
    "import requests\n",
    "headers = {\n",
    "    'User-Agent': 'Mozilla/5.0 (Windows NT 10.0; Win64; x64) AppleWebKit/537.36 (KHTML, like Gecko) Chrome/91.0.4472.124 Safari/537.36'\n",
    "}\n",
    "my_website = \"https://en.wikipedia.org/wiki/List_of_Academy_Award%E2%80%93winning_films\"\n",
    "response = requests.get(my_website, headers=headers)\n",
    "#####\n",
    "\n",
    "# Normal pandas code\n",
    "DF = pd.read_html(response.content)\n",
    "DF_raw = DF[0]\n",
    "DF_raw['Year'] = DF_raw['Year'].apply(lambda x: int(x.split('/')[0]))\n",
    "DF_raw"
   ]
  },
  {
   "cell_type": "markdown",
   "id": "4c70b364-4c59-4631-87a4-552d7abaac2a",
   "metadata": {},
   "source": [
    "**Q4** Following along with the lecture notes or video, fix the data in the 'Awards' column."
   ]
  },
  {
   "cell_type": "code",
   "execution_count": 74,
   "id": "e51c0742-d796-4f63-a3e9-c98cdec76247",
   "metadata": {},
   "outputs": [
    {
     "data": {
      "text/html": [
       "<div>\n",
       "<style scoped>\n",
       "    .dataframe tbody tr th:only-of-type {\n",
       "        vertical-align: middle;\n",
       "    }\n",
       "\n",
       "    .dataframe tbody tr th {\n",
       "        vertical-align: top;\n",
       "    }\n",
       "\n",
       "    .dataframe thead th {\n",
       "        text-align: right;\n",
       "    }\n",
       "</style>\n",
       "<table border=\"1\" class=\"dataframe\">\n",
       "  <thead>\n",
       "    <tr style=\"text-align: right;\">\n",
       "      <th></th>\n",
       "      <th>Awards</th>\n",
       "      <th>count</th>\n",
       "    </tr>\n",
       "  </thead>\n",
       "  <tbody>\n",
       "    <tr>\n",
       "      <th>0</th>\n",
       "      <td>1</td>\n",
       "      <td>996</td>\n",
       "    </tr>\n",
       "    <tr>\n",
       "      <th>1</th>\n",
       "      <td>2</td>\n",
       "      <td>160</td>\n",
       "    </tr>\n",
       "    <tr>\n",
       "      <th>2</th>\n",
       "      <td>3</td>\n",
       "      <td>79</td>\n",
       "    </tr>\n",
       "    <tr>\n",
       "      <th>3</th>\n",
       "      <td>4</td>\n",
       "      <td>48</td>\n",
       "    </tr>\n",
       "    <tr>\n",
       "      <th>4</th>\n",
       "      <td>0</td>\n",
       "      <td>36</td>\n",
       "    </tr>\n",
       "    <tr>\n",
       "      <th>5</th>\n",
       "      <td>5</td>\n",
       "      <td>27</td>\n",
       "    </tr>\n",
       "    <tr>\n",
       "      <th>6</th>\n",
       "      <td>7</td>\n",
       "      <td>13</td>\n",
       "    </tr>\n",
       "    <tr>\n",
       "      <th>7</th>\n",
       "      <td>6</td>\n",
       "      <td>13</td>\n",
       "    </tr>\n",
       "    <tr>\n",
       "      <th>8</th>\n",
       "      <td>8</td>\n",
       "      <td>8</td>\n",
       "    </tr>\n",
       "    <tr>\n",
       "      <th>9</th>\n",
       "      <td>11</td>\n",
       "      <td>3</td>\n",
       "    </tr>\n",
       "    <tr>\n",
       "      <th>10</th>\n",
       "      <td>9</td>\n",
       "      <td>3</td>\n",
       "    </tr>\n",
       "    <tr>\n",
       "      <th>11</th>\n",
       "      <td>10</td>\n",
       "      <td>1</td>\n",
       "    </tr>\n",
       "  </tbody>\n",
       "</table>\n",
       "</div>"
      ],
      "text/plain": [
       "    Awards  count\n",
       "0        1    996\n",
       "1        2    160\n",
       "2        3     79\n",
       "3        4     48\n",
       "4        0     36\n",
       "5        5     27\n",
       "6        7     13\n",
       "7        6     13\n",
       "8        8      8\n",
       "9       11      3\n",
       "10       9      3\n",
       "11      10      1"
      ]
     },
     "execution_count": 74,
     "metadata": {},
     "output_type": "execute_result"
    }
   ],
   "source": [
    "DF_raw['Awards'] = DF_raw['Awards'].apply(lambda x: int(x.split('(')[0]))\n",
    "\n",
    "awards = DF_raw['Awards'].value_counts()\n",
    "DF_award = awards.reset_index().rename(columns={\"index\":\"value\", 0: \"count\"})\n",
    "DF_award"
   ]
  },
  {
   "cell_type": "markdown",
   "id": "ada5ce86-e820-481b-a8c8-ab5f063b0ad5",
   "metadata": {},
   "source": [
    "**Q5** Now try to fix the data in the \"Nominations\" column - see if you can do it without looking at the answer."
   ]
  },
  {
   "cell_type": "code",
   "execution_count": 75,
   "id": "57571cc2-dbca-4354-b0db-676b03005f3c",
   "metadata": {},
   "outputs": [
    {
     "data": {
      "text/html": [
       "<div>\n",
       "<style scoped>\n",
       "    .dataframe tbody tr th:only-of-type {\n",
       "        vertical-align: middle;\n",
       "    }\n",
       "\n",
       "    .dataframe tbody tr th {\n",
       "        vertical-align: top;\n",
       "    }\n",
       "\n",
       "    .dataframe thead th {\n",
       "        text-align: right;\n",
       "    }\n",
       "</style>\n",
       "<table border=\"1\" class=\"dataframe\">\n",
       "  <thead>\n",
       "    <tr style=\"text-align: right;\">\n",
       "      <th></th>\n",
       "      <th>Nominations</th>\n",
       "      <th>count</th>\n",
       "    </tr>\n",
       "  </thead>\n",
       "  <tbody>\n",
       "    <tr>\n",
       "      <th>0</th>\n",
       "      <td>1</td>\n",
       "      <td>557</td>\n",
       "    </tr>\n",
       "    <tr>\n",
       "      <th>1</th>\n",
       "      <td>2</td>\n",
       "      <td>143</td>\n",
       "    </tr>\n",
       "    <tr>\n",
       "      <th>2</th>\n",
       "      <td>4</td>\n",
       "      <td>115</td>\n",
       "    </tr>\n",
       "    <tr>\n",
       "      <th>3</th>\n",
       "      <td>5</td>\n",
       "      <td>106</td>\n",
       "    </tr>\n",
       "    <tr>\n",
       "      <th>4</th>\n",
       "      <td>3</td>\n",
       "      <td>105</td>\n",
       "    </tr>\n",
       "    <tr>\n",
       "      <th>5</th>\n",
       "      <td>6</td>\n",
       "      <td>81</td>\n",
       "    </tr>\n",
       "    <tr>\n",
       "      <th>6</th>\n",
       "      <td>7</td>\n",
       "      <td>75</td>\n",
       "    </tr>\n",
       "    <tr>\n",
       "      <th>7</th>\n",
       "      <td>8</td>\n",
       "      <td>62</td>\n",
       "    </tr>\n",
       "    <tr>\n",
       "      <th>8</th>\n",
       "      <td>10</td>\n",
       "      <td>42</td>\n",
       "    </tr>\n",
       "    <tr>\n",
       "      <th>9</th>\n",
       "      <td>9</td>\n",
       "      <td>31</td>\n",
       "    </tr>\n",
       "    <tr>\n",
       "      <th>10</th>\n",
       "      <td>11</td>\n",
       "      <td>24</td>\n",
       "    </tr>\n",
       "    <tr>\n",
       "      <th>11</th>\n",
       "      <td>12</td>\n",
       "      <td>17</td>\n",
       "    </tr>\n",
       "    <tr>\n",
       "      <th>12</th>\n",
       "      <td>0</td>\n",
       "      <td>14</td>\n",
       "    </tr>\n",
       "    <tr>\n",
       "      <th>13</th>\n",
       "      <td>13</td>\n",
       "      <td>12</td>\n",
       "    </tr>\n",
       "    <tr>\n",
       "      <th>14</th>\n",
       "      <td>14</td>\n",
       "      <td>3</td>\n",
       "    </tr>\n",
       "  </tbody>\n",
       "</table>\n",
       "</div>"
      ],
      "text/plain": [
       "    Nominations  count\n",
       "0             1    557\n",
       "1             2    143\n",
       "2             4    115\n",
       "3             5    106\n",
       "4             3    105\n",
       "5             6     81\n",
       "6             7     75\n",
       "7             8     62\n",
       "8            10     42\n",
       "9             9     31\n",
       "10           11     24\n",
       "11           12     17\n",
       "12            0     14\n",
       "13           13     12\n",
       "14           14      3"
      ]
     },
     "execution_count": 75,
     "metadata": {},
     "output_type": "execute_result"
    }
   ],
   "source": [
    "DF_raw['Nominations'] = DF_raw['Nominations'].apply(lambda x: int(x.split('[')[0]))\n",
    "\n",
    "noms = DF_raw['Nominations'].value_counts()\n",
    "DF_noms = noms.reset_index().rename(columns={\"index\":\"value\", 0: \"count\"})\n",
    "DF_noms"
   ]
  },
  {
   "cell_type": "code",
   "execution_count": 76,
   "id": "eb3d69a6-d734-4a3e-8686-d6c5b0903b9f",
   "metadata": {},
   "outputs": [
    {
     "data": {
      "text/plain": [
       "Film           object\n",
       "Year            int64\n",
       "Awards          int64\n",
       "Nominations     int64\n",
       "dtype: object"
      ]
     },
     "execution_count": 76,
     "metadata": {},
     "output_type": "execute_result"
    }
   ],
   "source": [
    "DF_raw.dtypes"
   ]
  },
  {
   "cell_type": "markdown",
   "id": "8f1c8227-7b3e-4067-9b49-bd9c58752402",
   "metadata": {},
   "source": [
    "## Problem 1\n",
    "\n",
    "Your homework today will be to see if you can find some data of your own. This can be the first steps you take toward your final project. \n",
    "\n",
    "You should:\n",
    "\n",
    "* Find some data online\n",
    "* Read that data into Python using the Pandas commands we learned\n",
    "* Look at the DataFrame - number of variables, number of observations, AND the dtypes. Comment on what you see.\n",
    "* Try to do summary statistics (.describe()). Does it work like expected?\n",
    "* Attempt to fix any data, or explain why the data does not need to be fixed.\n",
    "* Make some sort of graph using columns in your data."
   ]
  },
  {
   "cell_type": "code",
   "execution_count": 77,
   "id": "578ad570-5dfa-46a0-86c8-f4610bacaf36",
   "metadata": {},
   "outputs": [
    {
     "data": {
      "text/html": [
       "<div>\n",
       "<style scoped>\n",
       "    .dataframe tbody tr th:only-of-type {\n",
       "        vertical-align: middle;\n",
       "    }\n",
       "\n",
       "    .dataframe tbody tr th {\n",
       "        vertical-align: top;\n",
       "    }\n",
       "\n",
       "    .dataframe thead th {\n",
       "        text-align: right;\n",
       "    }\n",
       "</style>\n",
       "<table border=\"1\" class=\"dataframe\">\n",
       "  <thead>\n",
       "    <tr style=\"text-align: right;\">\n",
       "      <th></th>\n",
       "      <th>PName</th>\n",
       "      <th>POS</th>\n",
       "      <th>Team</th>\n",
       "      <th>Age</th>\n",
       "      <th>GP</th>\n",
       "      <th>W</th>\n",
       "      <th>L</th>\n",
       "      <th>Min</th>\n",
       "      <th>PTS</th>\n",
       "      <th>FGM</th>\n",
       "      <th>...</th>\n",
       "      <th>REB</th>\n",
       "      <th>AST</th>\n",
       "      <th>TOV</th>\n",
       "      <th>STL</th>\n",
       "      <th>BLK</th>\n",
       "      <th>PF</th>\n",
       "      <th>FP</th>\n",
       "      <th>DD2</th>\n",
       "      <th>TD3</th>\n",
       "      <th>+/-</th>\n",
       "    </tr>\n",
       "  </thead>\n",
       "  <tbody>\n",
       "    <tr>\n",
       "      <th>0</th>\n",
       "      <td>Jayson Tatum</td>\n",
       "      <td>SF</td>\n",
       "      <td>BOS</td>\n",
       "      <td>25</td>\n",
       "      <td>74</td>\n",
       "      <td>52</td>\n",
       "      <td>22</td>\n",
       "      <td>2732.2</td>\n",
       "      <td>2225</td>\n",
       "      <td>727</td>\n",
       "      <td>...</td>\n",
       "      <td>649</td>\n",
       "      <td>342</td>\n",
       "      <td>213</td>\n",
       "      <td>78</td>\n",
       "      <td>51</td>\n",
       "      <td>160</td>\n",
       "      <td>3691</td>\n",
       "      <td>31</td>\n",
       "      <td>1</td>\n",
       "      <td>470</td>\n",
       "    </tr>\n",
       "    <tr>\n",
       "      <th>1</th>\n",
       "      <td>Joel Embiid</td>\n",
       "      <td>C</td>\n",
       "      <td>PHI</td>\n",
       "      <td>29</td>\n",
       "      <td>66</td>\n",
       "      <td>43</td>\n",
       "      <td>23</td>\n",
       "      <td>2284.1</td>\n",
       "      <td>2183</td>\n",
       "      <td>728</td>\n",
       "      <td>...</td>\n",
       "      <td>670</td>\n",
       "      <td>274</td>\n",
       "      <td>226</td>\n",
       "      <td>66</td>\n",
       "      <td>112</td>\n",
       "      <td>205</td>\n",
       "      <td>3706</td>\n",
       "      <td>39</td>\n",
       "      <td>1</td>\n",
       "      <td>424</td>\n",
       "    </tr>\n",
       "    <tr>\n",
       "      <th>2</th>\n",
       "      <td>Luka Doncic</td>\n",
       "      <td>PG</td>\n",
       "      <td>DAL</td>\n",
       "      <td>24</td>\n",
       "      <td>66</td>\n",
       "      <td>33</td>\n",
       "      <td>33</td>\n",
       "      <td>2390.5</td>\n",
       "      <td>2138</td>\n",
       "      <td>719</td>\n",
       "      <td>...</td>\n",
       "      <td>569</td>\n",
       "      <td>529</td>\n",
       "      <td>236</td>\n",
       "      <td>90</td>\n",
       "      <td>33</td>\n",
       "      <td>166</td>\n",
       "      <td>3747</td>\n",
       "      <td>36</td>\n",
       "      <td>10</td>\n",
       "      <td>128</td>\n",
       "    </tr>\n",
       "    <tr>\n",
       "      <th>3</th>\n",
       "      <td>Shai Gilgeous-Alexander</td>\n",
       "      <td>PG</td>\n",
       "      <td>OKC</td>\n",
       "      <td>24</td>\n",
       "      <td>68</td>\n",
       "      <td>33</td>\n",
       "      <td>35</td>\n",
       "      <td>2416.0</td>\n",
       "      <td>2135</td>\n",
       "      <td>704</td>\n",
       "      <td>...</td>\n",
       "      <td>329</td>\n",
       "      <td>371</td>\n",
       "      <td>192</td>\n",
       "      <td>112</td>\n",
       "      <td>65</td>\n",
       "      <td>192</td>\n",
       "      <td>3425</td>\n",
       "      <td>3</td>\n",
       "      <td>0</td>\n",
       "      <td>149</td>\n",
       "    </tr>\n",
       "    <tr>\n",
       "      <th>4</th>\n",
       "      <td>Giannis Antetokounmpo</td>\n",
       "      <td>PF</td>\n",
       "      <td>MIL</td>\n",
       "      <td>28</td>\n",
       "      <td>63</td>\n",
       "      <td>47</td>\n",
       "      <td>16</td>\n",
       "      <td>2023.6</td>\n",
       "      <td>1959</td>\n",
       "      <td>707</td>\n",
       "      <td>...</td>\n",
       "      <td>742</td>\n",
       "      <td>359</td>\n",
       "      <td>246</td>\n",
       "      <td>52</td>\n",
       "      <td>51</td>\n",
       "      <td>197</td>\n",
       "      <td>3451</td>\n",
       "      <td>46</td>\n",
       "      <td>6</td>\n",
       "      <td>341</td>\n",
       "    </tr>\n",
       "    <tr>\n",
       "      <th>...</th>\n",
       "      <td>...</td>\n",
       "      <td>...</td>\n",
       "      <td>...</td>\n",
       "      <td>...</td>\n",
       "      <td>...</td>\n",
       "      <td>...</td>\n",
       "      <td>...</td>\n",
       "      <td>...</td>\n",
       "      <td>...</td>\n",
       "      <td>...</td>\n",
       "      <td>...</td>\n",
       "      <td>...</td>\n",
       "      <td>...</td>\n",
       "      <td>...</td>\n",
       "      <td>...</td>\n",
       "      <td>...</td>\n",
       "      <td>...</td>\n",
       "      <td>...</td>\n",
       "      <td>...</td>\n",
       "      <td>...</td>\n",
       "      <td>...</td>\n",
       "    </tr>\n",
       "    <tr>\n",
       "      <th>534</th>\n",
       "      <td>Alondes Williams</td>\n",
       "      <td>NaN</td>\n",
       "      <td>BKN</td>\n",
       "      <td>23</td>\n",
       "      <td>1</td>\n",
       "      <td>1</td>\n",
       "      <td>0</td>\n",
       "      <td>5.3</td>\n",
       "      <td>0</td>\n",
       "      <td>0</td>\n",
       "      <td>...</td>\n",
       "      <td>1</td>\n",
       "      <td>0</td>\n",
       "      <td>2</td>\n",
       "      <td>0</td>\n",
       "      <td>0</td>\n",
       "      <td>1</td>\n",
       "      <td>-1</td>\n",
       "      <td>0</td>\n",
       "      <td>0</td>\n",
       "      <td>-5</td>\n",
       "    </tr>\n",
       "    <tr>\n",
       "      <th>535</th>\n",
       "      <td>Deonte Burton</td>\n",
       "      <td>NaN</td>\n",
       "      <td>SAC</td>\n",
       "      <td>29</td>\n",
       "      <td>2</td>\n",
       "      <td>1</td>\n",
       "      <td>1</td>\n",
       "      <td>6.5</td>\n",
       "      <td>0</td>\n",
       "      <td>0</td>\n",
       "      <td>...</td>\n",
       "      <td>0</td>\n",
       "      <td>0</td>\n",
       "      <td>0</td>\n",
       "      <td>0</td>\n",
       "      <td>0</td>\n",
       "      <td>0</td>\n",
       "      <td>0</td>\n",
       "      <td>0</td>\n",
       "      <td>0</td>\n",
       "      <td>5</td>\n",
       "    </tr>\n",
       "    <tr>\n",
       "      <th>536</th>\n",
       "      <td>Frank Jackson</td>\n",
       "      <td>NaN</td>\n",
       "      <td>UTA</td>\n",
       "      <td>24</td>\n",
       "      <td>1</td>\n",
       "      <td>0</td>\n",
       "      <td>1</td>\n",
       "      <td>5.0</td>\n",
       "      <td>0</td>\n",
       "      <td>0</td>\n",
       "      <td>...</td>\n",
       "      <td>2</td>\n",
       "      <td>1</td>\n",
       "      <td>0</td>\n",
       "      <td>0</td>\n",
       "      <td>0</td>\n",
       "      <td>0</td>\n",
       "      <td>4</td>\n",
       "      <td>0</td>\n",
       "      <td>0</td>\n",
       "      <td>-2</td>\n",
       "    </tr>\n",
       "    <tr>\n",
       "      <th>537</th>\n",
       "      <td>Michael Foster Jr.</td>\n",
       "      <td>NaN</td>\n",
       "      <td>PHI</td>\n",
       "      <td>20</td>\n",
       "      <td>1</td>\n",
       "      <td>1</td>\n",
       "      <td>0</td>\n",
       "      <td>1.0</td>\n",
       "      <td>0</td>\n",
       "      <td>0</td>\n",
       "      <td>...</td>\n",
       "      <td>0</td>\n",
       "      <td>0</td>\n",
       "      <td>0</td>\n",
       "      <td>0</td>\n",
       "      <td>0</td>\n",
       "      <td>0</td>\n",
       "      <td>0</td>\n",
       "      <td>0</td>\n",
       "      <td>0</td>\n",
       "      <td>-2</td>\n",
       "    </tr>\n",
       "    <tr>\n",
       "      <th>538</th>\n",
       "      <td>Sterling Brown</td>\n",
       "      <td>NaN</td>\n",
       "      <td>LAL</td>\n",
       "      <td>28</td>\n",
       "      <td>4</td>\n",
       "      <td>2</td>\n",
       "      <td>2</td>\n",
       "      <td>24.4</td>\n",
       "      <td>0</td>\n",
       "      <td>0</td>\n",
       "      <td>...</td>\n",
       "      <td>8</td>\n",
       "      <td>2</td>\n",
       "      <td>0</td>\n",
       "      <td>3</td>\n",
       "      <td>0</td>\n",
       "      <td>4</td>\n",
       "      <td>22</td>\n",
       "      <td>0</td>\n",
       "      <td>0</td>\n",
       "      <td>-4</td>\n",
       "    </tr>\n",
       "  </tbody>\n",
       "</table>\n",
       "<p>539 rows × 30 columns</p>\n",
       "</div>"
      ],
      "text/plain": [
       "                       PName  POS Team  Age  GP   W   L     Min   PTS  FGM  \\\n",
       "0               Jayson Tatum   SF  BOS   25  74  52  22  2732.2  2225  727   \n",
       "1                Joel Embiid    C  PHI   29  66  43  23  2284.1  2183  728   \n",
       "2                Luka Doncic   PG  DAL   24  66  33  33  2390.5  2138  719   \n",
       "3    Shai Gilgeous-Alexander   PG  OKC   24  68  33  35  2416.0  2135  704   \n",
       "4      Giannis Antetokounmpo   PF  MIL   28  63  47  16  2023.6  1959  707   \n",
       "..                       ...  ...  ...  ...  ..  ..  ..     ...   ...  ...   \n",
       "534         Alondes Williams  NaN  BKN   23   1   1   0     5.3     0    0   \n",
       "535            Deonte Burton  NaN  SAC   29   2   1   1     6.5     0    0   \n",
       "536            Frank Jackson  NaN  UTA   24   1   0   1     5.0     0    0   \n",
       "537       Michael Foster Jr.  NaN  PHI   20   1   1   0     1.0     0    0   \n",
       "538           Sterling Brown  NaN  LAL   28   4   2   2    24.4     0    0   \n",
       "\n",
       "     ...  REB  AST  TOV  STL  BLK   PF    FP  DD2  TD3  +/-  \n",
       "0    ...  649  342  213   78   51  160  3691   31    1  470  \n",
       "1    ...  670  274  226   66  112  205  3706   39    1  424  \n",
       "2    ...  569  529  236   90   33  166  3747   36   10  128  \n",
       "3    ...  329  371  192  112   65  192  3425    3    0  149  \n",
       "4    ...  742  359  246   52   51  197  3451   46    6  341  \n",
       "..   ...  ...  ...  ...  ...  ...  ...   ...  ...  ...  ...  \n",
       "534  ...    1    0    2    0    0    1    -1    0    0   -5  \n",
       "535  ...    0    0    0    0    0    0     0    0    0    5  \n",
       "536  ...    2    1    0    0    0    0     4    0    0   -2  \n",
       "537  ...    0    0    0    0    0    0     0    0    0   -2  \n",
       "538  ...    8    2    0    3    0    4    22    0    0   -4  \n",
       "\n",
       "[539 rows x 30 columns]"
      ]
     },
     "execution_count": 77,
     "metadata": {},
     "output_type": "execute_result"
    }
   ],
   "source": [
    "NBA_DF = pd.read_csv(\"./nba2023.csv\")\n",
    "NBA_DF"
   ]
  },
  {
   "cell_type": "code",
   "execution_count": 78,
   "id": "a26ce8d0-3ed3-48e7-96ee-f365c39af55e",
   "metadata": {},
   "outputs": [
    {
     "name": "stdout",
     "output_type": "stream",
     "text": [
      "The number of observations is 539\n",
      "The number of variables is 30\n"
     ]
    }
   ],
   "source": [
    "NBA_obv = NBA_DF.shape[0]\n",
    "NBA_var = NBA_DF.shape[1]\n",
    "\n",
    "print(f\"The number of observations is {NBA_obv}\")\n",
    "print(f\"The number of variables is {NBA_var}\")"
   ]
  },
  {
   "cell_type": "code",
   "execution_count": 79,
   "id": "c0eaff11-4a2a-4e4e-9f94-d1c1f857e2d9",
   "metadata": {},
   "outputs": [
    {
     "data": {
      "text/plain": [
       "PName     object\n",
       "POS       object\n",
       "Team      object\n",
       "Age        int64\n",
       "GP         int64\n",
       "W          int64\n",
       "L          int64\n",
       "Min      float64\n",
       "PTS        int64\n",
       "FGM        int64\n",
       "FGA        int64\n",
       "FG%      float64\n",
       "3PM        int64\n",
       "3PA        int64\n",
       "3P%      float64\n",
       "FTM        int64\n",
       "FTA        int64\n",
       "FT%      float64\n",
       "OREB       int64\n",
       "DREB       int64\n",
       "REB        int64\n",
       "AST        int64\n",
       "TOV        int64\n",
       "STL        int64\n",
       "BLK        int64\n",
       "PF         int64\n",
       "FP         int64\n",
       "DD2        int64\n",
       "TD3        int64\n",
       "+/-        int64\n",
       "dtype: object"
      ]
     },
     "execution_count": 79,
     "metadata": {},
     "output_type": "execute_result"
    }
   ],
   "source": [
    "NBA_DF.dtypes"
   ]
  },
  {
   "cell_type": "code",
   "execution_count": 80,
   "id": "0d3033f2-10b5-4f82-9007-c9fc09139c3c",
   "metadata": {},
   "outputs": [
    {
     "data": {
      "text/html": [
       "<div>\n",
       "<style scoped>\n",
       "    .dataframe tbody tr th:only-of-type {\n",
       "        vertical-align: middle;\n",
       "    }\n",
       "\n",
       "    .dataframe tbody tr th {\n",
       "        vertical-align: top;\n",
       "    }\n",
       "\n",
       "    .dataframe thead th {\n",
       "        text-align: right;\n",
       "    }\n",
       "</style>\n",
       "<table border=\"1\" class=\"dataframe\">\n",
       "  <thead>\n",
       "    <tr style=\"text-align: right;\">\n",
       "      <th></th>\n",
       "      <th>Age</th>\n",
       "      <th>GP</th>\n",
       "      <th>W</th>\n",
       "      <th>L</th>\n",
       "      <th>Min</th>\n",
       "      <th>PTS</th>\n",
       "      <th>FGM</th>\n",
       "      <th>FGA</th>\n",
       "      <th>FG%</th>\n",
       "      <th>3PM</th>\n",
       "      <th>...</th>\n",
       "      <th>REB</th>\n",
       "      <th>AST</th>\n",
       "      <th>TOV</th>\n",
       "      <th>STL</th>\n",
       "      <th>BLK</th>\n",
       "      <th>PF</th>\n",
       "      <th>FP</th>\n",
       "      <th>DD2</th>\n",
       "      <th>TD3</th>\n",
       "      <th>+/-</th>\n",
       "    </tr>\n",
       "  </thead>\n",
       "  <tbody>\n",
       "    <tr>\n",
       "      <th>count</th>\n",
       "      <td>539.000000</td>\n",
       "      <td>539.000000</td>\n",
       "      <td>539.000000</td>\n",
       "      <td>539.000000</td>\n",
       "      <td>539.000000</td>\n",
       "      <td>539.000000</td>\n",
       "      <td>539.000000</td>\n",
       "      <td>539.000000</td>\n",
       "      <td>539.000000</td>\n",
       "      <td>539.000000</td>\n",
       "      <td>...</td>\n",
       "      <td>539.000000</td>\n",
       "      <td>539.000000</td>\n",
       "      <td>539.000000</td>\n",
       "      <td>539.000000</td>\n",
       "      <td>539.000000</td>\n",
       "      <td>539.000000</td>\n",
       "      <td>539.000000</td>\n",
       "      <td>539.000000</td>\n",
       "      <td>539.000000</td>\n",
       "      <td>539.000000</td>\n",
       "    </tr>\n",
       "    <tr>\n",
       "      <th>mean</th>\n",
       "      <td>25.970315</td>\n",
       "      <td>48.040816</td>\n",
       "      <td>24.018553</td>\n",
       "      <td>24.022263</td>\n",
       "      <td>1103.617625</td>\n",
       "      <td>523.426716</td>\n",
       "      <td>191.576994</td>\n",
       "      <td>403.005566</td>\n",
       "      <td>46.325232</td>\n",
       "      <td>56.324675</td>\n",
       "      <td>...</td>\n",
       "      <td>198.254174</td>\n",
       "      <td>115.545455</td>\n",
       "      <td>61.300557</td>\n",
       "      <td>33.270872</td>\n",
       "      <td>21.241187</td>\n",
       "      <td>91.181818</td>\n",
       "      <td>1036.938776</td>\n",
       "      <td>4.011132</td>\n",
       "      <td>0.220779</td>\n",
       "      <td>0.000000</td>\n",
       "    </tr>\n",
       "    <tr>\n",
       "      <th>std</th>\n",
       "      <td>4.315513</td>\n",
       "      <td>24.650686</td>\n",
       "      <td>14.496366</td>\n",
       "      <td>13.445866</td>\n",
       "      <td>827.765114</td>\n",
       "      <td>498.084360</td>\n",
       "      <td>178.351286</td>\n",
       "      <td>369.595909</td>\n",
       "      <td>10.967271</td>\n",
       "      <td>60.916821</td>\n",
       "      <td>...</td>\n",
       "      <td>181.819962</td>\n",
       "      <td>129.578453</td>\n",
       "      <td>58.279185</td>\n",
       "      <td>28.336745</td>\n",
       "      <td>26.529238</td>\n",
       "      <td>66.206731</td>\n",
       "      <td>894.081896</td>\n",
       "      <td>8.770932</td>\n",
       "      <td>1.564432</td>\n",
       "      <td>148.223909</td>\n",
       "    </tr>\n",
       "    <tr>\n",
       "      <th>min</th>\n",
       "      <td>19.000000</td>\n",
       "      <td>1.000000</td>\n",
       "      <td>0.000000</td>\n",
       "      <td>0.000000</td>\n",
       "      <td>1.000000</td>\n",
       "      <td>0.000000</td>\n",
       "      <td>0.000000</td>\n",
       "      <td>0.000000</td>\n",
       "      <td>0.000000</td>\n",
       "      <td>0.000000</td>\n",
       "      <td>...</td>\n",
       "      <td>0.000000</td>\n",
       "      <td>0.000000</td>\n",
       "      <td>0.000000</td>\n",
       "      <td>0.000000</td>\n",
       "      <td>0.000000</td>\n",
       "      <td>0.000000</td>\n",
       "      <td>-1.000000</td>\n",
       "      <td>0.000000</td>\n",
       "      <td>0.000000</td>\n",
       "      <td>-642.000000</td>\n",
       "    </tr>\n",
       "    <tr>\n",
       "      <th>25%</th>\n",
       "      <td>23.000000</td>\n",
       "      <td>30.500000</td>\n",
       "      <td>12.000000</td>\n",
       "      <td>14.000000</td>\n",
       "      <td>329.000000</td>\n",
       "      <td>120.500000</td>\n",
       "      <td>45.500000</td>\n",
       "      <td>93.500000</td>\n",
       "      <td>41.650000</td>\n",
       "      <td>5.000000</td>\n",
       "      <td>...</td>\n",
       "      <td>50.500000</td>\n",
       "      <td>22.000000</td>\n",
       "      <td>14.500000</td>\n",
       "      <td>8.500000</td>\n",
       "      <td>5.000000</td>\n",
       "      <td>32.000000</td>\n",
       "      <td>254.000000</td>\n",
       "      <td>0.000000</td>\n",
       "      <td>0.000000</td>\n",
       "      <td>-70.000000</td>\n",
       "    </tr>\n",
       "    <tr>\n",
       "      <th>50%</th>\n",
       "      <td>25.000000</td>\n",
       "      <td>54.000000</td>\n",
       "      <td>25.000000</td>\n",
       "      <td>25.000000</td>\n",
       "      <td>970.200000</td>\n",
       "      <td>374.000000</td>\n",
       "      <td>138.000000</td>\n",
       "      <td>300.000000</td>\n",
       "      <td>45.500000</td>\n",
       "      <td>36.000000</td>\n",
       "      <td>...</td>\n",
       "      <td>159.000000</td>\n",
       "      <td>69.000000</td>\n",
       "      <td>44.000000</td>\n",
       "      <td>28.000000</td>\n",
       "      <td>13.000000</td>\n",
       "      <td>86.000000</td>\n",
       "      <td>810.000000</td>\n",
       "      <td>0.000000</td>\n",
       "      <td>0.000000</td>\n",
       "      <td>-7.000000</td>\n",
       "    </tr>\n",
       "    <tr>\n",
       "      <th>75%</th>\n",
       "      <td>29.000000</td>\n",
       "      <td>68.000000</td>\n",
       "      <td>36.000000</td>\n",
       "      <td>34.000000</td>\n",
       "      <td>1845.900000</td>\n",
       "      <td>769.500000</td>\n",
       "      <td>283.500000</td>\n",
       "      <td>598.500000</td>\n",
       "      <td>50.600000</td>\n",
       "      <td>92.000000</td>\n",
       "      <td>...</td>\n",
       "      <td>286.000000</td>\n",
       "      <td>162.500000</td>\n",
       "      <td>92.500000</td>\n",
       "      <td>51.000000</td>\n",
       "      <td>28.000000</td>\n",
       "      <td>140.000000</td>\n",
       "      <td>1646.000000</td>\n",
       "      <td>3.000000</td>\n",
       "      <td>0.000000</td>\n",
       "      <td>57.000000</td>\n",
       "    </tr>\n",
       "    <tr>\n",
       "      <th>max</th>\n",
       "      <td>42.000000</td>\n",
       "      <td>83.000000</td>\n",
       "      <td>57.000000</td>\n",
       "      <td>60.000000</td>\n",
       "      <td>2963.200000</td>\n",
       "      <td>2225.000000</td>\n",
       "      <td>728.000000</td>\n",
       "      <td>1559.000000</td>\n",
       "      <td>100.000000</td>\n",
       "      <td>301.000000</td>\n",
       "      <td>...</td>\n",
       "      <td>973.000000</td>\n",
       "      <td>741.000000</td>\n",
       "      <td>300.000000</td>\n",
       "      <td>128.000000</td>\n",
       "      <td>193.000000</td>\n",
       "      <td>279.000000</td>\n",
       "      <td>3842.000000</td>\n",
       "      <td>65.000000</td>\n",
       "      <td>29.000000</td>\n",
       "      <td>640.000000</td>\n",
       "    </tr>\n",
       "  </tbody>\n",
       "</table>\n",
       "<p>8 rows × 27 columns</p>\n",
       "</div>"
      ],
      "text/plain": [
       "              Age          GP           W           L          Min  \\\n",
       "count  539.000000  539.000000  539.000000  539.000000   539.000000   \n",
       "mean    25.970315   48.040816   24.018553   24.022263  1103.617625   \n",
       "std      4.315513   24.650686   14.496366   13.445866   827.765114   \n",
       "min     19.000000    1.000000    0.000000    0.000000     1.000000   \n",
       "25%     23.000000   30.500000   12.000000   14.000000   329.000000   \n",
       "50%     25.000000   54.000000   25.000000   25.000000   970.200000   \n",
       "75%     29.000000   68.000000   36.000000   34.000000  1845.900000   \n",
       "max     42.000000   83.000000   57.000000   60.000000  2963.200000   \n",
       "\n",
       "               PTS         FGM          FGA         FG%         3PM  ...  \\\n",
       "count   539.000000  539.000000   539.000000  539.000000  539.000000  ...   \n",
       "mean    523.426716  191.576994   403.005566   46.325232   56.324675  ...   \n",
       "std     498.084360  178.351286   369.595909   10.967271   60.916821  ...   \n",
       "min       0.000000    0.000000     0.000000    0.000000    0.000000  ...   \n",
       "25%     120.500000   45.500000    93.500000   41.650000    5.000000  ...   \n",
       "50%     374.000000  138.000000   300.000000   45.500000   36.000000  ...   \n",
       "75%     769.500000  283.500000   598.500000   50.600000   92.000000  ...   \n",
       "max    2225.000000  728.000000  1559.000000  100.000000  301.000000  ...   \n",
       "\n",
       "              REB         AST         TOV         STL         BLK          PF  \\\n",
       "count  539.000000  539.000000  539.000000  539.000000  539.000000  539.000000   \n",
       "mean   198.254174  115.545455   61.300557   33.270872   21.241187   91.181818   \n",
       "std    181.819962  129.578453   58.279185   28.336745   26.529238   66.206731   \n",
       "min      0.000000    0.000000    0.000000    0.000000    0.000000    0.000000   \n",
       "25%     50.500000   22.000000   14.500000    8.500000    5.000000   32.000000   \n",
       "50%    159.000000   69.000000   44.000000   28.000000   13.000000   86.000000   \n",
       "75%    286.000000  162.500000   92.500000   51.000000   28.000000  140.000000   \n",
       "max    973.000000  741.000000  300.000000  128.000000  193.000000  279.000000   \n",
       "\n",
       "                FP         DD2         TD3         +/-  \n",
       "count   539.000000  539.000000  539.000000  539.000000  \n",
       "mean   1036.938776    4.011132    0.220779    0.000000  \n",
       "std     894.081896    8.770932    1.564432  148.223909  \n",
       "min      -1.000000    0.000000    0.000000 -642.000000  \n",
       "25%     254.000000    0.000000    0.000000  -70.000000  \n",
       "50%     810.000000    0.000000    0.000000   -7.000000  \n",
       "75%    1646.000000    3.000000    0.000000   57.000000  \n",
       "max    3842.000000   65.000000   29.000000  640.000000  \n",
       "\n",
       "[8 rows x 27 columns]"
      ]
     },
     "execution_count": 80,
     "metadata": {},
     "output_type": "execute_result"
    }
   ],
   "source": [
    "NBA_DF.describe()"
   ]
  },
  {
   "cell_type": "code",
   "execution_count": 81,
   "id": "106edd2d-0f39-41b6-af32-06da33389514",
   "metadata": {},
   "outputs": [
    {
     "data": {
      "text/html": [
       "<div>\n",
       "<style scoped>\n",
       "    .dataframe tbody tr th:only-of-type {\n",
       "        vertical-align: middle;\n",
       "    }\n",
       "\n",
       "    .dataframe tbody tr th {\n",
       "        vertical-align: top;\n",
       "    }\n",
       "\n",
       "    .dataframe thead th {\n",
       "        text-align: right;\n",
       "    }\n",
       "</style>\n",
       "<table border=\"1\" class=\"dataframe\">\n",
       "  <thead>\n",
       "    <tr style=\"text-align: right;\">\n",
       "      <th></th>\n",
       "      <th>Player</th>\n",
       "      <th>Age</th>\n",
       "      <th>PPG</th>\n",
       "      <th>APG</th>\n",
       "      <th>RPG</th>\n",
       "      <th>SPG</th>\n",
       "      <th>BPG</th>\n",
       "    </tr>\n",
       "  </thead>\n",
       "  <tbody>\n",
       "    <tr>\n",
       "      <th>0</th>\n",
       "      <td>Jayson Tatum</td>\n",
       "      <td>25</td>\n",
       "      <td>27.134146</td>\n",
       "      <td>4.170732</td>\n",
       "      <td>7.914634</td>\n",
       "      <td>0.951220</td>\n",
       "      <td>0.621951</td>\n",
       "    </tr>\n",
       "    <tr>\n",
       "      <th>11</th>\n",
       "      <td>De'Aaron Fox</td>\n",
       "      <td>25</td>\n",
       "      <td>22.268293</td>\n",
       "      <td>5.451220</td>\n",
       "      <td>3.731707</td>\n",
       "      <td>1.012195</td>\n",
       "      <td>0.280488</td>\n",
       "    </tr>\n",
       "    <tr>\n",
       "      <th>26</th>\n",
       "      <td>Bam Adebayo</td>\n",
       "      <td>25</td>\n",
       "      <td>18.646341</td>\n",
       "      <td>2.926829</td>\n",
       "      <td>8.390244</td>\n",
       "      <td>1.073171</td>\n",
       "      <td>0.743902</td>\n",
       "    </tr>\n",
       "    <tr>\n",
       "      <th>15</th>\n",
       "      <td>Lauri Markkanen</td>\n",
       "      <td>25</td>\n",
       "      <td>20.621951</td>\n",
       "      <td>1.500000</td>\n",
       "      <td>6.951220</td>\n",
       "      <td>0.512195</td>\n",
       "      <td>0.463415</td>\n",
       "    </tr>\n",
       "    <tr>\n",
       "      <th>2</th>\n",
       "      <td>Luka Doncic</td>\n",
       "      <td>24</td>\n",
       "      <td>26.073171</td>\n",
       "      <td>6.451220</td>\n",
       "      <td>6.939024</td>\n",
       "      <td>1.097561</td>\n",
       "      <td>0.402439</td>\n",
       "    </tr>\n",
       "    <tr>\n",
       "      <th>58</th>\n",
       "      <td>Desmond Bane</td>\n",
       "      <td>24</td>\n",
       "      <td>15.207317</td>\n",
       "      <td>3.097561</td>\n",
       "      <td>3.548780</td>\n",
       "      <td>0.682927</td>\n",
       "      <td>0.268293</td>\n",
       "    </tr>\n",
       "    <tr>\n",
       "      <th>8</th>\n",
       "      <td>Trae Young</td>\n",
       "      <td>24</td>\n",
       "      <td>23.341463</td>\n",
       "      <td>9.036585</td>\n",
       "      <td>2.646341</td>\n",
       "      <td>0.975610</td>\n",
       "      <td>0.109756</td>\n",
       "    </tr>\n",
       "    <tr>\n",
       "      <th>3</th>\n",
       "      <td>Shai Gilgeous-Alexander</td>\n",
       "      <td>24</td>\n",
       "      <td>26.036585</td>\n",
       "      <td>4.524390</td>\n",
       "      <td>4.012195</td>\n",
       "      <td>1.365854</td>\n",
       "      <td>0.792683</td>\n",
       "    </tr>\n",
       "    <tr>\n",
       "      <th>18</th>\n",
       "      <td>Jordan Poole</td>\n",
       "      <td>23</td>\n",
       "      <td>20.426829</td>\n",
       "      <td>4.500000</td>\n",
       "      <td>2.743902</td>\n",
       "      <td>0.768293</td>\n",
       "      <td>0.256098</td>\n",
       "    </tr>\n",
       "    <tr>\n",
       "      <th>23</th>\n",
       "      <td>Ja Morant</td>\n",
       "      <td>23</td>\n",
       "      <td>19.463415</td>\n",
       "      <td>6.012195</td>\n",
       "      <td>4.353659</td>\n",
       "      <td>0.804878</td>\n",
       "      <td>0.195122</td>\n",
       "    </tr>\n",
       "    <tr>\n",
       "      <th>39</th>\n",
       "      <td>Keldon Johnson</td>\n",
       "      <td>23</td>\n",
       "      <td>16.890244</td>\n",
       "      <td>2.231707</td>\n",
       "      <td>3.878049</td>\n",
       "      <td>0.560976</td>\n",
       "      <td>0.134146</td>\n",
       "    </tr>\n",
       "    <tr>\n",
       "      <th>43</th>\n",
       "      <td>Tyler Herro</td>\n",
       "      <td>23</td>\n",
       "      <td>16.426829</td>\n",
       "      <td>3.414634</td>\n",
       "      <td>4.390244</td>\n",
       "      <td>0.621951</td>\n",
       "      <td>0.195122</td>\n",
       "    </tr>\n",
       "    <tr>\n",
       "      <th>48</th>\n",
       "      <td>Anfernee Simons</td>\n",
       "      <td>23</td>\n",
       "      <td>15.926829</td>\n",
       "      <td>3.085366</td>\n",
       "      <td>1.963415</td>\n",
       "      <td>0.512195</td>\n",
       "      <td>0.170732</td>\n",
       "    </tr>\n",
       "    <tr>\n",
       "      <th>31</th>\n",
       "      <td>Darius Garland</td>\n",
       "      <td>23</td>\n",
       "      <td>18.170732</td>\n",
       "      <td>6.560976</td>\n",
       "      <td>2.256098</td>\n",
       "      <td>1.036585</td>\n",
       "      <td>0.109756</td>\n",
       "    </tr>\n",
       "    <tr>\n",
       "      <th>38</th>\n",
       "      <td>RJ Barrett</td>\n",
       "      <td>22</td>\n",
       "      <td>17.451220</td>\n",
       "      <td>2.451220</td>\n",
       "      <td>4.487805</td>\n",
       "      <td>0.378049</td>\n",
       "      <td>0.182927</td>\n",
       "    </tr>\n",
       "    <tr>\n",
       "      <th>17</th>\n",
       "      <td>Jalen Green</td>\n",
       "      <td>21</td>\n",
       "      <td>20.524390</td>\n",
       "      <td>3.426829</td>\n",
       "      <td>3.463415</td>\n",
       "      <td>0.719512</td>\n",
       "      <td>0.219512</td>\n",
       "    </tr>\n",
       "    <tr>\n",
       "      <th>5</th>\n",
       "      <td>Anthony Edwards</td>\n",
       "      <td>21</td>\n",
       "      <td>23.731707</td>\n",
       "      <td>4.268293</td>\n",
       "      <td>5.585366</td>\n",
       "      <td>1.524390</td>\n",
       "      <td>0.707317</td>\n",
       "    </tr>\n",
       "    <tr>\n",
       "      <th>32</th>\n",
       "      <td>Franz Wagner</td>\n",
       "      <td>21</td>\n",
       "      <td>18.109756</td>\n",
       "      <td>3.451220</td>\n",
       "      <td>4.012195</td>\n",
       "      <td>0.939024</td>\n",
       "      <td>0.207317</td>\n",
       "    </tr>\n",
       "    <tr>\n",
       "      <th>53</th>\n",
       "      <td>Evan Mobley</td>\n",
       "      <td>21</td>\n",
       "      <td>15.573171</td>\n",
       "      <td>2.731707</td>\n",
       "      <td>8.670732</td>\n",
       "      <td>0.731707</td>\n",
       "      <td>1.451220</td>\n",
       "    </tr>\n",
       "    <tr>\n",
       "      <th>37</th>\n",
       "      <td>Paolo Banchero</td>\n",
       "      <td>20</td>\n",
       "      <td>17.524390</td>\n",
       "      <td>3.280488</td>\n",
       "      <td>6.060976</td>\n",
       "      <td>0.731707</td>\n",
       "      <td>0.475610</td>\n",
       "    </tr>\n",
       "    <tr>\n",
       "      <th>49</th>\n",
       "      <td>Bennedict Mathurin</td>\n",
       "      <td>20</td>\n",
       "      <td>15.878049</td>\n",
       "      <td>1.414634</td>\n",
       "      <td>3.878049</td>\n",
       "      <td>0.585366</td>\n",
       "      <td>0.158537</td>\n",
       "    </tr>\n",
       "    <tr>\n",
       "      <th>57</th>\n",
       "      <td>Josh Giddey</td>\n",
       "      <td>20</td>\n",
       "      <td>15.365854</td>\n",
       "      <td>5.719512</td>\n",
       "      <td>7.304878</td>\n",
       "      <td>0.695122</td>\n",
       "      <td>0.378049</td>\n",
       "    </tr>\n",
       "  </tbody>\n",
       "</table>\n",
       "</div>"
      ],
      "text/plain": [
       "                     Player  Age        PPG       APG       RPG       SPG  \\\n",
       "0              Jayson Tatum   25  27.134146  4.170732  7.914634  0.951220   \n",
       "11             De'Aaron Fox   25  22.268293  5.451220  3.731707  1.012195   \n",
       "26              Bam Adebayo   25  18.646341  2.926829  8.390244  1.073171   \n",
       "15          Lauri Markkanen   25  20.621951  1.500000  6.951220  0.512195   \n",
       "2               Luka Doncic   24  26.073171  6.451220  6.939024  1.097561   \n",
       "58             Desmond Bane   24  15.207317  3.097561  3.548780  0.682927   \n",
       "8                Trae Young   24  23.341463  9.036585  2.646341  0.975610   \n",
       "3   Shai Gilgeous-Alexander   24  26.036585  4.524390  4.012195  1.365854   \n",
       "18             Jordan Poole   23  20.426829  4.500000  2.743902  0.768293   \n",
       "23                Ja Morant   23  19.463415  6.012195  4.353659  0.804878   \n",
       "39           Keldon Johnson   23  16.890244  2.231707  3.878049  0.560976   \n",
       "43              Tyler Herro   23  16.426829  3.414634  4.390244  0.621951   \n",
       "48          Anfernee Simons   23  15.926829  3.085366  1.963415  0.512195   \n",
       "31           Darius Garland   23  18.170732  6.560976  2.256098  1.036585   \n",
       "38               RJ Barrett   22  17.451220  2.451220  4.487805  0.378049   \n",
       "17              Jalen Green   21  20.524390  3.426829  3.463415  0.719512   \n",
       "5           Anthony Edwards   21  23.731707  4.268293  5.585366  1.524390   \n",
       "32             Franz Wagner   21  18.109756  3.451220  4.012195  0.939024   \n",
       "53              Evan Mobley   21  15.573171  2.731707  8.670732  0.731707   \n",
       "37           Paolo Banchero   20  17.524390  3.280488  6.060976  0.731707   \n",
       "49       Bennedict Mathurin   20  15.878049  1.414634  3.878049  0.585366   \n",
       "57              Josh Giddey   20  15.365854  5.719512  7.304878  0.695122   \n",
       "\n",
       "         BPG  \n",
       "0   0.621951  \n",
       "11  0.280488  \n",
       "26  0.743902  \n",
       "15  0.463415  \n",
       "2   0.402439  \n",
       "58  0.268293  \n",
       "8   0.109756  \n",
       "3   0.792683  \n",
       "18  0.256098  \n",
       "23  0.195122  \n",
       "39  0.134146  \n",
       "43  0.195122  \n",
       "48  0.170732  \n",
       "31  0.109756  \n",
       "38  0.182927  \n",
       "17  0.219512  \n",
       "5   0.707317  \n",
       "32  0.207317  \n",
       "53  1.451220  \n",
       "37  0.475610  \n",
       "49  0.158537  \n",
       "57  0.378049  "
      ]
     },
     "execution_count": 81,
     "metadata": {},
     "output_type": "execute_result"
    }
   ],
   "source": [
    "young = NBA_DF.copy()\n",
    "mask = (NBA_DF['Age'] <= 25) & (NBA_DF['PTS'] >= 1230)\n",
    "young = young[mask]\n",
    "\n",
    "young['PPG'] = young['PTS'] / 82\n",
    "young['APG'] = young['AST'] / 82\n",
    "young['RPG'] = young['REB'] / 82\n",
    "young['SPG'] = young['STL'] / 82\n",
    "young['BPG'] = young['BLK'] / 82\n",
    "\n",
    "columns = ['PName', 'Age', 'PPG', 'APG', 'RPG', 'SPG', 'BPG']\n",
    "young = young[columns]\n",
    "\n",
    "young.rename(columns={'PName':'Player'}, inplace=True)\n",
    "\n",
    "young.sort_values(by=\"Age\", ascending=False)"
   ]
  },
  {
   "cell_type": "code",
   "execution_count": 82,
   "id": "15b8d802-b1da-4c7c-82ea-c00e9d0376bb",
   "metadata": {},
   "outputs": [
    {
     "data": {
      "application/vnd.plotly.v1+json": {
       "config": {
        "plotlyServerURL": "https://plot.ly"
       },
       "data": [
        {
         "bingroup": "x",
         "histfunc": "sum",
         "hovertemplate": "Age=25<br>Player=%{x}<br>sum of PPG NBA 2023=%{y}<extra></extra>",
         "legendgroup": "25",
         "marker": {
          "color": "#636efa",
          "pattern": {
           "shape": ""
          }
         },
         "name": "25",
         "orientation": "v",
         "showlegend": true,
         "type": "histogram",
         "x": [
          "Jayson Tatum",
          "De'Aaron Fox",
          "Lauri Markkanen",
          "Bam Adebayo"
         ],
         "xaxis": "x",
         "y": {
          "bdata": "onYlalciO0BF7UrUrkQ2QB+D8zE4nzRAJWpXonalMkA=",
          "dtype": "f8"
         },
         "yaxis": "y"
        },
        {
         "bingroup": "x",
         "histfunc": "sum",
         "hovertemplate": "Age=24<br>Player=%{x}<br>sum of PPG NBA 2023=%{y}<extra></extra>",
         "legendgroup": "24",
         "marker": {
          "color": "#EF553B",
          "pattern": {
           "shape": ""
          }
         },
         "name": "24",
         "orientation": "v",
         "showlegend": true,
         "type": "histogram",
         "x": [
          "Luka Doncic",
          "Shai Gilgeous-Alexander",
          "Trae Young",
          "Desmond Bane"
         ],
         "xaxis": "x",
         "y": {
          "bdata": "E7UrUbsSOkCJ2pWoXQk6QFeidiVqVzdAaleidiVqLkA=",
          "dtype": "f8"
         },
         "yaxis": "y"
        },
        {
         "bingroup": "x",
         "histfunc": "sum",
         "hovertemplate": "Age=21<br>Player=%{x}<br>sum of PPG NBA 2023=%{y}<extra></extra>",
         "legendgroup": "21",
         "marker": {
          "color": "#00cc96",
          "pattern": {
           "shape": ""
          }
         },
         "name": "21",
         "orientation": "v",
         "showlegend": true,
         "type": "histogram",
         "x": [
          "Anthony Edwards",
          "Jalen Green",
          "Franz Wagner",
          "Evan Mobley"
         ],
         "xaxis": "x",
         "y": {
          "bdata": "uxK1K1G7N0AG52NwPoY0QJyPwfkYHDJAJWpXonYlL0A=",
          "dtype": "f8"
         },
         "yaxis": "y"
        },
        {
         "bingroup": "x",
         "histfunc": "sum",
         "hovertemplate": "Age=23<br>Player=%{x}<br>sum of PPG NBA 2023=%{y}<extra></extra>",
         "legendgroup": "23",
         "marker": {
          "color": "#ab63fa",
          "pattern": {
           "shape": ""
          }
         },
         "name": "23",
         "orientation": "v",
         "showlegend": true,
         "type": "histogram",
         "x": [
          "Jordan Poole",
          "Ja Morant",
          "Darius Garland",
          "Keldon Johnson",
          "Tyler Herro",
          "Anfernee Simons"
         ],
         "xaxis": "x",
         "y": {
          "bdata": "7UrUrkRtNEB3JWpXonYzQCxRuxK1KzJAZHA+BufjMEDtStSuRG0wQNuVqF2J2i9A",
          "dtype": "f8"
         },
         "yaxis": "y"
        },
        {
         "bingroup": "x",
         "histfunc": "sum",
         "hovertemplate": "Age=20<br>Player=%{x}<br>sum of PPG NBA 2023=%{y}<extra></extra>",
         "legendgroup": "20",
         "marker": {
          "color": "#FFA15A",
          "pattern": {
           "shape": ""
          }
         },
         "name": "20",
         "orientation": "v",
         "showlegend": true,
         "type": "histogram",
         "x": [
          "Paolo Banchero",
          "Bennedict Mathurin",
          "Josh Giddey"
         ],
         "xaxis": "x",
         "y": {
          "bdata": "BudjcD6GMUDC+Ricj8EvQLsStStRuy5A",
          "dtype": "f8"
         },
         "yaxis": "y"
        },
        {
         "bingroup": "x",
         "histfunc": "sum",
         "hovertemplate": "Age=22<br>Player=%{x}<br>sum of PPG NBA 2023=%{y}<extra></extra>",
         "legendgroup": "22",
         "marker": {
          "color": "#19d3f3",
          "pattern": {
           "shape": ""
          }
         },
         "name": "22",
         "orientation": "v",
         "showlegend": true,
         "type": "histogram",
         "x": [
          "RJ Barrett"
         ],
         "xaxis": "x",
         "y": {
          "bdata": "9DE4H4NzMUA=",
          "dtype": "f8"
         },
         "yaxis": "y"
        }
       ],
       "layout": {
        "barmode": "relative",
        "legend": {
         "title": {
          "text": "Age"
         },
         "tracegroupgap": 0
        },
        "margin": {
         "t": 60
        },
        "template": {
         "data": {
          "bar": [
           {
            "error_x": {
             "color": "#2a3f5f"
            },
            "error_y": {
             "color": "#2a3f5f"
            },
            "marker": {
             "line": {
              "color": "#E5ECF6",
              "width": 0.5
             },
             "pattern": {
              "fillmode": "overlay",
              "size": 10,
              "solidity": 0.2
             }
            },
            "type": "bar"
           }
          ],
          "barpolar": [
           {
            "marker": {
             "line": {
              "color": "#E5ECF6",
              "width": 0.5
             },
             "pattern": {
              "fillmode": "overlay",
              "size": 10,
              "solidity": 0.2
             }
            },
            "type": "barpolar"
           }
          ],
          "carpet": [
           {
            "aaxis": {
             "endlinecolor": "#2a3f5f",
             "gridcolor": "white",
             "linecolor": "white",
             "minorgridcolor": "white",
             "startlinecolor": "#2a3f5f"
            },
            "baxis": {
             "endlinecolor": "#2a3f5f",
             "gridcolor": "white",
             "linecolor": "white",
             "minorgridcolor": "white",
             "startlinecolor": "#2a3f5f"
            },
            "type": "carpet"
           }
          ],
          "choropleth": [
           {
            "colorbar": {
             "outlinewidth": 0,
             "ticks": ""
            },
            "type": "choropleth"
           }
          ],
          "contour": [
           {
            "colorbar": {
             "outlinewidth": 0,
             "ticks": ""
            },
            "colorscale": [
             [
              0,
              "#0d0887"
             ],
             [
              0.1111111111111111,
              "#46039f"
             ],
             [
              0.2222222222222222,
              "#7201a8"
             ],
             [
              0.3333333333333333,
              "#9c179e"
             ],
             [
              0.4444444444444444,
              "#bd3786"
             ],
             [
              0.5555555555555556,
              "#d8576b"
             ],
             [
              0.6666666666666666,
              "#ed7953"
             ],
             [
              0.7777777777777778,
              "#fb9f3a"
             ],
             [
              0.8888888888888888,
              "#fdca26"
             ],
             [
              1,
              "#f0f921"
             ]
            ],
            "type": "contour"
           }
          ],
          "contourcarpet": [
           {
            "colorbar": {
             "outlinewidth": 0,
             "ticks": ""
            },
            "type": "contourcarpet"
           }
          ],
          "heatmap": [
           {
            "colorbar": {
             "outlinewidth": 0,
             "ticks": ""
            },
            "colorscale": [
             [
              0,
              "#0d0887"
             ],
             [
              0.1111111111111111,
              "#46039f"
             ],
             [
              0.2222222222222222,
              "#7201a8"
             ],
             [
              0.3333333333333333,
              "#9c179e"
             ],
             [
              0.4444444444444444,
              "#bd3786"
             ],
             [
              0.5555555555555556,
              "#d8576b"
             ],
             [
              0.6666666666666666,
              "#ed7953"
             ],
             [
              0.7777777777777778,
              "#fb9f3a"
             ],
             [
              0.8888888888888888,
              "#fdca26"
             ],
             [
              1,
              "#f0f921"
             ]
            ],
            "type": "heatmap"
           }
          ],
          "histogram": [
           {
            "marker": {
             "pattern": {
              "fillmode": "overlay",
              "size": 10,
              "solidity": 0.2
             }
            },
            "type": "histogram"
           }
          ],
          "histogram2d": [
           {
            "colorbar": {
             "outlinewidth": 0,
             "ticks": ""
            },
            "colorscale": [
             [
              0,
              "#0d0887"
             ],
             [
              0.1111111111111111,
              "#46039f"
             ],
             [
              0.2222222222222222,
              "#7201a8"
             ],
             [
              0.3333333333333333,
              "#9c179e"
             ],
             [
              0.4444444444444444,
              "#bd3786"
             ],
             [
              0.5555555555555556,
              "#d8576b"
             ],
             [
              0.6666666666666666,
              "#ed7953"
             ],
             [
              0.7777777777777778,
              "#fb9f3a"
             ],
             [
              0.8888888888888888,
              "#fdca26"
             ],
             [
              1,
              "#f0f921"
             ]
            ],
            "type": "histogram2d"
           }
          ],
          "histogram2dcontour": [
           {
            "colorbar": {
             "outlinewidth": 0,
             "ticks": ""
            },
            "colorscale": [
             [
              0,
              "#0d0887"
             ],
             [
              0.1111111111111111,
              "#46039f"
             ],
             [
              0.2222222222222222,
              "#7201a8"
             ],
             [
              0.3333333333333333,
              "#9c179e"
             ],
             [
              0.4444444444444444,
              "#bd3786"
             ],
             [
              0.5555555555555556,
              "#d8576b"
             ],
             [
              0.6666666666666666,
              "#ed7953"
             ],
             [
              0.7777777777777778,
              "#fb9f3a"
             ],
             [
              0.8888888888888888,
              "#fdca26"
             ],
             [
              1,
              "#f0f921"
             ]
            ],
            "type": "histogram2dcontour"
           }
          ],
          "mesh3d": [
           {
            "colorbar": {
             "outlinewidth": 0,
             "ticks": ""
            },
            "type": "mesh3d"
           }
          ],
          "parcoords": [
           {
            "line": {
             "colorbar": {
              "outlinewidth": 0,
              "ticks": ""
             }
            },
            "type": "parcoords"
           }
          ],
          "pie": [
           {
            "automargin": true,
            "type": "pie"
           }
          ],
          "scatter": [
           {
            "fillpattern": {
             "fillmode": "overlay",
             "size": 10,
             "solidity": 0.2
            },
            "type": "scatter"
           }
          ],
          "scatter3d": [
           {
            "line": {
             "colorbar": {
              "outlinewidth": 0,
              "ticks": ""
             }
            },
            "marker": {
             "colorbar": {
              "outlinewidth": 0,
              "ticks": ""
             }
            },
            "type": "scatter3d"
           }
          ],
          "scattercarpet": [
           {
            "marker": {
             "colorbar": {
              "outlinewidth": 0,
              "ticks": ""
             }
            },
            "type": "scattercarpet"
           }
          ],
          "scattergeo": [
           {
            "marker": {
             "colorbar": {
              "outlinewidth": 0,
              "ticks": ""
             }
            },
            "type": "scattergeo"
           }
          ],
          "scattergl": [
           {
            "marker": {
             "colorbar": {
              "outlinewidth": 0,
              "ticks": ""
             }
            },
            "type": "scattergl"
           }
          ],
          "scattermap": [
           {
            "marker": {
             "colorbar": {
              "outlinewidth": 0,
              "ticks": ""
             }
            },
            "type": "scattermap"
           }
          ],
          "scattermapbox": [
           {
            "marker": {
             "colorbar": {
              "outlinewidth": 0,
              "ticks": ""
             }
            },
            "type": "scattermapbox"
           }
          ],
          "scatterpolar": [
           {
            "marker": {
             "colorbar": {
              "outlinewidth": 0,
              "ticks": ""
             }
            },
            "type": "scatterpolar"
           }
          ],
          "scatterpolargl": [
           {
            "marker": {
             "colorbar": {
              "outlinewidth": 0,
              "ticks": ""
             }
            },
            "type": "scatterpolargl"
           }
          ],
          "scatterternary": [
           {
            "marker": {
             "colorbar": {
              "outlinewidth": 0,
              "ticks": ""
             }
            },
            "type": "scatterternary"
           }
          ],
          "surface": [
           {
            "colorbar": {
             "outlinewidth": 0,
             "ticks": ""
            },
            "colorscale": [
             [
              0,
              "#0d0887"
             ],
             [
              0.1111111111111111,
              "#46039f"
             ],
             [
              0.2222222222222222,
              "#7201a8"
             ],
             [
              0.3333333333333333,
              "#9c179e"
             ],
             [
              0.4444444444444444,
              "#bd3786"
             ],
             [
              0.5555555555555556,
              "#d8576b"
             ],
             [
              0.6666666666666666,
              "#ed7953"
             ],
             [
              0.7777777777777778,
              "#fb9f3a"
             ],
             [
              0.8888888888888888,
              "#fdca26"
             ],
             [
              1,
              "#f0f921"
             ]
            ],
            "type": "surface"
           }
          ],
          "table": [
           {
            "cells": {
             "fill": {
              "color": "#EBF0F8"
             },
             "line": {
              "color": "white"
             }
            },
            "header": {
             "fill": {
              "color": "#C8D4E3"
             },
             "line": {
              "color": "white"
             }
            },
            "type": "table"
           }
          ]
         },
         "layout": {
          "annotationdefaults": {
           "arrowcolor": "#2a3f5f",
           "arrowhead": 0,
           "arrowwidth": 1
          },
          "autotypenumbers": "strict",
          "coloraxis": {
           "colorbar": {
            "outlinewidth": 0,
            "ticks": ""
           }
          },
          "colorscale": {
           "diverging": [
            [
             0,
             "#8e0152"
            ],
            [
             0.1,
             "#c51b7d"
            ],
            [
             0.2,
             "#de77ae"
            ],
            [
             0.3,
             "#f1b6da"
            ],
            [
             0.4,
             "#fde0ef"
            ],
            [
             0.5,
             "#f7f7f7"
            ],
            [
             0.6,
             "#e6f5d0"
            ],
            [
             0.7,
             "#b8e186"
            ],
            [
             0.8,
             "#7fbc41"
            ],
            [
             0.9,
             "#4d9221"
            ],
            [
             1,
             "#276419"
            ]
           ],
           "sequential": [
            [
             0,
             "#0d0887"
            ],
            [
             0.1111111111111111,
             "#46039f"
            ],
            [
             0.2222222222222222,
             "#7201a8"
            ],
            [
             0.3333333333333333,
             "#9c179e"
            ],
            [
             0.4444444444444444,
             "#bd3786"
            ],
            [
             0.5555555555555556,
             "#d8576b"
            ],
            [
             0.6666666666666666,
             "#ed7953"
            ],
            [
             0.7777777777777778,
             "#fb9f3a"
            ],
            [
             0.8888888888888888,
             "#fdca26"
            ],
            [
             1,
             "#f0f921"
            ]
           ],
           "sequentialminus": [
            [
             0,
             "#0d0887"
            ],
            [
             0.1111111111111111,
             "#46039f"
            ],
            [
             0.2222222222222222,
             "#7201a8"
            ],
            [
             0.3333333333333333,
             "#9c179e"
            ],
            [
             0.4444444444444444,
             "#bd3786"
            ],
            [
             0.5555555555555556,
             "#d8576b"
            ],
            [
             0.6666666666666666,
             "#ed7953"
            ],
            [
             0.7777777777777778,
             "#fb9f3a"
            ],
            [
             0.8888888888888888,
             "#fdca26"
            ],
            [
             1,
             "#f0f921"
            ]
           ]
          },
          "colorway": [
           "#636efa",
           "#EF553B",
           "#00cc96",
           "#ab63fa",
           "#FFA15A",
           "#19d3f3",
           "#FF6692",
           "#B6E880",
           "#FF97FF",
           "#FECB52"
          ],
          "font": {
           "color": "#2a3f5f"
          },
          "geo": {
           "bgcolor": "white",
           "lakecolor": "white",
           "landcolor": "#E5ECF6",
           "showlakes": true,
           "showland": true,
           "subunitcolor": "white"
          },
          "hoverlabel": {
           "align": "left"
          },
          "hovermode": "closest",
          "mapbox": {
           "style": "light"
          },
          "paper_bgcolor": "white",
          "plot_bgcolor": "#E5ECF6",
          "polar": {
           "angularaxis": {
            "gridcolor": "white",
            "linecolor": "white",
            "ticks": ""
           },
           "bgcolor": "#E5ECF6",
           "radialaxis": {
            "gridcolor": "white",
            "linecolor": "white",
            "ticks": ""
           }
          },
          "scene": {
           "xaxis": {
            "backgroundcolor": "#E5ECF6",
            "gridcolor": "white",
            "gridwidth": 2,
            "linecolor": "white",
            "showbackground": true,
            "ticks": "",
            "zerolinecolor": "white"
           },
           "yaxis": {
            "backgroundcolor": "#E5ECF6",
            "gridcolor": "white",
            "gridwidth": 2,
            "linecolor": "white",
            "showbackground": true,
            "ticks": "",
            "zerolinecolor": "white"
           },
           "zaxis": {
            "backgroundcolor": "#E5ECF6",
            "gridcolor": "white",
            "gridwidth": 2,
            "linecolor": "white",
            "showbackground": true,
            "ticks": "",
            "zerolinecolor": "white"
           }
          },
          "shapedefaults": {
           "line": {
            "color": "#2a3f5f"
           }
          },
          "ternary": {
           "aaxis": {
            "gridcolor": "white",
            "linecolor": "white",
            "ticks": ""
           },
           "baxis": {
            "gridcolor": "white",
            "linecolor": "white",
            "ticks": ""
           },
           "bgcolor": "#E5ECF6",
           "caxis": {
            "gridcolor": "white",
            "linecolor": "white",
            "ticks": ""
           }
          },
          "title": {
           "x": 0.05
          },
          "xaxis": {
           "automargin": true,
           "gridcolor": "white",
           "linecolor": "white",
           "ticks": "",
           "title": {
            "standoff": 15
           },
           "zerolinecolor": "white",
           "zerolinewidth": 2
          },
          "yaxis": {
           "automargin": true,
           "gridcolor": "white",
           "linecolor": "white",
           "ticks": "",
           "title": {
            "standoff": 15
           },
           "zerolinecolor": "white",
           "zerolinewidth": 2
          }
         }
        },
        "xaxis": {
         "anchor": "y",
         "domain": [
          0,
          1
         ],
         "title": {
          "text": "Player"
         }
        },
        "yaxis": {
         "anchor": "x",
         "domain": [
          0,
          1
         ],
         "title": {
          "text": "sum of PPG NBA 2023"
         }
        }
       }
      }
     },
     "metadata": {},
     "output_type": "display_data"
    }
   ],
   "source": [
    "px.histogram(young,\n",
    "              x = 'Player',\n",
    "              y = 'PPG',\n",
    "             labels = {'PPG': 'PPG NBA 2023'},\n",
    "              color = 'Age'\n",
    "            )"
   ]
  },
  {
   "cell_type": "markdown",
   "id": "f6b0877e-f53a-44bf-aa54-300930dd0ab4",
   "metadata": {
    "editable": true,
    "slideshow": {
     "slide_type": ""
    },
    "tags": []
   },
   "source": [
    "**I reduced the number of observations from 539 to 22, filtering out players based on age (looking at players 25 or younger) and then looking at which players averaged more than 15 points per game in the 2023 NBA season. ALl the data seems to be behaving correctly as there are no notable outliers in the new DataFrame focusing on young rising superstars. Everything works as expected, especially since this is a smaller dataset once we filtered out what we wanted, so there is less room for error.**"
   ]
  },
  {
   "cell_type": "code",
   "execution_count": null,
   "id": "7dba0957-1f63-485b-9fc8-ec1246d92cd0",
   "metadata": {
    "editable": true,
    "slideshow": {
     "slide_type": ""
    },
    "tags": []
   },
   "outputs": [],
   "source": []
  }
 ],
 "metadata": {
  "kernelspec": {
   "display_name": "Python [conda env:base] *",
   "language": "python",
   "name": "conda-base-py"
  },
  "language_info": {
   "codemirror_mode": {
    "name": "ipython",
    "version": 3
   },
   "file_extension": ".py",
   "mimetype": "text/x-python",
   "name": "python",
   "nbconvert_exporter": "python",
   "pygments_lexer": "ipython3",
   "version": "3.13.5"
  }
 },
 "nbformat": 4,
 "nbformat_minor": 5
}

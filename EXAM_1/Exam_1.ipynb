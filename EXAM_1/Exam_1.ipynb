{
 "cells": [
  {
   "cell_type": "code",
   "execution_count": 220,
   "id": "dfc83acd-7be7-401e-9980-2d264ef974e0",
   "metadata": {},
   "outputs": [],
   "source": [
    "import numpy as np\n",
    "import pandas as pd\n",
    "\n",
    "import matplotlib.pyplot as plt\n",
    "import plotly.express as px\n",
    "from plotly.subplots import make_subplots\n",
    "import plotly.io as pio\n",
    "pio.renderers.defaule = 'colab'\n",
    "\n",
    "from itables import show"
   ]
  },
  {
   "cell_type": "code",
   "execution_count": 221,
   "id": "49284fd7-87f8-4311-99dc-fee82e83c2d1",
   "metadata": {},
   "outputs": [],
   "source": [
    "file_location = 'https://joannabieri.com/introdatascience/data/lego_sample.csv'\n",
    "DF = pd.read_csv(file_location)"
   ]
  },
  {
   "cell_type": "code",
   "execution_count": 222,
   "id": "764c9fb4-6cd8-45bf-b7da-b1b2769235ad",
   "metadata": {},
   "outputs": [
    {
     "data": {
      "text/html": [
       "<div>\n",
       "<style scoped>\n",
       "    .dataframe tbody tr th:only-of-type {\n",
       "        vertical-align: middle;\n",
       "    }\n",
       "\n",
       "    .dataframe tbody tr th {\n",
       "        vertical-align: top;\n",
       "    }\n",
       "\n",
       "    .dataframe thead th {\n",
       "        text-align: right;\n",
       "    }\n",
       "</style>\n",
       "<table border=\"1\" class=\"dataframe\">\n",
       "  <thead>\n",
       "    <tr style=\"text-align: right;\">\n",
       "      <th></th>\n",
       "      <th>item_number</th>\n",
       "      <th>set_name</th>\n",
       "      <th>theme</th>\n",
       "      <th>pieces</th>\n",
       "      <th>price</th>\n",
       "      <th>amazon_price</th>\n",
       "      <th>year</th>\n",
       "      <th>ages</th>\n",
       "      <th>pages</th>\n",
       "      <th>minifigures</th>\n",
       "      <th>packaging</th>\n",
       "      <th>weight</th>\n",
       "      <th>unique_pieces</th>\n",
       "      <th>size</th>\n",
       "    </tr>\n",
       "  </thead>\n",
       "  <tbody>\n",
       "    <tr>\n",
       "      <th>0</th>\n",
       "      <td>10859</td>\n",
       "      <td>My First Ladybird</td>\n",
       "      <td>DUPLO®</td>\n",
       "      <td>6</td>\n",
       "      <td>4.99</td>\n",
       "      <td>16.00</td>\n",
       "      <td>2018</td>\n",
       "      <td>Ages_1½-3</td>\n",
       "      <td>9</td>\n",
       "      <td>NaN</td>\n",
       "      <td>Box</td>\n",
       "      <td>NaN</td>\n",
       "      <td>5</td>\n",
       "      <td>Large</td>\n",
       "    </tr>\n",
       "    <tr>\n",
       "      <th>1</th>\n",
       "      <td>10860</td>\n",
       "      <td>My First Race Car</td>\n",
       "      <td>DUPLO®</td>\n",
       "      <td>6</td>\n",
       "      <td>4.99</td>\n",
       "      <td>9.45</td>\n",
       "      <td>2018</td>\n",
       "      <td>Ages_1½-3</td>\n",
       "      <td>9</td>\n",
       "      <td>NaN</td>\n",
       "      <td>Box</td>\n",
       "      <td>0.13Kg (0.29 lb)</td>\n",
       "      <td>6</td>\n",
       "      <td>Large</td>\n",
       "    </tr>\n",
       "    <tr>\n",
       "      <th>2</th>\n",
       "      <td>10862</td>\n",
       "      <td>My First Celebration</td>\n",
       "      <td>DUPLO®</td>\n",
       "      <td>41</td>\n",
       "      <td>14.99</td>\n",
       "      <td>39.89</td>\n",
       "      <td>2018</td>\n",
       "      <td>Ages_1½-3</td>\n",
       "      <td>9</td>\n",
       "      <td>NaN</td>\n",
       "      <td>Box</td>\n",
       "      <td>NaN</td>\n",
       "      <td>18</td>\n",
       "      <td>Large</td>\n",
       "    </tr>\n",
       "    <tr>\n",
       "      <th>3</th>\n",
       "      <td>10864</td>\n",
       "      <td>Large Playground Brick Box</td>\n",
       "      <td>DUPLO®</td>\n",
       "      <td>71</td>\n",
       "      <td>49.99</td>\n",
       "      <td>56.69</td>\n",
       "      <td>2018</td>\n",
       "      <td>Ages_2-5</td>\n",
       "      <td>32</td>\n",
       "      <td>2.0</td>\n",
       "      <td>Plastic box</td>\n",
       "      <td>1.41Kg (3.11 lb)</td>\n",
       "      <td>49</td>\n",
       "      <td>Large</td>\n",
       "    </tr>\n",
       "    <tr>\n",
       "      <th>4</th>\n",
       "      <td>10867</td>\n",
       "      <td>Farmers' Market</td>\n",
       "      <td>DUPLO®</td>\n",
       "      <td>26</td>\n",
       "      <td>19.99</td>\n",
       "      <td>36.99</td>\n",
       "      <td>2018</td>\n",
       "      <td>Ages_2-5</td>\n",
       "      <td>9</td>\n",
       "      <td>3.0</td>\n",
       "      <td>Box</td>\n",
       "      <td>NaN</td>\n",
       "      <td>18</td>\n",
       "      <td>Large</td>\n",
       "    </tr>\n",
       "    <tr>\n",
       "      <th>...</th>\n",
       "      <td>...</td>\n",
       "      <td>...</td>\n",
       "      <td>...</td>\n",
       "      <td>...</td>\n",
       "      <td>...</td>\n",
       "      <td>...</td>\n",
       "      <td>...</td>\n",
       "      <td>...</td>\n",
       "      <td>...</td>\n",
       "      <td>...</td>\n",
       "      <td>...</td>\n",
       "      <td>...</td>\n",
       "      <td>...</td>\n",
       "      <td>...</td>\n",
       "    </tr>\n",
       "    <tr>\n",
       "      <th>70</th>\n",
       "      <td>60251</td>\n",
       "      <td>Monster Truck</td>\n",
       "      <td>City</td>\n",
       "      <td>55</td>\n",
       "      <td>9.99</td>\n",
       "      <td>8.99</td>\n",
       "      <td>2020</td>\n",
       "      <td>Ages_5+</td>\n",
       "      <td>32</td>\n",
       "      <td>1.0</td>\n",
       "      <td>Box</td>\n",
       "      <td>0.14Kg (0.31 lb)</td>\n",
       "      <td>34</td>\n",
       "      <td>Small</td>\n",
       "    </tr>\n",
       "    <tr>\n",
       "      <th>71</th>\n",
       "      <td>60252</td>\n",
       "      <td>Construction Bulldozer</td>\n",
       "      <td>City</td>\n",
       "      <td>126</td>\n",
       "      <td>19.99</td>\n",
       "      <td>15.99</td>\n",
       "      <td>2020</td>\n",
       "      <td>Ages_4+</td>\n",
       "      <td>84</td>\n",
       "      <td>2.0</td>\n",
       "      <td>Box</td>\n",
       "      <td>0.35Kg (0.78 lb)</td>\n",
       "      <td>81</td>\n",
       "      <td>Small</td>\n",
       "    </tr>\n",
       "    <tr>\n",
       "      <th>72</th>\n",
       "      <td>60258</td>\n",
       "      <td>Tuning Workshop</td>\n",
       "      <td>City</td>\n",
       "      <td>897</td>\n",
       "      <td>99.99</td>\n",
       "      <td>99.99</td>\n",
       "      <td>2020</td>\n",
       "      <td>Ages_6+</td>\n",
       "      <td>389</td>\n",
       "      <td>7.0</td>\n",
       "      <td>Box</td>\n",
       "      <td>1.63Kg (3.58 lb)</td>\n",
       "      <td>411</td>\n",
       "      <td>Small</td>\n",
       "    </tr>\n",
       "    <tr>\n",
       "      <th>73</th>\n",
       "      <td>60266</td>\n",
       "      <td>Ocean Exploration Ship</td>\n",
       "      <td>City</td>\n",
       "      <td>745</td>\n",
       "      <td>149.99</td>\n",
       "      <td>149.99</td>\n",
       "      <td>2020</td>\n",
       "      <td>Ages_7+</td>\n",
       "      <td>229</td>\n",
       "      <td>8.0</td>\n",
       "      <td>Box</td>\n",
       "      <td>2.28Kg (5.03 lb)</td>\n",
       "      <td>314</td>\n",
       "      <td>Small</td>\n",
       "    </tr>\n",
       "    <tr>\n",
       "      <th>74</th>\n",
       "      <td>60267</td>\n",
       "      <td>Safari Off-Roader</td>\n",
       "      <td>City</td>\n",
       "      <td>168</td>\n",
       "      <td>19.99</td>\n",
       "      <td>17.99</td>\n",
       "      <td>2020</td>\n",
       "      <td>Ages_5+</td>\n",
       "      <td>76</td>\n",
       "      <td>2.0</td>\n",
       "      <td>Box</td>\n",
       "      <td>0.34Kg (0.76 lb)</td>\n",
       "      <td>86</td>\n",
       "      <td>Small</td>\n",
       "    </tr>\n",
       "  </tbody>\n",
       "</table>\n",
       "<p>75 rows × 14 columns</p>\n",
       "</div>"
      ],
      "text/plain": [
       "    item_number                    set_name   theme  pieces   price  \\\n",
       "0         10859           My First Ladybird  DUPLO®       6    4.99   \n",
       "1         10860           My First Race Car  DUPLO®       6    4.99   \n",
       "2         10862        My First Celebration  DUPLO®      41   14.99   \n",
       "3         10864  Large Playground Brick Box  DUPLO®      71   49.99   \n",
       "4         10867             Farmers' Market  DUPLO®      26   19.99   \n",
       "..          ...                         ...     ...     ...     ...   \n",
       "70        60251               Monster Truck    City      55    9.99   \n",
       "71        60252      Construction Bulldozer    City     126   19.99   \n",
       "72        60258             Tuning Workshop    City     897   99.99   \n",
       "73        60266      Ocean Exploration Ship    City     745  149.99   \n",
       "74        60267           Safari Off-Roader    City     168   19.99   \n",
       "\n",
       "    amazon_price  year       ages  pages  minifigures    packaging  \\\n",
       "0          16.00  2018  Ages_1½-3      9          NaN          Box   \n",
       "1           9.45  2018  Ages_1½-3      9          NaN          Box   \n",
       "2          39.89  2018  Ages_1½-3      9          NaN          Box   \n",
       "3          56.69  2018   Ages_2-5     32          2.0  Plastic box   \n",
       "4          36.99  2018   Ages_2-5      9          3.0          Box   \n",
       "..           ...   ...        ...    ...          ...          ...   \n",
       "70          8.99  2020    Ages_5+     32          1.0          Box   \n",
       "71         15.99  2020    Ages_4+     84          2.0          Box   \n",
       "72         99.99  2020    Ages_6+    389          7.0          Box   \n",
       "73        149.99  2020    Ages_7+    229          8.0          Box   \n",
       "74         17.99  2020    Ages_5+     76          2.0          Box   \n",
       "\n",
       "              weight  unique_pieces   size  \n",
       "0                NaN              5  Large  \n",
       "1   0.13Kg (0.29 lb)              6  Large  \n",
       "2                NaN             18  Large  \n",
       "3   1.41Kg (3.11 lb)             49  Large  \n",
       "4                NaN             18  Large  \n",
       "..               ...            ...    ...  \n",
       "70  0.14Kg (0.31 lb)             34  Small  \n",
       "71  0.35Kg (0.78 lb)             81  Small  \n",
       "72  1.63Kg (3.58 lb)            411  Small  \n",
       "73  2.28Kg (5.03 lb)            314  Small  \n",
       "74  0.34Kg (0.76 lb)             86  Small  \n",
       "\n",
       "[75 rows x 14 columns]"
      ]
     },
     "execution_count": 222,
     "metadata": {},
     "output_type": "execute_result"
    }
   ],
   "source": [
    "DF"
   ]
  },
  {
   "cell_type": "code",
   "execution_count": 223,
   "id": "01f2ea9c-bd43-4c2b-9719-f4a7d4c550c9",
   "metadata": {},
   "outputs": [
    {
     "name": "stdout",
     "output_type": "stream",
     "text": [
      "There are 75 observations in the dataset.\n",
      "There are 14 variables in the dataset.\n"
     ]
    }
   ],
   "source": [
    "#Question 1: How many observations and variables are in the dataset?\n",
    "obv = DF.shape[0]\n",
    "var = DF.shape[1]\n",
    "\n",
    "print(f\"There are {obv} observations in the dataset.\")\n",
    "print(f\"There are {var} variables in the dataset.\")"
   ]
  },
  {
   "cell_type": "code",
   "execution_count": 224,
   "id": "863aae85-aca4-4b75-828a-e2deefb66077",
   "metadata": {},
   "outputs": [
    {
     "data": {
      "text/html": [
       "<div>\n",
       "<style scoped>\n",
       "    .dataframe tbody tr th:only-of-type {\n",
       "        vertical-align: middle;\n",
       "    }\n",
       "\n",
       "    .dataframe tbody tr th {\n",
       "        vertical-align: top;\n",
       "    }\n",
       "\n",
       "    .dataframe thead th {\n",
       "        text-align: right;\n",
       "    }\n",
       "</style>\n",
       "<table border=\"1\" class=\"dataframe\">\n",
       "  <thead>\n",
       "    <tr style=\"text-align: right;\">\n",
       "      <th></th>\n",
       "      <th>Variable_Names</th>\n",
       "      <th>Data_Type</th>\n",
       "    </tr>\n",
       "  </thead>\n",
       "  <tbody>\n",
       "    <tr>\n",
       "      <th>1</th>\n",
       "      <td>item_number</td>\n",
       "      <td>Numerical</td>\n",
       "    </tr>\n",
       "    <tr>\n",
       "      <th>2</th>\n",
       "      <td>set_name</td>\n",
       "      <td>Categorical</td>\n",
       "    </tr>\n",
       "    <tr>\n",
       "      <th>3</th>\n",
       "      <td>theme</td>\n",
       "      <td>Categorical</td>\n",
       "    </tr>\n",
       "    <tr>\n",
       "      <th>4</th>\n",
       "      <td>pieces</td>\n",
       "      <td>Numerical</td>\n",
       "    </tr>\n",
       "    <tr>\n",
       "      <th>5</th>\n",
       "      <td>price</td>\n",
       "      <td>Numerical</td>\n",
       "    </tr>\n",
       "    <tr>\n",
       "      <th>6</th>\n",
       "      <td>amazon_price</td>\n",
       "      <td>Numerical</td>\n",
       "    </tr>\n",
       "    <tr>\n",
       "      <th>7</th>\n",
       "      <td>year</td>\n",
       "      <td>Categorical</td>\n",
       "    </tr>\n",
       "    <tr>\n",
       "      <th>8</th>\n",
       "      <td>ages</td>\n",
       "      <td>Categorical</td>\n",
       "    </tr>\n",
       "    <tr>\n",
       "      <th>9</th>\n",
       "      <td>pages</td>\n",
       "      <td>Numerical</td>\n",
       "    </tr>\n",
       "    <tr>\n",
       "      <th>10</th>\n",
       "      <td>minifigures</td>\n",
       "      <td>Numerical</td>\n",
       "    </tr>\n",
       "    <tr>\n",
       "      <th>11</th>\n",
       "      <td>packaging</td>\n",
       "      <td>Categorical</td>\n",
       "    </tr>\n",
       "    <tr>\n",
       "      <th>12</th>\n",
       "      <td>weight</td>\n",
       "      <td>Numerical</td>\n",
       "    </tr>\n",
       "    <tr>\n",
       "      <th>13</th>\n",
       "      <td>unique_pieces</td>\n",
       "      <td>Numerical</td>\n",
       "    </tr>\n",
       "    <tr>\n",
       "      <th>14</th>\n",
       "      <td>size</td>\n",
       "      <td>Categorical</td>\n",
       "    </tr>\n",
       "  </tbody>\n",
       "</table>\n",
       "</div>"
      ],
      "text/plain": [
       "   Variable_Names    Data_Type\n",
       "1     item_number    Numerical\n",
       "2        set_name  Categorical\n",
       "3           theme  Categorical\n",
       "4          pieces    Numerical\n",
       "5           price    Numerical\n",
       "6    amazon_price    Numerical\n",
       "7            year  Categorical\n",
       "8            ages  Categorical\n",
       "9           pages    Numerical\n",
       "10    minifigures    Numerical\n",
       "11      packaging  Categorical\n",
       "12         weight    Numerical\n",
       "13  unique_pieces    Numerical\n",
       "14           size  Categorical"
      ]
     },
     "execution_count": 224,
     "metadata": {},
     "output_type": "execute_result"
    }
   ],
   "source": [
    "#Question 2: What are the names of the variables? \n",
    "var_names = DF.columns\n",
    "\n",
    "#Classic print statement\n",
    "#print(var_names)\n",
    "\n",
    "#Shows it in a pretty table, resets index to start at 1 \n",
    "var_name_DF = pd.DataFrame(var_names, columns = ['Variable_Names'])\n",
    "var_name_DF.reset_index(drop=True, inplace=True)\n",
    "var_name_DF.index +=1\n",
    "\n",
    "var_name_DF['Data_Type'] = ['Numerical', 'Categorical','Categorical','Numerical','Numerical','Numerical','Categorical','Categorical','Numerical','Numerical','Categorical','Numerical','Numerical','Categorical']\n",
    "var_name_DF"
   ]
  },
  {
   "cell_type": "markdown",
   "id": "3f088115-0749-43ee-87a0-2450328057dc",
   "metadata": {},
   "source": [
    "**Item Number (Numerical): This is a unique integer assigned to each set for identification purposes.**\n",
    "\n",
    "**Set Name (Categorical): This is the unique, recognizable name assigned to each LEGO set.**\n",
    "\n",
    "**Theme (Categorical): Each set is classified under a single, predefined LEGO theme.**\n",
    "\n",
    "**Pieces (Numerical): This represents the total count of individual pieces included in a set.**\n",
    "\n",
    "**Price (Numerical): This is the manufacturer's suggested retail price for the set.**\n",
    "\n",
    "**Amazon Price (Numerical): This is the selling price of the set listed on Amazon.**\n",
    "\n",
    "**Year (Categorical): This indicates the release year, grouping sets by when they were introduced.**\n",
    "\n",
    "**Ages (Categorical): This groups sets into categories based on the recommended age range (e.g., \"6-12\", \"18+\").**\n",
    "\n",
    "**Pages (Numerical): This is the total page count of the instruction manual.**\n",
    "\n",
    "**Minifigures (Numerical): This represents the total count of minifigures included in the set.**\n",
    "\n",
    "**Packing (Categorical): This describes the type of packaging used for the set, such as a box or bag.**\n",
    "\n",
    "**Weight (Numerical): This is the physical weight of the complete, packaged set.**\n",
    "\n",
    "**Unique Pieces (Numerical): This is the count of distinct element types within the set.**\n",
    "\n",
    "**Size (Categorical): This groups sets into predefined size categories, such as \"Small\" or \"Large.\"**"
   ]
  },
  {
   "cell_type": "code",
   "execution_count": 225,
   "id": "81d64f22-82b7-482a-956f-c77ab1993b46",
   "metadata": {},
   "outputs": [
    {
     "data": {
      "text/html": [
       "<div>\n",
       "<style scoped>\n",
       "    .dataframe tbody tr th:only-of-type {\n",
       "        vertical-align: middle;\n",
       "    }\n",
       "\n",
       "    .dataframe tbody tr th {\n",
       "        vertical-align: top;\n",
       "    }\n",
       "\n",
       "    .dataframe thead th {\n",
       "        text-align: right;\n",
       "    }\n",
       "</style>\n",
       "<table border=\"1\" class=\"dataframe\">\n",
       "  <thead>\n",
       "    <tr style=\"text-align: right;\">\n",
       "      <th></th>\n",
       "      <th>item_number</th>\n",
       "      <th>pieces</th>\n",
       "      <th>price</th>\n",
       "      <th>amazon_price</th>\n",
       "      <th>year</th>\n",
       "      <th>pages</th>\n",
       "      <th>minifigures</th>\n",
       "      <th>unique_pieces</th>\n",
       "    </tr>\n",
       "  </thead>\n",
       "  <tbody>\n",
       "    <tr>\n",
       "      <th>count</th>\n",
       "      <td>75.000000</td>\n",
       "      <td>75.000000</td>\n",
       "      <td>75.000000</td>\n",
       "      <td>75.000000</td>\n",
       "      <td>75.000000</td>\n",
       "      <td>75.000000</td>\n",
       "      <td>65.000000</td>\n",
       "      <td>75.000000</td>\n",
       "    </tr>\n",
       "    <tr>\n",
       "      <th>mean</th>\n",
       "      <td>37498.493333</td>\n",
       "      <td>196.453333</td>\n",
       "      <td>32.136667</td>\n",
       "      <td>39.393733</td>\n",
       "      <td>2019.053333</td>\n",
       "      <td>73.213333</td>\n",
       "      <td>2.615385</td>\n",
       "      <td>96.666667</td>\n",
       "    </tr>\n",
       "    <tr>\n",
       "      <th>std</th>\n",
       "      <td>20461.267542</td>\n",
       "      <td>213.914121</td>\n",
       "      <td>27.747263</td>\n",
       "      <td>33.301259</td>\n",
       "      <td>0.820239</td>\n",
       "      <td>76.949842</td>\n",
       "      <td>2.133749</td>\n",
       "      <td>89.471018</td>\n",
       "    </tr>\n",
       "    <tr>\n",
       "      <th>min</th>\n",
       "      <td>10859.000000</td>\n",
       "      <td>6.000000</td>\n",
       "      <td>4.990000</td>\n",
       "      <td>6.290000</td>\n",
       "      <td>2018.000000</td>\n",
       "      <td>1.000000</td>\n",
       "      <td>1.000000</td>\n",
       "      <td>5.000000</td>\n",
       "    </tr>\n",
       "    <tr>\n",
       "      <th>25%</th>\n",
       "      <td>10916.500000</td>\n",
       "      <td>37.000000</td>\n",
       "      <td>9.990000</td>\n",
       "      <td>17.980000</td>\n",
       "      <td>2018.000000</td>\n",
       "      <td>14.000000</td>\n",
       "      <td>1.000000</td>\n",
       "      <td>30.000000</td>\n",
       "    </tr>\n",
       "    <tr>\n",
       "      <th>50%</th>\n",
       "      <td>41378.000000</td>\n",
       "      <td>93.000000</td>\n",
       "      <td>19.990000</td>\n",
       "      <td>29.990000</td>\n",
       "      <td>2019.000000</td>\n",
       "      <td>44.000000</td>\n",
       "      <td>2.000000</td>\n",
       "      <td>61.000000</td>\n",
       "    </tr>\n",
       "    <tr>\n",
       "      <th>75%</th>\n",
       "      <td>60193.000000</td>\n",
       "      <td>323.500000</td>\n",
       "      <td>39.990000</td>\n",
       "      <td>53.935000</td>\n",
       "      <td>2020.000000</td>\n",
       "      <td>116.000000</td>\n",
       "      <td>3.000000</td>\n",
       "      <td>151.000000</td>\n",
       "    </tr>\n",
       "    <tr>\n",
       "      <th>max</th>\n",
       "      <td>60267.000000</td>\n",
       "      <td>897.000000</td>\n",
       "      <td>149.990000</td>\n",
       "      <td>184.990000</td>\n",
       "      <td>2020.000000</td>\n",
       "      <td>389.000000</td>\n",
       "      <td>15.000000</td>\n",
       "      <td>411.000000</td>\n",
       "    </tr>\n",
       "  </tbody>\n",
       "</table>\n",
       "</div>"
      ],
      "text/plain": [
       "        item_number      pieces       price  amazon_price         year  \\\n",
       "count     75.000000   75.000000   75.000000     75.000000    75.000000   \n",
       "mean   37498.493333  196.453333   32.136667     39.393733  2019.053333   \n",
       "std    20461.267542  213.914121   27.747263     33.301259     0.820239   \n",
       "min    10859.000000    6.000000    4.990000      6.290000  2018.000000   \n",
       "25%    10916.500000   37.000000    9.990000     17.980000  2018.000000   \n",
       "50%    41378.000000   93.000000   19.990000     29.990000  2019.000000   \n",
       "75%    60193.000000  323.500000   39.990000     53.935000  2020.000000   \n",
       "max    60267.000000  897.000000  149.990000    184.990000  2020.000000   \n",
       "\n",
       "            pages  minifigures  unique_pieces  \n",
       "count   75.000000    65.000000      75.000000  \n",
       "mean    73.213333     2.615385      96.666667  \n",
       "std     76.949842     2.133749      89.471018  \n",
       "min      1.000000     1.000000       5.000000  \n",
       "25%     14.000000     1.000000      30.000000  \n",
       "50%     44.000000     2.000000      61.000000  \n",
       "75%    116.000000     3.000000     151.000000  \n",
       "max    389.000000    15.000000     411.000000  "
      ]
     },
     "execution_count": 225,
     "metadata": {},
     "output_type": "execute_result"
    }
   ],
   "source": [
    "DF.describe()"
   ]
  },
  {
   "cell_type": "markdown",
   "id": "d465c1ac-b5db-4669-9d1a-5ac0b23be906",
   "metadata": {},
   "source": [
    "**The cheapest lego set based off of regular price was 4.99 while the cheapest Amazon price was 6.29, this is a difference of 1.3.**\n",
    "\n",
    "**The smallest lego set only had 6 pieces total.**\n",
    "\n",
    "**The lego set with the most minifigures had a minifigure count of 15.**\n",
    "\n",
    "**The lego set that came with an instruction for the most pages, had an instruction manual with 389 pages**"
   ]
  },
  {
   "cell_type": "code",
   "execution_count": 226,
   "id": "8f247937-f3a9-4713-af5c-3cb2ad8d0233",
   "metadata": {},
   "outputs": [
    {
     "data": {
      "text/html": [
       "<div>\n",
       "<style scoped>\n",
       "    .dataframe tbody tr th:only-of-type {\n",
       "        vertical-align: middle;\n",
       "    }\n",
       "\n",
       "    .dataframe tbody tr th {\n",
       "        vertical-align: top;\n",
       "    }\n",
       "\n",
       "    .dataframe thead th {\n",
       "        text-align: right;\n",
       "    }\n",
       "</style>\n",
       "<table border=\"1\" class=\"dataframe\">\n",
       "  <thead>\n",
       "    <tr style=\"text-align: right;\">\n",
       "      <th></th>\n",
       "      <th>price</th>\n",
       "      <th>year</th>\n",
       "      <th>pieces</th>\n",
       "      <th>amazon_price</th>\n",
       "      <th>item_number</th>\n",
       "    </tr>\n",
       "  </thead>\n",
       "  <tbody>\n",
       "    <tr>\n",
       "      <th>0</th>\n",
       "      <td>4.99</td>\n",
       "      <td>2018</td>\n",
       "      <td>6</td>\n",
       "      <td>16.00</td>\n",
       "      <td>10859</td>\n",
       "    </tr>\n",
       "    <tr>\n",
       "      <th>1</th>\n",
       "      <td>4.99</td>\n",
       "      <td>2018</td>\n",
       "      <td>6</td>\n",
       "      <td>9.45</td>\n",
       "      <td>10860</td>\n",
       "    </tr>\n",
       "    <tr>\n",
       "      <th>2</th>\n",
       "      <td>14.99</td>\n",
       "      <td>2018</td>\n",
       "      <td>41</td>\n",
       "      <td>39.89</td>\n",
       "      <td>10862</td>\n",
       "    </tr>\n",
       "    <tr>\n",
       "      <th>3</th>\n",
       "      <td>49.99</td>\n",
       "      <td>2018</td>\n",
       "      <td>71</td>\n",
       "      <td>56.69</td>\n",
       "      <td>10864</td>\n",
       "    </tr>\n",
       "    <tr>\n",
       "      <th>4</th>\n",
       "      <td>19.99</td>\n",
       "      <td>2018</td>\n",
       "      <td>26</td>\n",
       "      <td>36.99</td>\n",
       "      <td>10867</td>\n",
       "    </tr>\n",
       "    <tr>\n",
       "      <th>...</th>\n",
       "      <td>...</td>\n",
       "      <td>...</td>\n",
       "      <td>...</td>\n",
       "      <td>...</td>\n",
       "      <td>...</td>\n",
       "    </tr>\n",
       "    <tr>\n",
       "      <th>70</th>\n",
       "      <td>9.99</td>\n",
       "      <td>2020</td>\n",
       "      <td>55</td>\n",
       "      <td>8.99</td>\n",
       "      <td>60251</td>\n",
       "    </tr>\n",
       "    <tr>\n",
       "      <th>71</th>\n",
       "      <td>19.99</td>\n",
       "      <td>2020</td>\n",
       "      <td>126</td>\n",
       "      <td>15.99</td>\n",
       "      <td>60252</td>\n",
       "    </tr>\n",
       "    <tr>\n",
       "      <th>72</th>\n",
       "      <td>99.99</td>\n",
       "      <td>2020</td>\n",
       "      <td>897</td>\n",
       "      <td>99.99</td>\n",
       "      <td>60258</td>\n",
       "    </tr>\n",
       "    <tr>\n",
       "      <th>73</th>\n",
       "      <td>149.99</td>\n",
       "      <td>2020</td>\n",
       "      <td>745</td>\n",
       "      <td>149.99</td>\n",
       "      <td>60266</td>\n",
       "    </tr>\n",
       "    <tr>\n",
       "      <th>74</th>\n",
       "      <td>19.99</td>\n",
       "      <td>2020</td>\n",
       "      <td>168</td>\n",
       "      <td>17.99</td>\n",
       "      <td>60267</td>\n",
       "    </tr>\n",
       "  </tbody>\n",
       "</table>\n",
       "<p>75 rows × 5 columns</p>\n",
       "</div>"
      ],
      "text/plain": [
       "     price  year  pieces  amazon_price  item_number\n",
       "0     4.99  2018       6         16.00        10859\n",
       "1     4.99  2018       6          9.45        10860\n",
       "2    14.99  2018      41         39.89        10862\n",
       "3    49.99  2018      71         56.69        10864\n",
       "4    19.99  2018      26         36.99        10867\n",
       "..     ...   ...     ...           ...          ...\n",
       "70    9.99  2020      55          8.99        60251\n",
       "71   19.99  2020     126         15.99        60252\n",
       "72   99.99  2020     897         99.99        60258\n",
       "73  149.99  2020     745        149.99        60266\n",
       "74   19.99  2020     168         17.99        60267\n",
       "\n",
       "[75 rows x 5 columns]"
      ]
     },
     "execution_count": 226,
     "metadata": {},
     "output_type": "execute_result"
    }
   ],
   "source": [
    "#Gonna look at how pieces per price changed over the year, gonna look at pieces, price, amazon price, year \n",
    "lego_mask = ['price', 'year', 'pieces', 'amazon_price', 'item_number']\n",
    "DF_mask = DF[lego_mask]\n",
    "DF_mask.groupby('year')\n",
    "DF_mask"
   ]
  },
  {
   "cell_type": "code",
   "execution_count": 227,
   "id": "62857cea-6ca3-4a4a-a875-67c61623da39",
   "metadata": {},
   "outputs": [
    {
     "data": {
      "text/plain": [
       "item_number\n",
       "10859    1\n",
       "60202    1\n",
       "60183    1\n",
       "60182    1\n",
       "60172    1\n",
       "        ..\n",
       "10929    1\n",
       "10928    1\n",
       "10927    1\n",
       "10926    1\n",
       "60267    1\n",
       "Name: count, Length: 75, dtype: int64"
      ]
     },
     "execution_count": 227,
     "metadata": {},
     "output_type": "execute_result"
    }
   ],
   "source": [
    "#Individual value counts (freq) \n",
    "DF_mask['item_number'].value_counts()"
   ]
  },
  {
   "cell_type": "code",
   "execution_count": 228,
   "id": "109ecceb-82d1-4d11-bf4b-4edc7cdc9ddd",
   "metadata": {},
   "outputs": [
    {
     "data": {
      "text/plain": [
       "price\n",
       "19.99     13\n",
       "9.99      13\n",
       "29.99     10\n",
       "39.99      8\n",
       "59.99      4\n",
       "49.99      4\n",
       "14.99      4\n",
       "7.99       4\n",
       "69.99      3\n",
       "99.99      2\n",
       "4.99       2\n",
       "6.99       2\n",
       "24.99      2\n",
       "34.99      1\n",
       "119.99     1\n",
       "79.99      1\n",
       "149.99     1\n",
       "Name: count, dtype: int64"
      ]
     },
     "execution_count": 228,
     "metadata": {},
     "output_type": "execute_result"
    }
   ],
   "source": [
    "DF_mask['price'].value_counts()"
   ]
  },
  {
   "cell_type": "code",
   "execution_count": 229,
   "id": "9cfe63f5-3db0-4d43-b5d7-cad7fa764cb4",
   "metadata": {},
   "outputs": [
    {
     "data": {
      "text/plain": [
       "amazon_price\n",
       "8.99      5\n",
       "17.99     4\n",
       "21.99     3\n",
       "14.99     3\n",
       "16.00     3\n",
       "99.99     2\n",
       "59.99     2\n",
       "19.99     1\n",
       "39.95     1\n",
       "79.95     1\n",
       "69.95     1\n",
       "15.32     1\n",
       "49.95     1\n",
       "30.89     1\n",
       "16.49     1\n",
       "64.75     1\n",
       "65.99     1\n",
       "17.97     1\n",
       "29.95     1\n",
       "69.99     1\n",
       "48.53     1\n",
       "31.46     1\n",
       "23.83     1\n",
       "56.00     1\n",
       "53.99     1\n",
       "54.80     1\n",
       "31.99     1\n",
       "35.98     1\n",
       "52.74     1\n",
       "23.98     1\n",
       "15.99     1\n",
       "18.93     1\n",
       "31.27     1\n",
       "7.99      1\n",
       "26.99     1\n",
       "39.89     1\n",
       "56.69     1\n",
       "36.99     1\n",
       "9.99      1\n",
       "128.95    1\n",
       "74.50     1\n",
       "98.99     1\n",
       "19.55     1\n",
       "21.11     1\n",
       "23.27     1\n",
       "6.29      1\n",
       "29.99     1\n",
       "31.67     1\n",
       "40.40     1\n",
       "45.95     1\n",
       "53.88     1\n",
       "184.99    1\n",
       "34.00     1\n",
       "18.64     1\n",
       "18.95     1\n",
       "35.99     1\n",
       "62.99     1\n",
       "40.00     1\n",
       "9.45      1\n",
       "149.99    1\n",
       "Name: count, dtype: int64"
      ]
     },
     "execution_count": 229,
     "metadata": {},
     "output_type": "execute_result"
    }
   ],
   "source": [
    "DF_mask['amazon_price'].value_counts()"
   ]
  },
  {
   "cell_type": "code",
   "execution_count": 230,
   "id": "a8bca9dd-8cde-41b4-89a2-d05c50b42592",
   "metadata": {},
   "outputs": [
    {
     "data": {
      "text/plain": [
       "pieces\n",
       "37     3\n",
       "6      2\n",
       "363    2\n",
       "83     2\n",
       "88     2\n",
       "      ..\n",
       "85     1\n",
       "134    1\n",
       "337    1\n",
       "715    1\n",
       "168    1\n",
       "Name: count, Length: 66, dtype: int64"
      ]
     },
     "execution_count": 230,
     "metadata": {},
     "output_type": "execute_result"
    }
   ],
   "source": [
    "DF_mask['pieces'].value_counts()"
   ]
  },
  {
   "cell_type": "code",
   "execution_count": 231,
   "id": "24e5cbf6-8c48-4643-a2b6-0acf1e71ad40",
   "metadata": {},
   "outputs": [
    {
     "data": {
      "text/plain": [
       "year\n",
       "2020    27\n",
       "2019    25\n",
       "2018    23\n",
       "Name: count, dtype: int64"
      ]
     },
     "execution_count": 231,
     "metadata": {},
     "output_type": "execute_result"
    }
   ],
   "source": [
    "DF_mask['year'].value_counts()"
   ]
  },
  {
   "cell_type": "code",
   "execution_count": 232,
   "id": "994234aa-9d84-483f-94a1-d31dad5daa56",
   "metadata": {},
   "outputs": [],
   "source": [
    "#1-2 sentences on what the value count showed me for each of the columns "
   ]
  },
  {
   "cell_type": "code",
   "execution_count": 233,
   "id": "bbd88b43-63c1-4ca1-a41a-e93aaf79cd55",
   "metadata": {},
   "outputs": [
    {
     "data": {
      "application/vnd.plotly.v1+json": {
       "config": {
        "plotlyServerURL": "https://plot.ly"
       },
       "data": [
        {
         "customdata": [
          [
           "My First Ladybird"
          ],
          [
           "My First Race Car"
          ],
          [
           "My First Celebration"
          ],
          [
           "Large Playground Brick Box"
          ],
          [
           "Farmers' Market"
          ],
          [
           "Farm Animals"
          ],
          [
           "Train Bridge and Tracks"
          ],
          [
           "Cargo Train"
          ],
          [
           "Spider-Man & Hulk Adventures"
          ],
          [
           "Rapunzel's Tower"
          ],
          [
           "Train Tracks"
          ],
          [
           "My First Fun Puzzle"
          ],
          [
           "My First Car Creations"
          ],
          [
           "Fire Truck"
          ],
          [
           "Baby Animals"
          ],
          [
           "Tropical Island"
          ],
          [
           "Plane"
          ],
          [
           "Submarine Adventure"
          ],
          [
           "Alphabet Truck"
          ],
          [
           "Tow Truck"
          ],
          [
           "Super Heroes Lab"
          ],
          [
           "Bedroom"
          ],
          [
           "Pizza Stand"
          ],
          [
           "Bakery"
          ],
          [
           "Modular Playhouse"
          ]
         ],
         "hovertemplate": "theme=DUPLO®<br>price=%{x}<br>pieces=%{y}<br>set_name=%{customdata[0]}<extra></extra>",
         "legendgroup": "DUPLO®",
         "marker": {
          "color": "#636efa",
          "symbol": "circle"
         },
         "mode": "markers",
         "name": "DUPLO®",
         "orientation": "v",
         "showlegend": true,
         "type": "scatter",
         "x": {
          "bdata": "9ihcj8L1E0D2KFyPwvUTQHsUrkfh+i1AH4XrUbj+SEA9CtejcP0zQHsUrkfh+iNAPQrXo3D9OECPwvUoXP9dQD0K16Nw/T1APQrXo3D9PUA9CtejcP0zQD0K16Nw/TNAPQrXo3D9M0A9CtejcP0zQHsUrkfh+iNAH4XrUbj+TUB7FK5H4fojQD0K16Nw/TNAPQrXo3D9OED2KFyPwvUbQD0K16Nw/T1AexSuR+H6LUB7FK5H4fojQB+F61G4fkFAH4XrUbj+TUA=",
          "dtype": "f8"
         },
         "xaxis": "x",
         "y": {
          "bdata": "BgAGACkARwAaABAAGgBpACYAJQAXAA8AIgAVAAkASQAMABgAJAAHAB4AEAASAC4AgQA=",
          "dtype": "i2"
         },
         "yaxis": "y"
        },
        {
         "customdata": [
          [
           "Stephanie's Soccer Practice"
          ],
          [
           "Olivia's Mission Vehicle"
          ],
          [
           "Mia's Tree House"
          ],
          [
           "Friendship House"
          ],
          [
           "Friends Advent Calendar"
          ],
          [
           "Stephanie's Heart Box"
          ],
          [
           "Mia's Heart Box"
          ],
          [
           "Mia's Forest Adventures"
          ],
          [
           "Stephanie's Obstacle Course"
          ],
          [
           "Mia's House"
          ],
          [
           "Andrea's Pool Party"
          ],
          [
           "Turtles Rescue Mission"
          ],
          [
           "Dolphins Rescue Mission"
          ],
          [
           "Andrea's Summer Heart Box"
          ],
          [
           "Olivia's Summer Heart Box"
          ],
          [
           "Heartlake City Hospital"
          ],
          [
           "Puppy Playground"
          ],
          [
           "Andrea's Play Cube - Singer"
          ],
          [
           "Mia's Play Cube - Veterinarian"
          ],
          [
           "Mia's Play Cube - Cinema"
          ],
          [
           "Baby Elephant Jungle Rescue"
          ],
          [
           "Tiger Hot Air Balloon Jungle Rescue"
          ],
          [
           "Jungle Rescue Base"
          ],
          [
           "Emma's Fashion Shop"
          ],
          [
           "Beach House"
          ]
         ],
         "hovertemplate": "theme=Friends<br>price=%{x}<br>pieces=%{y}<br>set_name=%{customdata[0]}<extra></extra>",
         "legendgroup": "Friends",
         "marker": {
          "color": "#EF553B",
          "symbol": "circle"
         },
         "mode": "markers",
         "name": "Friends",
         "orientation": "v",
         "showlegend": true,
         "type": "scatter",
         "x": {
          "bdata": "exSuR+H6LUA9CtejcP0zQD0K16Nw/T1Aj8L1KFx/UUA9CtejcP09QPYoXI/C9R9A9ihcj8L1H0B7FK5H4fotQB+F61G4/kNAj8L1KFx/UUAfhetRuP5IQD0K16Nw/TNAH4XrUbj+Q0D2KFyPwvUfQPYoXI/C9R9AH4XrUbj+SEB7FK5H4fojQHsUrkfh+iNAexSuR+H6I0B7FK5H4fojQD0K16Nw/TNAH4XrUbj+Q0CPwvUoXP9TQD0K16Nw/T1AH4XrUbj+SEA=",
          "dtype": "f8"
         },
         "xaxis": "x",
         "y": {
          "bdata": "dwDfAF8B0gL0AVUAUwCGAFEBywLUAeEAawFTAF0AewE5ADEAKAAlAMsALgGIAlcBvAE=",
          "dtype": "i2"
         },
         "yaxis": "y"
        },
        {
         "customdata": [
          [
           "Off-Road Chase"
          ],
          [
           "Mountain Fugitives"
          ],
          [
           "Dirt Road Pursuit"
          ],
          [
           "Pickup & Caravan"
          ],
          [
           "Heavy Cargo Transport"
          ],
          [
           "Mining Team"
          ],
          [
           "People Pack - Outdoor Adventures"
          ],
          [
           "Parachute Arrest"
          ],
          [
           "Dock Side Fire"
          ],
          [
           "Fire Station"
          ],
          [
           "Fire Plane"
          ],
          [
           "Construction Loader"
          ],
          [
           "Diving Yacht"
          ],
          [
           "Harvester Transport"
          ],
          [
           "Mars Research Shuttle"
          ],
          [
           "Police Helicopter Chase"
          ],
          [
           "Police Monster Truck Heist"
          ],
          [
           "Police Station"
          ],
          [
           "Fire Helicopter Response"
          ],
          [
           "Street Sweeper"
          ],
          [
           "Monster Truck"
          ],
          [
           "Construction Bulldozer"
          ],
          [
           "Tuning Workshop"
          ],
          [
           "Ocean Exploration Ship"
          ],
          [
           "Safari Off-Roader"
          ]
         ],
         "hovertemplate": "theme=City<br>price=%{x}<br>pieces=%{y}<br>set_name=%{customdata[0]}<extra></extra>",
         "legendgroup": "City",
         "marker": {
          "color": "#00cc96",
          "symbol": "circle"
         },
         "mode": "markers",
         "name": "City",
         "orientation": "v",
         "showlegend": true,
         "type": "scatter",
         "x": {
          "bdata": "9ihcj8L1G0B7FK5H4fojQB+F61G4/kNAPQrXo3D9PUA9CtejcP09QHsUrkfh+iNAH4XrUbj+Q0AfhetRuP5DQD0K16Nw/TNAj8L1KFx/UUAfhetRuP5NQHsUrkfh+iNAPQrXo3D9M0A9CtejcP09QB+F61G4/kNAH4XrUbj+Q0AfhetRuP5NQI/C9Shc/1hAPQrXo3D9PUB7FK5H4fojQHsUrkfh+iNAPQrXo3D9M0CPwvUoXP9YQEjhehSuv2JAPQrXo3D9M0A=",
          "dtype": "f8"
         },
         "xaxis": "x",
         "y": {
          "bdata": "JQBYACkBWAE2AVIApADaAGEA/QFrAVgAlABmAREB1ABqAecCXQBZADcAfgCBA+kCqAA=",
          "dtype": "i2"
         },
         "yaxis": "y"
        }
       ],
       "layout": {
        "legend": {
         "title": {
          "text": "theme"
         },
         "tracegroupgap": 0
        },
        "margin": {
         "t": 60
        },
        "template": {
         "data": {
          "bar": [
           {
            "error_x": {
             "color": "#2a3f5f"
            },
            "error_y": {
             "color": "#2a3f5f"
            },
            "marker": {
             "line": {
              "color": "#E5ECF6",
              "width": 0.5
             },
             "pattern": {
              "fillmode": "overlay",
              "size": 10,
              "solidity": 0.2
             }
            },
            "type": "bar"
           }
          ],
          "barpolar": [
           {
            "marker": {
             "line": {
              "color": "#E5ECF6",
              "width": 0.5
             },
             "pattern": {
              "fillmode": "overlay",
              "size": 10,
              "solidity": 0.2
             }
            },
            "type": "barpolar"
           }
          ],
          "carpet": [
           {
            "aaxis": {
             "endlinecolor": "#2a3f5f",
             "gridcolor": "white",
             "linecolor": "white",
             "minorgridcolor": "white",
             "startlinecolor": "#2a3f5f"
            },
            "baxis": {
             "endlinecolor": "#2a3f5f",
             "gridcolor": "white",
             "linecolor": "white",
             "minorgridcolor": "white",
             "startlinecolor": "#2a3f5f"
            },
            "type": "carpet"
           }
          ],
          "choropleth": [
           {
            "colorbar": {
             "outlinewidth": 0,
             "ticks": ""
            },
            "type": "choropleth"
           }
          ],
          "contour": [
           {
            "colorbar": {
             "outlinewidth": 0,
             "ticks": ""
            },
            "colorscale": [
             [
              0,
              "#0d0887"
             ],
             [
              0.1111111111111111,
              "#46039f"
             ],
             [
              0.2222222222222222,
              "#7201a8"
             ],
             [
              0.3333333333333333,
              "#9c179e"
             ],
             [
              0.4444444444444444,
              "#bd3786"
             ],
             [
              0.5555555555555556,
              "#d8576b"
             ],
             [
              0.6666666666666666,
              "#ed7953"
             ],
             [
              0.7777777777777778,
              "#fb9f3a"
             ],
             [
              0.8888888888888888,
              "#fdca26"
             ],
             [
              1,
              "#f0f921"
             ]
            ],
            "type": "contour"
           }
          ],
          "contourcarpet": [
           {
            "colorbar": {
             "outlinewidth": 0,
             "ticks": ""
            },
            "type": "contourcarpet"
           }
          ],
          "heatmap": [
           {
            "colorbar": {
             "outlinewidth": 0,
             "ticks": ""
            },
            "colorscale": [
             [
              0,
              "#0d0887"
             ],
             [
              0.1111111111111111,
              "#46039f"
             ],
             [
              0.2222222222222222,
              "#7201a8"
             ],
             [
              0.3333333333333333,
              "#9c179e"
             ],
             [
              0.4444444444444444,
              "#bd3786"
             ],
             [
              0.5555555555555556,
              "#d8576b"
             ],
             [
              0.6666666666666666,
              "#ed7953"
             ],
             [
              0.7777777777777778,
              "#fb9f3a"
             ],
             [
              0.8888888888888888,
              "#fdca26"
             ],
             [
              1,
              "#f0f921"
             ]
            ],
            "type": "heatmap"
           }
          ],
          "histogram": [
           {
            "marker": {
             "pattern": {
              "fillmode": "overlay",
              "size": 10,
              "solidity": 0.2
             }
            },
            "type": "histogram"
           }
          ],
          "histogram2d": [
           {
            "colorbar": {
             "outlinewidth": 0,
             "ticks": ""
            },
            "colorscale": [
             [
              0,
              "#0d0887"
             ],
             [
              0.1111111111111111,
              "#46039f"
             ],
             [
              0.2222222222222222,
              "#7201a8"
             ],
             [
              0.3333333333333333,
              "#9c179e"
             ],
             [
              0.4444444444444444,
              "#bd3786"
             ],
             [
              0.5555555555555556,
              "#d8576b"
             ],
             [
              0.6666666666666666,
              "#ed7953"
             ],
             [
              0.7777777777777778,
              "#fb9f3a"
             ],
             [
              0.8888888888888888,
              "#fdca26"
             ],
             [
              1,
              "#f0f921"
             ]
            ],
            "type": "histogram2d"
           }
          ],
          "histogram2dcontour": [
           {
            "colorbar": {
             "outlinewidth": 0,
             "ticks": ""
            },
            "colorscale": [
             [
              0,
              "#0d0887"
             ],
             [
              0.1111111111111111,
              "#46039f"
             ],
             [
              0.2222222222222222,
              "#7201a8"
             ],
             [
              0.3333333333333333,
              "#9c179e"
             ],
             [
              0.4444444444444444,
              "#bd3786"
             ],
             [
              0.5555555555555556,
              "#d8576b"
             ],
             [
              0.6666666666666666,
              "#ed7953"
             ],
             [
              0.7777777777777778,
              "#fb9f3a"
             ],
             [
              0.8888888888888888,
              "#fdca26"
             ],
             [
              1,
              "#f0f921"
             ]
            ],
            "type": "histogram2dcontour"
           }
          ],
          "mesh3d": [
           {
            "colorbar": {
             "outlinewidth": 0,
             "ticks": ""
            },
            "type": "mesh3d"
           }
          ],
          "parcoords": [
           {
            "line": {
             "colorbar": {
              "outlinewidth": 0,
              "ticks": ""
             }
            },
            "type": "parcoords"
           }
          ],
          "pie": [
           {
            "automargin": true,
            "type": "pie"
           }
          ],
          "scatter": [
           {
            "fillpattern": {
             "fillmode": "overlay",
             "size": 10,
             "solidity": 0.2
            },
            "type": "scatter"
           }
          ],
          "scatter3d": [
           {
            "line": {
             "colorbar": {
              "outlinewidth": 0,
              "ticks": ""
             }
            },
            "marker": {
             "colorbar": {
              "outlinewidth": 0,
              "ticks": ""
             }
            },
            "type": "scatter3d"
           }
          ],
          "scattercarpet": [
           {
            "marker": {
             "colorbar": {
              "outlinewidth": 0,
              "ticks": ""
             }
            },
            "type": "scattercarpet"
           }
          ],
          "scattergeo": [
           {
            "marker": {
             "colorbar": {
              "outlinewidth": 0,
              "ticks": ""
             }
            },
            "type": "scattergeo"
           }
          ],
          "scattergl": [
           {
            "marker": {
             "colorbar": {
              "outlinewidth": 0,
              "ticks": ""
             }
            },
            "type": "scattergl"
           }
          ],
          "scattermap": [
           {
            "marker": {
             "colorbar": {
              "outlinewidth": 0,
              "ticks": ""
             }
            },
            "type": "scattermap"
           }
          ],
          "scattermapbox": [
           {
            "marker": {
             "colorbar": {
              "outlinewidth": 0,
              "ticks": ""
             }
            },
            "type": "scattermapbox"
           }
          ],
          "scatterpolar": [
           {
            "marker": {
             "colorbar": {
              "outlinewidth": 0,
              "ticks": ""
             }
            },
            "type": "scatterpolar"
           }
          ],
          "scatterpolargl": [
           {
            "marker": {
             "colorbar": {
              "outlinewidth": 0,
              "ticks": ""
             }
            },
            "type": "scatterpolargl"
           }
          ],
          "scatterternary": [
           {
            "marker": {
             "colorbar": {
              "outlinewidth": 0,
              "ticks": ""
             }
            },
            "type": "scatterternary"
           }
          ],
          "surface": [
           {
            "colorbar": {
             "outlinewidth": 0,
             "ticks": ""
            },
            "colorscale": [
             [
              0,
              "#0d0887"
             ],
             [
              0.1111111111111111,
              "#46039f"
             ],
             [
              0.2222222222222222,
              "#7201a8"
             ],
             [
              0.3333333333333333,
              "#9c179e"
             ],
             [
              0.4444444444444444,
              "#bd3786"
             ],
             [
              0.5555555555555556,
              "#d8576b"
             ],
             [
              0.6666666666666666,
              "#ed7953"
             ],
             [
              0.7777777777777778,
              "#fb9f3a"
             ],
             [
              0.8888888888888888,
              "#fdca26"
             ],
             [
              1,
              "#f0f921"
             ]
            ],
            "type": "surface"
           }
          ],
          "table": [
           {
            "cells": {
             "fill": {
              "color": "#EBF0F8"
             },
             "line": {
              "color": "white"
             }
            },
            "header": {
             "fill": {
              "color": "#C8D4E3"
             },
             "line": {
              "color": "white"
             }
            },
            "type": "table"
           }
          ]
         },
         "layout": {
          "annotationdefaults": {
           "arrowcolor": "#2a3f5f",
           "arrowhead": 0,
           "arrowwidth": 1
          },
          "autotypenumbers": "strict",
          "coloraxis": {
           "colorbar": {
            "outlinewidth": 0,
            "ticks": ""
           }
          },
          "colorscale": {
           "diverging": [
            [
             0,
             "#8e0152"
            ],
            [
             0.1,
             "#c51b7d"
            ],
            [
             0.2,
             "#de77ae"
            ],
            [
             0.3,
             "#f1b6da"
            ],
            [
             0.4,
             "#fde0ef"
            ],
            [
             0.5,
             "#f7f7f7"
            ],
            [
             0.6,
             "#e6f5d0"
            ],
            [
             0.7,
             "#b8e186"
            ],
            [
             0.8,
             "#7fbc41"
            ],
            [
             0.9,
             "#4d9221"
            ],
            [
             1,
             "#276419"
            ]
           ],
           "sequential": [
            [
             0,
             "#0d0887"
            ],
            [
             0.1111111111111111,
             "#46039f"
            ],
            [
             0.2222222222222222,
             "#7201a8"
            ],
            [
             0.3333333333333333,
             "#9c179e"
            ],
            [
             0.4444444444444444,
             "#bd3786"
            ],
            [
             0.5555555555555556,
             "#d8576b"
            ],
            [
             0.6666666666666666,
             "#ed7953"
            ],
            [
             0.7777777777777778,
             "#fb9f3a"
            ],
            [
             0.8888888888888888,
             "#fdca26"
            ],
            [
             1,
             "#f0f921"
            ]
           ],
           "sequentialminus": [
            [
             0,
             "#0d0887"
            ],
            [
             0.1111111111111111,
             "#46039f"
            ],
            [
             0.2222222222222222,
             "#7201a8"
            ],
            [
             0.3333333333333333,
             "#9c179e"
            ],
            [
             0.4444444444444444,
             "#bd3786"
            ],
            [
             0.5555555555555556,
             "#d8576b"
            ],
            [
             0.6666666666666666,
             "#ed7953"
            ],
            [
             0.7777777777777778,
             "#fb9f3a"
            ],
            [
             0.8888888888888888,
             "#fdca26"
            ],
            [
             1,
             "#f0f921"
            ]
           ]
          },
          "colorway": [
           "#636efa",
           "#EF553B",
           "#00cc96",
           "#ab63fa",
           "#FFA15A",
           "#19d3f3",
           "#FF6692",
           "#B6E880",
           "#FF97FF",
           "#FECB52"
          ],
          "font": {
           "color": "#2a3f5f"
          },
          "geo": {
           "bgcolor": "white",
           "lakecolor": "white",
           "landcolor": "#E5ECF6",
           "showlakes": true,
           "showland": true,
           "subunitcolor": "white"
          },
          "hoverlabel": {
           "align": "left"
          },
          "hovermode": "closest",
          "mapbox": {
           "style": "light"
          },
          "paper_bgcolor": "white",
          "plot_bgcolor": "#E5ECF6",
          "polar": {
           "angularaxis": {
            "gridcolor": "white",
            "linecolor": "white",
            "ticks": ""
           },
           "bgcolor": "#E5ECF6",
           "radialaxis": {
            "gridcolor": "white",
            "linecolor": "white",
            "ticks": ""
           }
          },
          "scene": {
           "xaxis": {
            "backgroundcolor": "#E5ECF6",
            "gridcolor": "white",
            "gridwidth": 2,
            "linecolor": "white",
            "showbackground": true,
            "ticks": "",
            "zerolinecolor": "white"
           },
           "yaxis": {
            "backgroundcolor": "#E5ECF6",
            "gridcolor": "white",
            "gridwidth": 2,
            "linecolor": "white",
            "showbackground": true,
            "ticks": "",
            "zerolinecolor": "white"
           },
           "zaxis": {
            "backgroundcolor": "#E5ECF6",
            "gridcolor": "white",
            "gridwidth": 2,
            "linecolor": "white",
            "showbackground": true,
            "ticks": "",
            "zerolinecolor": "white"
           }
          },
          "shapedefaults": {
           "line": {
            "color": "#2a3f5f"
           }
          },
          "ternary": {
           "aaxis": {
            "gridcolor": "white",
            "linecolor": "white",
            "ticks": ""
           },
           "baxis": {
            "gridcolor": "white",
            "linecolor": "white",
            "ticks": ""
           },
           "bgcolor": "#E5ECF6",
           "caxis": {
            "gridcolor": "white",
            "linecolor": "white",
            "ticks": ""
           }
          },
          "title": {
           "x": 0.05
          },
          "xaxis": {
           "automargin": true,
           "gridcolor": "white",
           "linecolor": "white",
           "ticks": "",
           "title": {
            "standoff": 15
           },
           "zerolinecolor": "white",
           "zerolinewidth": 2
          },
          "yaxis": {
           "automargin": true,
           "gridcolor": "white",
           "linecolor": "white",
           "ticks": "",
           "title": {
            "standoff": 15
           },
           "zerolinecolor": "white",
           "zerolinewidth": 2
          }
         }
        },
        "xaxis": {
         "anchor": "y",
         "domain": [
          0,
          1
         ],
         "title": {
          "text": "price"
         }
        },
        "yaxis": {
         "anchor": "x",
         "domain": [
          0,
          1
         ],
         "title": {
          "text": "pieces"
         }
        }
       }
      }
     },
     "metadata": {},
     "output_type": "display_data"
    }
   ],
   "source": [
    "px.scatter(DF,\n",
    "           x = 'price', \n",
    "           y = 'pieces',\n",
    "           color = 'theme',\n",
    "           hover_data = 'set_name')"
   ]
  },
  {
   "cell_type": "markdown",
   "id": "d6e80694-c61b-4534-8ccb-77cff9f39c8a",
   "metadata": {},
   "source": [
    "**The more expensive sets do not necessarily have more pieces, there are some outliers that show expensive sets do not necessarily have a hgh piece count. These sets tend to be in the Lego DUPLO theme while in Lego Friends and Lego City we see as high piece count does infact correlate with more expensive price.**\n",
    "\n",
    "**The most expensive set is the Lego City Tuning Workshop at a price of $99.99.**\n",
    "\n",
    "**Lego DUPLO tends to have a lower piece count in comparison to the other two themes, Lego Friends and Lego City**"
   ]
  },
  {
   "cell_type": "code",
   "execution_count": 244,
   "id": "bc9ab567-62f1-4823-b7ef-6b51d3b6a26b",
   "metadata": {},
   "outputs": [
    {
     "data": {
      "text/html": [
       "<div>\n",
       "<style scoped>\n",
       "    .dataframe tbody tr th:only-of-type {\n",
       "        vertical-align: middle;\n",
       "    }\n",
       "\n",
       "    .dataframe tbody tr th {\n",
       "        vertical-align: top;\n",
       "    }\n",
       "\n",
       "    .dataframe thead th {\n",
       "        text-align: right;\n",
       "    }\n",
       "</style>\n",
       "<table border=\"1\" class=\"dataframe\">\n",
       "  <thead>\n",
       "    <tr style=\"text-align: right;\">\n",
       "      <th></th>\n",
       "      <th>item_number</th>\n",
       "      <th>set_name</th>\n",
       "      <th>theme</th>\n",
       "      <th>pieces</th>\n",
       "      <th>price</th>\n",
       "      <th>amazon_price</th>\n",
       "      <th>year</th>\n",
       "      <th>ages</th>\n",
       "      <th>pages</th>\n",
       "      <th>minifigures</th>\n",
       "      <th>packaging</th>\n",
       "      <th>weight</th>\n",
       "      <th>unique_pieces</th>\n",
       "      <th>size</th>\n",
       "      <th>price_difference</th>\n",
       "      <th>amz_cheaper</th>\n",
       "    </tr>\n",
       "  </thead>\n",
       "  <tbody>\n",
       "    <tr>\n",
       "      <th>0</th>\n",
       "      <td>10859</td>\n",
       "      <td>My First Ladybird</td>\n",
       "      <td>DUPLO®</td>\n",
       "      <td>6</td>\n",
       "      <td>4.99</td>\n",
       "      <td>16.00</td>\n",
       "      <td>2018</td>\n",
       "      <td>Ages_1½-3</td>\n",
       "      <td>9</td>\n",
       "      <td>NaN</td>\n",
       "      <td>Box</td>\n",
       "      <td>NaN</td>\n",
       "      <td>5</td>\n",
       "      <td>Large</td>\n",
       "      <td>11.01</td>\n",
       "      <td>False</td>\n",
       "    </tr>\n",
       "    <tr>\n",
       "      <th>1</th>\n",
       "      <td>10860</td>\n",
       "      <td>My First Race Car</td>\n",
       "      <td>DUPLO®</td>\n",
       "      <td>6</td>\n",
       "      <td>4.99</td>\n",
       "      <td>9.45</td>\n",
       "      <td>2018</td>\n",
       "      <td>Ages_1½-3</td>\n",
       "      <td>9</td>\n",
       "      <td>NaN</td>\n",
       "      <td>Box</td>\n",
       "      <td>0.13Kg (0.29 lb)</td>\n",
       "      <td>6</td>\n",
       "      <td>Large</td>\n",
       "      <td>4.46</td>\n",
       "      <td>False</td>\n",
       "    </tr>\n",
       "    <tr>\n",
       "      <th>2</th>\n",
       "      <td>10862</td>\n",
       "      <td>My First Celebration</td>\n",
       "      <td>DUPLO®</td>\n",
       "      <td>41</td>\n",
       "      <td>14.99</td>\n",
       "      <td>39.89</td>\n",
       "      <td>2018</td>\n",
       "      <td>Ages_1½-3</td>\n",
       "      <td>9</td>\n",
       "      <td>NaN</td>\n",
       "      <td>Box</td>\n",
       "      <td>NaN</td>\n",
       "      <td>18</td>\n",
       "      <td>Large</td>\n",
       "      <td>24.90</td>\n",
       "      <td>False</td>\n",
       "    </tr>\n",
       "    <tr>\n",
       "      <th>3</th>\n",
       "      <td>10864</td>\n",
       "      <td>Large Playground Brick Box</td>\n",
       "      <td>DUPLO®</td>\n",
       "      <td>71</td>\n",
       "      <td>49.99</td>\n",
       "      <td>56.69</td>\n",
       "      <td>2018</td>\n",
       "      <td>Ages_2-5</td>\n",
       "      <td>32</td>\n",
       "      <td>2.0</td>\n",
       "      <td>Plastic box</td>\n",
       "      <td>1.41Kg (3.11 lb)</td>\n",
       "      <td>49</td>\n",
       "      <td>Large</td>\n",
       "      <td>6.70</td>\n",
       "      <td>False</td>\n",
       "    </tr>\n",
       "    <tr>\n",
       "      <th>4</th>\n",
       "      <td>10867</td>\n",
       "      <td>Farmers' Market</td>\n",
       "      <td>DUPLO®</td>\n",
       "      <td>26</td>\n",
       "      <td>19.99</td>\n",
       "      <td>36.99</td>\n",
       "      <td>2018</td>\n",
       "      <td>Ages_2-5</td>\n",
       "      <td>9</td>\n",
       "      <td>3.0</td>\n",
       "      <td>Box</td>\n",
       "      <td>NaN</td>\n",
       "      <td>18</td>\n",
       "      <td>Large</td>\n",
       "      <td>17.00</td>\n",
       "      <td>False</td>\n",
       "    </tr>\n",
       "    <tr>\n",
       "      <th>...</th>\n",
       "      <td>...</td>\n",
       "      <td>...</td>\n",
       "      <td>...</td>\n",
       "      <td>...</td>\n",
       "      <td>...</td>\n",
       "      <td>...</td>\n",
       "      <td>...</td>\n",
       "      <td>...</td>\n",
       "      <td>...</td>\n",
       "      <td>...</td>\n",
       "      <td>...</td>\n",
       "      <td>...</td>\n",
       "      <td>...</td>\n",
       "      <td>...</td>\n",
       "      <td>...</td>\n",
       "      <td>...</td>\n",
       "    </tr>\n",
       "    <tr>\n",
       "      <th>70</th>\n",
       "      <td>60251</td>\n",
       "      <td>Monster Truck</td>\n",
       "      <td>City</td>\n",
       "      <td>55</td>\n",
       "      <td>9.99</td>\n",
       "      <td>8.99</td>\n",
       "      <td>2020</td>\n",
       "      <td>Ages_5+</td>\n",
       "      <td>32</td>\n",
       "      <td>1.0</td>\n",
       "      <td>Box</td>\n",
       "      <td>0.14Kg (0.31 lb)</td>\n",
       "      <td>34</td>\n",
       "      <td>Small</td>\n",
       "      <td>-1.00</td>\n",
       "      <td>True</td>\n",
       "    </tr>\n",
       "    <tr>\n",
       "      <th>71</th>\n",
       "      <td>60252</td>\n",
       "      <td>Construction Bulldozer</td>\n",
       "      <td>City</td>\n",
       "      <td>126</td>\n",
       "      <td>19.99</td>\n",
       "      <td>15.99</td>\n",
       "      <td>2020</td>\n",
       "      <td>Ages_4+</td>\n",
       "      <td>84</td>\n",
       "      <td>2.0</td>\n",
       "      <td>Box</td>\n",
       "      <td>0.35Kg (0.78 lb)</td>\n",
       "      <td>81</td>\n",
       "      <td>Small</td>\n",
       "      <td>-4.00</td>\n",
       "      <td>True</td>\n",
       "    </tr>\n",
       "    <tr>\n",
       "      <th>72</th>\n",
       "      <td>60258</td>\n",
       "      <td>Tuning Workshop</td>\n",
       "      <td>City</td>\n",
       "      <td>897</td>\n",
       "      <td>99.99</td>\n",
       "      <td>99.99</td>\n",
       "      <td>2020</td>\n",
       "      <td>Ages_6+</td>\n",
       "      <td>389</td>\n",
       "      <td>7.0</td>\n",
       "      <td>Box</td>\n",
       "      <td>1.63Kg (3.58 lb)</td>\n",
       "      <td>411</td>\n",
       "      <td>Small</td>\n",
       "      <td>0.00</td>\n",
       "      <td>False</td>\n",
       "    </tr>\n",
       "    <tr>\n",
       "      <th>73</th>\n",
       "      <td>60266</td>\n",
       "      <td>Ocean Exploration Ship</td>\n",
       "      <td>City</td>\n",
       "      <td>745</td>\n",
       "      <td>149.99</td>\n",
       "      <td>149.99</td>\n",
       "      <td>2020</td>\n",
       "      <td>Ages_7+</td>\n",
       "      <td>229</td>\n",
       "      <td>8.0</td>\n",
       "      <td>Box</td>\n",
       "      <td>2.28Kg (5.03 lb)</td>\n",
       "      <td>314</td>\n",
       "      <td>Small</td>\n",
       "      <td>0.00</td>\n",
       "      <td>False</td>\n",
       "    </tr>\n",
       "    <tr>\n",
       "      <th>74</th>\n",
       "      <td>60267</td>\n",
       "      <td>Safari Off-Roader</td>\n",
       "      <td>City</td>\n",
       "      <td>168</td>\n",
       "      <td>19.99</td>\n",
       "      <td>17.99</td>\n",
       "      <td>2020</td>\n",
       "      <td>Ages_5+</td>\n",
       "      <td>76</td>\n",
       "      <td>2.0</td>\n",
       "      <td>Box</td>\n",
       "      <td>0.34Kg (0.76 lb)</td>\n",
       "      <td>86</td>\n",
       "      <td>Small</td>\n",
       "      <td>-2.00</td>\n",
       "      <td>True</td>\n",
       "    </tr>\n",
       "  </tbody>\n",
       "</table>\n",
       "<p>75 rows × 16 columns</p>\n",
       "</div>"
      ],
      "text/plain": [
       "    item_number                    set_name   theme  pieces   price  \\\n",
       "0         10859           My First Ladybird  DUPLO®       6    4.99   \n",
       "1         10860           My First Race Car  DUPLO®       6    4.99   \n",
       "2         10862        My First Celebration  DUPLO®      41   14.99   \n",
       "3         10864  Large Playground Brick Box  DUPLO®      71   49.99   \n",
       "4         10867             Farmers' Market  DUPLO®      26   19.99   \n",
       "..          ...                         ...     ...     ...     ...   \n",
       "70        60251               Monster Truck    City      55    9.99   \n",
       "71        60252      Construction Bulldozer    City     126   19.99   \n",
       "72        60258             Tuning Workshop    City     897   99.99   \n",
       "73        60266      Ocean Exploration Ship    City     745  149.99   \n",
       "74        60267           Safari Off-Roader    City     168   19.99   \n",
       "\n",
       "    amazon_price  year       ages  pages  minifigures    packaging  \\\n",
       "0          16.00  2018  Ages_1½-3      9          NaN          Box   \n",
       "1           9.45  2018  Ages_1½-3      9          NaN          Box   \n",
       "2          39.89  2018  Ages_1½-3      9          NaN          Box   \n",
       "3          56.69  2018   Ages_2-5     32          2.0  Plastic box   \n",
       "4          36.99  2018   Ages_2-5      9          3.0          Box   \n",
       "..           ...   ...        ...    ...          ...          ...   \n",
       "70          8.99  2020    Ages_5+     32          1.0          Box   \n",
       "71         15.99  2020    Ages_4+     84          2.0          Box   \n",
       "72         99.99  2020    Ages_6+    389          7.0          Box   \n",
       "73        149.99  2020    Ages_7+    229          8.0          Box   \n",
       "74         17.99  2020    Ages_5+     76          2.0          Box   \n",
       "\n",
       "              weight  unique_pieces   size  price_difference  amz_cheaper  \n",
       "0                NaN              5  Large             11.01        False  \n",
       "1   0.13Kg (0.29 lb)              6  Large              4.46        False  \n",
       "2                NaN             18  Large             24.90        False  \n",
       "3   1.41Kg (3.11 lb)             49  Large              6.70        False  \n",
       "4                NaN             18  Large             17.00        False  \n",
       "..               ...            ...    ...               ...          ...  \n",
       "70  0.14Kg (0.31 lb)             34  Small             -1.00         True  \n",
       "71  0.35Kg (0.78 lb)             81  Small             -4.00         True  \n",
       "72  1.63Kg (3.58 lb)            411  Small              0.00        False  \n",
       "73  2.28Kg (5.03 lb)            314  Small              0.00        False  \n",
       "74  0.34Kg (0.76 lb)             86  Small             -2.00         True  \n",
       "\n",
       "[75 rows x 16 columns]"
      ]
     },
     "execution_count": 244,
     "metadata": {},
     "output_type": "execute_result"
    }
   ],
   "source": [
    "DF_price = DF.copy() \n",
    "DF_price['price_difference'] = (DF_price['amazon_price'] - DF_price['price'])\n",
    "DF_price['amz_cheaper'] = np.where(DF_price['amazon_price'] < DF_price['price'], True, False)\n",
    "DF_price"
   ]
  },
  {
   "cell_type": "code",
   "execution_count": 243,
   "id": "f5ba27e8-51ab-4a47-9024-4470c76e8ef5",
   "metadata": {},
   "outputs": [
    {
     "ename": "ValueError",
     "evalue": "Value of 'x' is not the name of a column in 'data_frame'. Expected one of [0, 1] but received: price_difference",
     "output_type": "error",
     "traceback": [
      "\u001b[0;31m---------------------------------------------------------------------------\u001b[0m",
      "\u001b[0;31mValueError\u001b[0m                                Traceback (most recent call last)",
      "Cell \u001b[0;32mIn[243], line 2\u001b[0m\n\u001b[1;32m      1\u001b[0m DF_price\n\u001b[0;32m----> 2\u001b[0m fig \u001b[38;5;241m=\u001b[39m px\u001b[38;5;241m.\u001b[39mhistogram(DF_price,\n\u001b[1;32m      3\u001b[0m                    nbins\u001b[38;5;241m=\u001b[39m\u001b[38;5;241m120\u001b[39m,\n\u001b[1;32m      4\u001b[0m                    x\u001b[38;5;241m=\u001b[39m\u001b[38;5;124m'\u001b[39m\u001b[38;5;124mprice_difference\u001b[39m\u001b[38;5;124m'\u001b[39m,\n\u001b[1;32m      5\u001b[0m                    color \u001b[38;5;241m=\u001b[39m \u001b[38;5;124m'\u001b[39m\u001b[38;5;124mtheme\u001b[39m\u001b[38;5;124m'\u001b[39m)\n\u001b[1;32m      7\u001b[0m fig\u001b[38;5;241m.\u001b[39mupdate_layout(bargap\u001b[38;5;241m=\u001b[39m\u001b[38;5;241m0.1\u001b[39m,\n\u001b[1;32m      8\u001b[0m                   title\u001b[38;5;241m=\u001b[39m\u001b[38;5;124m'\u001b[39m\u001b[38;5;124mHistogram of Price Differences between Amazon Prices and Regular Prices\u001b[39m\u001b[38;5;124m'\u001b[39m,\n\u001b[1;32m      9\u001b[0m                   xaxis_title \u001b[38;5;241m=\u001b[39m \u001b[38;5;124m'\u001b[39m\u001b[38;5;124mPrice Difference\u001b[39m\u001b[38;5;124m'\u001b[39m,\n\u001b[1;32m     10\u001b[0m                   yaxis_title \u001b[38;5;241m=\u001b[39m \u001b[38;5;124m'\u001b[39m\u001b[38;5;124mCount\u001b[39m\u001b[38;5;124m'\u001b[39m,\n\u001b[1;32m     11\u001b[0m                   title_x\u001b[38;5;241m=\u001b[39m\u001b[38;5;241m0.5\u001b[39m)\n\u001b[1;32m     12\u001b[0m fig\u001b[38;5;241m.\u001b[39mshow()\n",
      "File \u001b[0;32m/opt/anaconda3/lib/python3.13/site-packages/plotly/express/_chart_types.py:490\u001b[0m, in \u001b[0;36mhistogram\u001b[0;34m(data_frame, x, y, color, pattern_shape, facet_row, facet_col, facet_col_wrap, facet_row_spacing, facet_col_spacing, hover_name, hover_data, animation_frame, animation_group, category_orders, labels, color_discrete_sequence, color_discrete_map, pattern_shape_sequence, pattern_shape_map, marginal, opacity, orientation, barmode, barnorm, histnorm, log_x, log_y, range_x, range_y, histfunc, cumulative, nbins, text_auto, title, subtitle, template, width, height)\u001b[0m\n\u001b[1;32m    443\u001b[0m \u001b[38;5;28;01mdef\u001b[39;00m\u001b[38;5;250m \u001b[39m\u001b[38;5;21mhistogram\u001b[39m(\n\u001b[1;32m    444\u001b[0m     data_frame\u001b[38;5;241m=\u001b[39m\u001b[38;5;28;01mNone\u001b[39;00m,\n\u001b[1;32m    445\u001b[0m     x\u001b[38;5;241m=\u001b[39m\u001b[38;5;28;01mNone\u001b[39;00m,\n\u001b[0;32m   (...)\u001b[0m\n\u001b[1;32m    482\u001b[0m     height\u001b[38;5;241m=\u001b[39m\u001b[38;5;28;01mNone\u001b[39;00m,\n\u001b[1;32m    483\u001b[0m ) \u001b[38;5;241m-\u001b[39m\u001b[38;5;241m>\u001b[39m go\u001b[38;5;241m.\u001b[39mFigure:\n\u001b[1;32m    484\u001b[0m \u001b[38;5;250m    \u001b[39m\u001b[38;5;124;03m\"\"\"\u001b[39;00m\n\u001b[1;32m    485\u001b[0m \u001b[38;5;124;03m    In a histogram, rows of `data_frame` are grouped together into a\u001b[39;00m\n\u001b[1;32m    486\u001b[0m \u001b[38;5;124;03m    rectangular mark to visualize the 1D distribution of an aggregate\u001b[39;00m\n\u001b[1;32m    487\u001b[0m \u001b[38;5;124;03m    function `histfunc` (e.g. the count or sum) of the value `y` (or `x` if\u001b[39;00m\n\u001b[1;32m    488\u001b[0m \u001b[38;5;124;03m    `orientation` is `'h'`).\u001b[39;00m\n\u001b[1;32m    489\u001b[0m \u001b[38;5;124;03m    \"\"\"\u001b[39;00m\n\u001b[0;32m--> 490\u001b[0m     \u001b[38;5;28;01mreturn\u001b[39;00m make_figure(\n\u001b[1;32m    491\u001b[0m         args\u001b[38;5;241m=\u001b[39m\u001b[38;5;28mlocals\u001b[39m(),\n\u001b[1;32m    492\u001b[0m         constructor\u001b[38;5;241m=\u001b[39mgo\u001b[38;5;241m.\u001b[39mHistogram,\n\u001b[1;32m    493\u001b[0m         trace_patch\u001b[38;5;241m=\u001b[39m\u001b[38;5;28mdict\u001b[39m(\n\u001b[1;32m    494\u001b[0m             histnorm\u001b[38;5;241m=\u001b[39mhistnorm,\n\u001b[1;32m    495\u001b[0m             histfunc\u001b[38;5;241m=\u001b[39mhistfunc,\n\u001b[1;32m    496\u001b[0m             cumulative\u001b[38;5;241m=\u001b[39m\u001b[38;5;28mdict\u001b[39m(enabled\u001b[38;5;241m=\u001b[39mcumulative),\n\u001b[1;32m    497\u001b[0m         ),\n\u001b[1;32m    498\u001b[0m         layout_patch\u001b[38;5;241m=\u001b[39m\u001b[38;5;28mdict\u001b[39m(barmode\u001b[38;5;241m=\u001b[39mbarmode, barnorm\u001b[38;5;241m=\u001b[39mbarnorm),\n\u001b[1;32m    499\u001b[0m     )\n",
      "File \u001b[0;32m/opt/anaconda3/lib/python3.13/site-packages/plotly/express/_core.py:2491\u001b[0m, in \u001b[0;36mmake_figure\u001b[0;34m(args, constructor, trace_patch, layout_patch)\u001b[0m\n\u001b[1;32m   2488\u001b[0m layout_patch \u001b[38;5;241m=\u001b[39m layout_patch \u001b[38;5;129;01mor\u001b[39;00m {}\n\u001b[1;32m   2489\u001b[0m apply_default_cascade(args)\n\u001b[0;32m-> 2491\u001b[0m args \u001b[38;5;241m=\u001b[39m build_dataframe(args, constructor)\n\u001b[1;32m   2492\u001b[0m \u001b[38;5;28;01mif\u001b[39;00m constructor \u001b[38;5;129;01min\u001b[39;00m [go\u001b[38;5;241m.\u001b[39mTreemap, go\u001b[38;5;241m.\u001b[39mSunburst, go\u001b[38;5;241m.\u001b[39mIcicle] \u001b[38;5;129;01mand\u001b[39;00m args[\u001b[38;5;124m\"\u001b[39m\u001b[38;5;124mpath\u001b[39m\u001b[38;5;124m\"\u001b[39m] \u001b[38;5;129;01mis\u001b[39;00m \u001b[38;5;129;01mnot\u001b[39;00m \u001b[38;5;28;01mNone\u001b[39;00m:\n\u001b[1;32m   2493\u001b[0m     args \u001b[38;5;241m=\u001b[39m process_dataframe_hierarchy(args)\n",
      "File \u001b[0;32m/opt/anaconda3/lib/python3.13/site-packages/plotly/express/_core.py:1737\u001b[0m, in \u001b[0;36mbuild_dataframe\u001b[0;34m(args, constructor)\u001b[0m\n\u001b[1;32m   1734\u001b[0m     args[\u001b[38;5;124m\"\u001b[39m\u001b[38;5;124mcolor\u001b[39m\u001b[38;5;124m\"\u001b[39m] \u001b[38;5;241m=\u001b[39m \u001b[38;5;28;01mNone\u001b[39;00m\n\u001b[1;32m   1735\u001b[0m \u001b[38;5;66;03m# now that things have been prepped, we do the systematic rewriting of `args`\u001b[39;00m\n\u001b[0;32m-> 1737\u001b[0m df_output, wide_id_vars \u001b[38;5;241m=\u001b[39m process_args_into_dataframe(\n\u001b[1;32m   1738\u001b[0m     args,\n\u001b[1;32m   1739\u001b[0m     wide_mode,\n\u001b[1;32m   1740\u001b[0m     var_name,\n\u001b[1;32m   1741\u001b[0m     value_name,\n\u001b[1;32m   1742\u001b[0m     is_pd_like,\n\u001b[1;32m   1743\u001b[0m     native_namespace,\n\u001b[1;32m   1744\u001b[0m )\n\u001b[1;32m   1745\u001b[0m df_output: nw\u001b[38;5;241m.\u001b[39mDataFrame\n\u001b[1;32m   1746\u001b[0m \u001b[38;5;66;03m# now that `df_output` exists and `args` contains only references, we complete\u001b[39;00m\n\u001b[1;32m   1747\u001b[0m \u001b[38;5;66;03m# the special-case and wide-mode handling by further rewriting args and/or mutating\u001b[39;00m\n\u001b[1;32m   1748\u001b[0m \u001b[38;5;66;03m# df_output\u001b[39;00m\n",
      "File \u001b[0;32m/opt/anaconda3/lib/python3.13/site-packages/plotly/express/_core.py:1338\u001b[0m, in \u001b[0;36mprocess_args_into_dataframe\u001b[0;34m(args, wide_mode, var_name, value_name, is_pd_like, native_namespace)\u001b[0m\n\u001b[1;32m   1336\u001b[0m         \u001b[38;5;28;01mif\u001b[39;00m argument \u001b[38;5;241m==\u001b[39m \u001b[38;5;124m\"\u001b[39m\u001b[38;5;124mindex\u001b[39m\u001b[38;5;124m\"\u001b[39m:\n\u001b[1;32m   1337\u001b[0m             err_msg \u001b[38;5;241m+\u001b[39m\u001b[38;5;241m=\u001b[39m \u001b[38;5;124m\"\u001b[39m\u001b[38;5;130;01m\\n\u001b[39;00m\u001b[38;5;124m To use the index, pass it in directly as `df.index`.\u001b[39m\u001b[38;5;124m\"\u001b[39m\n\u001b[0;32m-> 1338\u001b[0m         \u001b[38;5;28;01mraise\u001b[39;00m \u001b[38;5;167;01mValueError\u001b[39;00m(err_msg)\n\u001b[1;32m   1339\u001b[0m \u001b[38;5;28;01melif\u001b[39;00m length \u001b[38;5;129;01mand\u001b[39;00m (actual_len \u001b[38;5;241m:=\u001b[39m \u001b[38;5;28mlen\u001b[39m(df_input)) \u001b[38;5;241m!=\u001b[39m length:\n\u001b[1;32m   1340\u001b[0m     \u001b[38;5;28;01mraise\u001b[39;00m \u001b[38;5;167;01mValueError\u001b[39;00m(\n\u001b[1;32m   1341\u001b[0m         \u001b[38;5;124m\"\u001b[39m\u001b[38;5;124mAll arguments should have the same length. \u001b[39m\u001b[38;5;124m\"\u001b[39m\n\u001b[1;32m   1342\u001b[0m         \u001b[38;5;124m\"\u001b[39m\u001b[38;5;124mThe length of column argument `df[\u001b[39m\u001b[38;5;132;01m%s\u001b[39;00m\u001b[38;5;124m]` is \u001b[39m\u001b[38;5;132;01m%d\u001b[39;00m\u001b[38;5;124m, whereas the \u001b[39m\u001b[38;5;124m\"\u001b[39m\n\u001b[0;32m   (...)\u001b[0m\n\u001b[1;32m   1349\u001b[0m         )\n\u001b[1;32m   1350\u001b[0m     )\n",
      "\u001b[0;31mValueError\u001b[0m: Value of 'x' is not the name of a column in 'data_frame'. Expected one of [0, 1] but received: price_difference"
     ]
    }
   ],
   "source": [
    "fig = px.histogram(DF_price,\n",
    "                   nbins=120,\n",
    "                   x='price_difference',\n",
    "                   color = 'theme')\n",
    "\n",
    "fig.update_layout(bargap=0.1,\n",
    "                  title='Histogram of Price Differences between Amazon Prices and Regular Prices',\n",
    "                  xaxis_title = 'Price Difference',\n",
    "                  yaxis_title = 'Count',\n",
    "                  title_x=0.5)\n",
    "fig.show()"
   ]
  },
  {
   "cell_type": "code",
   "execution_count": 238,
   "id": "f34359fe-ad42-42e2-afd8-dcf0641732b9",
   "metadata": {},
   "outputs": [
    {
     "ename": "AttributeError",
     "evalue": "'DataFrameGroupBy' object has no attribute 'groupby'",
     "output_type": "error",
     "traceback": [
      "\u001b[0;31m---------------------------------------------------------------------------\u001b[0m",
      "\u001b[0;31mAttributeError\u001b[0m                            Traceback (most recent call last)",
      "Cell \u001b[0;32mIn[238], line 1\u001b[0m\n\u001b[0;32m----> 1\u001b[0m DF_price \u001b[38;5;241m=\u001b[39m DF_price\u001b[38;5;241m.\u001b[39mgroupby(\u001b[38;5;124m'\u001b[39m\u001b[38;5;124mtheme\u001b[39m\u001b[38;5;124m'\u001b[39m)\n",
      "File \u001b[0;32m/opt/anaconda3/lib/python3.13/site-packages/pandas/core/groupby/groupby.py:1364\u001b[0m, in \u001b[0;36mGroupBy.__getattr__\u001b[0;34m(self, attr)\u001b[0m\n\u001b[1;32m   1361\u001b[0m \u001b[38;5;28;01mif\u001b[39;00m attr \u001b[38;5;129;01min\u001b[39;00m \u001b[38;5;28mself\u001b[39m\u001b[38;5;241m.\u001b[39mobj:\n\u001b[1;32m   1362\u001b[0m     \u001b[38;5;28;01mreturn\u001b[39;00m \u001b[38;5;28mself\u001b[39m[attr]\n\u001b[0;32m-> 1364\u001b[0m \u001b[38;5;28;01mraise\u001b[39;00m \u001b[38;5;167;01mAttributeError\u001b[39;00m(\n\u001b[1;32m   1365\u001b[0m     \u001b[38;5;124mf\u001b[39m\u001b[38;5;124m\"\u001b[39m\u001b[38;5;124m'\u001b[39m\u001b[38;5;132;01m{\u001b[39;00m\u001b[38;5;28mtype\u001b[39m(\u001b[38;5;28mself\u001b[39m)\u001b[38;5;241m.\u001b[39m\u001b[38;5;18m__name__\u001b[39m\u001b[38;5;132;01m}\u001b[39;00m\u001b[38;5;124m'\u001b[39m\u001b[38;5;124m object has no attribute \u001b[39m\u001b[38;5;124m'\u001b[39m\u001b[38;5;132;01m{\u001b[39;00mattr\u001b[38;5;132;01m}\u001b[39;00m\u001b[38;5;124m'\u001b[39m\u001b[38;5;124m\"\u001b[39m\n\u001b[1;32m   1366\u001b[0m )\n",
      "\u001b[0;31mAttributeError\u001b[0m: 'DataFrameGroupBy' object has no attribute 'groupby'"
     ]
    }
   ],
   "source": [
    "#DF_price = DF_price.groupby('theme')\n",
    "#DF_price['pieces'].describe()"
   ]
  },
  {
   "cell_type": "code",
   "execution_count": null,
   "id": "b726d705-1b64-4096-9ee4-ee1296180950",
   "metadata": {},
   "outputs": [],
   "source": [
    "DF_exp = DF.copy() \n",
    "DF_exp"
   ]
  },
  {
   "cell_type": "code",
   "execution_count": null,
   "id": "808bb791-8464-4b1a-9927-b50becb18113",
   "metadata": {},
   "outputs": [],
   "source": [
    "max_retail = DF_exp['price'].max()\n",
    "print(f\"The max retial price is ${max_retail}\")\n",
    "\n",
    "max_mask = (DF_exp['price'] >= max_retail)\n",
    "DF_exp[max_mask]"
   ]
  },
  {
   "cell_type": "code",
   "execution_count": null,
   "id": "5814b90c-0aae-4b09-8e9b-f93cec73f751",
   "metadata": {},
   "outputs": [],
   "source": [
    "max_amazon = DF_exp['amazon_price'].max()\n",
    "print(f\"The max amazon price is ${max_amazon}\")\n",
    "\n",
    "amazon_mask = (DF_exp['amazon_price'] >= max_amazon)\n",
    "DF_exp[amazon_mask]"
   ]
  },
  {
   "cell_type": "code",
   "execution_count": null,
   "id": "a347faea-fbd7-4d5c-b8e6-37235ec12919",
   "metadata": {},
   "outputs": [],
   "source": [
    "hunnid_mask = (DF_exp['amazon_price'] > 100) | (DF_exp['price'] > 100)\n",
    "DF_exp[hunnid_mask]"
   ]
  },
  {
   "cell_type": "code",
   "execution_count": null,
   "id": "c1c1f0b7-5cb8-4ec5-a929-eecb33d356da",
   "metadata": {},
   "outputs": [],
   "source": [
    "price_fig = px.scatter(\n",
    "    DF,\n",
    "    x='year',\n",
    "    y='price',\n",
    "    title='Does the Price increase over the 3 Years',\n",
    ")\n",
    "\n",
    "#price_fig.update_traces(mode='lines+markers', name='Line + Points')\n",
    "\n",
    "price_fig.update_layout(\n",
    "    xaxis_title='Year',\n",
    "    yaxis_title='Price',\n",
    "    template='plotly_white'\n",
    ")\n",
    "\n",
    "price_fig.update_xaxes(dtick=1)\n",
    "price_fig.show()"
   ]
  },
  {
   "cell_type": "code",
   "execution_count": null,
   "id": "a8a20428-f6d3-4c9f-9535-c58613cb6b1f",
   "metadata": {},
   "outputs": [],
   "source": [
    "piece_fig = px.scatter(\n",
    "    DF,\n",
    "    x='year',\n",
    "    y='pieces',\n",
    "    title='Does the Number of Pieces increase over the 3 Years',\n",
    ")\n",
    "\n",
    "#price_fig.update_traces(mode='lines+markers', name='Line + Points')\n",
    "\n",
    "piece_fig.update_layout(\n",
    "    xaxis_title='Year',\n",
    "    yaxis_title='Pieces',\n",
    "    template='plotly_white'\n",
    ")\n",
    "\n",
    "piece_fig.update_xaxes(dtick=1)\n",
    "piece_fig.show()"
   ]
  },
  {
   "cell_type": "code",
   "execution_count": null,
   "id": "3373dd24-05dd-4f6b-ba32-1cef6dbdcac7",
   "metadata": {},
   "outputs": [],
   "source": [
    "DF_years = DF.copy() \n",
    "mask_2018 = DF_years['year'] == 2018\n",
    "DF_2018 = DF_years[mask_2018]\n",
    "avg_2018 = DF_2018['price'].mean()\n",
    "avg_piece_2018 = DF_2018['pieces'].mean()\n",
    "\n",
    "print(f\"The average price for a Lego set in 2018 was ${avg_2018}\")\n",
    "print(f\"\\nThe average pieces in a Lego set in 2018 was {avg_piece_2018}\")"
   ]
  },
  {
   "cell_type": "code",
   "execution_count": null,
   "id": "147f7e9e-8035-455d-8c79-db5c789564e8",
   "metadata": {},
   "outputs": [],
   "source": [
    "mask_2019 = DF_years['year'] == 2019\n",
    "DF_2019 = DF_years[mask_2019]\n",
    "avg_2019 = DF_2019['price'].mean()\n",
    "avg_piece_2019 = DF_2019['pieces'].mean()\n",
    "\n",
    "print(f\"The average price for a Lego set in 2019 was ${avg_2019}\")\n",
    "print(f\"\\nThe average pieces in a Lego set in 2019 was {avg_piece_2019}\")"
   ]
  },
  {
   "cell_type": "code",
   "execution_count": null,
   "id": "4fdcf70a-44fe-4e1c-a836-99a468429464",
   "metadata": {},
   "outputs": [],
   "source": [
    "mask_2020 = DF_years['year'] == 2020\n",
    "DF_2020 = DF_years[mask_2020]\n",
    "avg_2020 = DF_2020['price'].mean()\n",
    "avg_piece_2020 = DF_2020['pieces'].mean()\n",
    "\n",
    "print(f\"The average price for a Lego set in 2020 was ${avg_2020}\")\n",
    "print(f\"\\nThe average pieces in a Lego set in 2020 was {avg_piece_2020}\")"
   ]
  }
 ],
 "metadata": {
  "kernelspec": {
   "display_name": "Python [conda env:base] *",
   "language": "python",
   "name": "conda-base-py"
  },
  "language_info": {
   "codemirror_mode": {
    "name": "ipython",
    "version": 3
   },
   "file_extension": ".py",
   "mimetype": "text/x-python",
   "name": "python",
   "nbconvert_exporter": "python",
   "pygments_lexer": "ipython3",
   "version": "3.13.5"
  }
 },
 "nbformat": 4,
 "nbformat_minor": 5
}
